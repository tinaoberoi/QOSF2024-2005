{
  "nbformat": 4,
  "nbformat_minor": 0,
  "metadata": {
    "colab": {
      "provenance": [],
      "machine_shape": "hm",
      "gpuType": "A100",
      "collapsed_sections": [
        "yhWWH0pswmGz"
      ]
    },
    "kernelspec": {
      "name": "python3",
      "display_name": "Python 3"
    },
    "language_info": {
      "name": "python"
    },
    "accelerator": "GPU"
  },
  "cells": [
    {
      "cell_type": "markdown",
      "source": [
        "# Installations"
      ],
      "metadata": {
        "id": "yhWWH0pswmGz"
      }
    },
    {
      "cell_type": "code",
      "source": [
        "!pip install docplex\n",
        "!pip install qiskit_optimization\n",
        "!pip install cplex\n",
        "!pip install dwave-ocean-sdk\n",
        "!pip install pylatexenc\n",
        "!pip install qiskit_aer"
      ],
      "metadata": {
        "colab": {
          "base_uri": "https://localhost:8080/"
        },
        "id": "N-7SHy1jwlpc",
        "outputId": "5f96a5d4-6d83-4d54-b77b-4974b7f2c650"
      },
      "execution_count": 1,
      "outputs": [
        {
          "output_type": "stream",
          "name": "stdout",
          "text": [
            "Collecting docplex\n",
            "  Downloading docplex-2.28.240.tar.gz (643 kB)\n",
            "\u001b[?25l     \u001b[90m━━━━━━━━━━━━━━━━━━━━━━━━━━━━━━━━━━━━━━━━\u001b[0m \u001b[32m0.0/643.4 kB\u001b[0m \u001b[31m?\u001b[0m eta \u001b[36m-:--:--\u001b[0m\r\u001b[2K     \u001b[90m━━━━━━━━━━━━━━━━━━━━━━━━━━━━━━━━━━━━━━━━\u001b[0m \u001b[32m643.4/643.4 kB\u001b[0m \u001b[31m27.4 MB/s\u001b[0m eta \u001b[36m0:00:00\u001b[0m\n",
            "\u001b[?25h  Installing build dependencies ... \u001b[?25l\u001b[?25hdone\n",
            "  Getting requirements to build wheel ... \u001b[?25l\u001b[?25hdone\n",
            "  Installing backend dependencies ... \u001b[?25l\u001b[?25hdone\n",
            "  Preparing metadata (pyproject.toml) ... \u001b[?25l\u001b[?25hdone\n",
            "Requirement already satisfied: six in /usr/local/lib/python3.10/dist-packages (from docplex) (1.16.0)\n",
            "Building wheels for collected packages: docplex\n",
            "  Building wheel for docplex (pyproject.toml) ... \u001b[?25l\u001b[?25hdone\n",
            "  Created wheel for docplex: filename=docplex-2.28.240-py3-none-any.whl size=682834 sha256=0f3f9d65df1c03e503ac69a70c48a8c7bc6b307750d4c7e91c09ba689d190fa9\n",
            "  Stored in directory: /root/.cache/pip/wheels/1b/ec/59/cc07dedc67b032a492201f6f26c1f3c9e667ef208c9213ba6d\n",
            "Successfully built docplex\n",
            "Installing collected packages: docplex\n",
            "Successfully installed docplex-2.28.240\n",
            "Collecting qiskit_optimization\n",
            "  Downloading qiskit_optimization-0.6.1-py3-none-any.whl.metadata (8.6 kB)\n",
            "Collecting qiskit>=0.44 (from qiskit_optimization)\n",
            "  Downloading qiskit-1.2.4-cp38-abi3-manylinux_2_17_x86_64.manylinux2014_x86_64.whl.metadata (12 kB)\n",
            "Collecting qiskit-algorithms>=0.2.0 (from qiskit_optimization)\n",
            "  Downloading qiskit_algorithms-0.3.0-py3-none-any.whl.metadata (4.2 kB)\n",
            "Requirement already satisfied: scipy>=1.9.0 in /usr/local/lib/python3.10/dist-packages (from qiskit_optimization) (1.13.1)\n",
            "Requirement already satisfied: numpy>=1.17 in /usr/local/lib/python3.10/dist-packages (from qiskit_optimization) (1.26.4)\n",
            "Requirement already satisfied: docplex!=2.24.231,>=2.21.207 in /usr/local/lib/python3.10/dist-packages (from qiskit_optimization) (2.28.240)\n",
            "Requirement already satisfied: setuptools>=40.1.0 in /usr/local/lib/python3.10/dist-packages (from qiskit_optimization) (71.0.4)\n",
            "Requirement already satisfied: networkx>=2.6.3 in /usr/local/lib/python3.10/dist-packages (from qiskit_optimization) (3.3)\n",
            "Requirement already satisfied: six in /usr/local/lib/python3.10/dist-packages (from docplex!=2.24.231,>=2.21.207->qiskit_optimization) (1.16.0)\n",
            "Collecting rustworkx>=0.15.0 (from qiskit>=0.44->qiskit_optimization)\n",
            "  Downloading rustworkx-0.15.1-cp38-abi3-manylinux_2_17_x86_64.manylinux2014_x86_64.whl.metadata (9.9 kB)\n",
            "Requirement already satisfied: sympy>=1.3 in /usr/local/lib/python3.10/dist-packages (from qiskit>=0.44->qiskit_optimization) (1.13.3)\n",
            "Collecting dill>=0.3 (from qiskit>=0.44->qiskit_optimization)\n",
            "  Downloading dill-0.3.9-py3-none-any.whl.metadata (10 kB)\n",
            "Requirement already satisfied: python-dateutil>=2.8.0 in /usr/local/lib/python3.10/dist-packages (from qiskit>=0.44->qiskit_optimization) (2.8.2)\n",
            "Collecting stevedore>=3.0.0 (from qiskit>=0.44->qiskit_optimization)\n",
            "  Downloading stevedore-5.3.0-py3-none-any.whl.metadata (2.3 kB)\n",
            "Requirement already satisfied: typing-extensions in /usr/local/lib/python3.10/dist-packages (from qiskit>=0.44->qiskit_optimization) (4.12.2)\n",
            "Collecting symengine<0.14,>=0.11 (from qiskit>=0.44->qiskit_optimization)\n",
            "  Downloading symengine-0.13.0-cp310-cp310-manylinux_2_17_x86_64.manylinux2014_x86_64.whl.metadata (1.2 kB)\n",
            "Collecting pbr>=2.0.0 (from stevedore>=3.0.0->qiskit>=0.44->qiskit_optimization)\n",
            "  Downloading pbr-6.1.0-py2.py3-none-any.whl.metadata (3.4 kB)\n",
            "Requirement already satisfied: mpmath<1.4,>=1.1.0 in /usr/local/lib/python3.10/dist-packages (from sympy>=1.3->qiskit>=0.44->qiskit_optimization) (1.3.0)\n",
            "Downloading qiskit_optimization-0.6.1-py3-none-any.whl (167 kB)\n",
            "\u001b[2K   \u001b[90m━━━━━━━━━━━━━━━━━━━━━━━━━━━━━━━━━━━━━━━━\u001b[0m \u001b[32m167.6/167.6 kB\u001b[0m \u001b[31m16.0 MB/s\u001b[0m eta \u001b[36m0:00:00\u001b[0m\n",
            "\u001b[?25hDownloading qiskit-1.2.4-cp38-abi3-manylinux_2_17_x86_64.manylinux2014_x86_64.whl (4.8 MB)\n",
            "\u001b[2K   \u001b[90m━━━━━━━━━━━━━━━━━━━━━━━━━━━━━━━━━━━━━━━━\u001b[0m \u001b[32m4.8/4.8 MB\u001b[0m \u001b[31m38.9 MB/s\u001b[0m eta \u001b[36m0:00:00\u001b[0m\n",
            "\u001b[?25hDownloading qiskit_algorithms-0.3.0-py3-none-any.whl (308 kB)\n",
            "\u001b[2K   \u001b[90m━━━━━━━━━━━━━━━━━━━━━━━━━━━━━━━━━━━━━━━━\u001b[0m \u001b[32m308.6/308.6 kB\u001b[0m \u001b[31m25.4 MB/s\u001b[0m eta \u001b[36m0:00:00\u001b[0m\n",
            "\u001b[?25hDownloading dill-0.3.9-py3-none-any.whl (119 kB)\n",
            "\u001b[2K   \u001b[90m━━━━━━━━━━━━━━━━━━━━━━━━━━━━━━━━━━━━━━━━\u001b[0m \u001b[32m119.4/119.4 kB\u001b[0m \u001b[31m11.4 MB/s\u001b[0m eta \u001b[36m0:00:00\u001b[0m\n",
            "\u001b[?25hDownloading rustworkx-0.15.1-cp38-abi3-manylinux_2_17_x86_64.manylinux2014_x86_64.whl (2.0 MB)\n",
            "\u001b[2K   \u001b[90m━━━━━━━━━━━━━━━━━━━━━━━━━━━━━━━━━━━━━━━━\u001b[0m \u001b[32m2.0/2.0 MB\u001b[0m \u001b[31m6.9 MB/s\u001b[0m eta \u001b[36m0:00:00\u001b[0m\n",
            "\u001b[?25hDownloading stevedore-5.3.0-py3-none-any.whl (49 kB)\n",
            "\u001b[2K   \u001b[90m━━━━━━━━━━━━━━━━━━━━━━━━━━━━━━━━━━━━━━━━\u001b[0m \u001b[32m49.7/49.7 kB\u001b[0m \u001b[31m4.5 MB/s\u001b[0m eta \u001b[36m0:00:00\u001b[0m\n",
            "\u001b[?25hDownloading symengine-0.13.0-cp310-cp310-manylinux_2_17_x86_64.manylinux2014_x86_64.whl (49.7 MB)\n",
            "\u001b[2K   \u001b[90m━━━━━━━━━━━━━━━━━━━━━━━━━━━━━━━━━━━━━━━━\u001b[0m \u001b[32m49.7/49.7 MB\u001b[0m \u001b[31m40.8 MB/s\u001b[0m eta \u001b[36m0:00:00\u001b[0m\n",
            "\u001b[?25hDownloading pbr-6.1.0-py2.py3-none-any.whl (108 kB)\n",
            "\u001b[2K   \u001b[90m━━━━━━━━━━━━━━━━━━━━━━━━━━━━━━━━━━━━━━━━\u001b[0m \u001b[32m108.5/108.5 kB\u001b[0m \u001b[31m8.4 MB/s\u001b[0m eta \u001b[36m0:00:00\u001b[0m\n",
            "\u001b[?25hInstalling collected packages: symengine, rustworkx, pbr, dill, stevedore, qiskit, qiskit-algorithms, qiskit_optimization\n",
            "Successfully installed dill-0.3.9 pbr-6.1.0 qiskit-1.2.4 qiskit-algorithms-0.3.0 qiskit_optimization-0.6.1 rustworkx-0.15.1 stevedore-5.3.0 symengine-0.13.0\n",
            "Collecting cplex\n",
            "  Downloading cplex-22.1.1.2-cp310-cp310-manylinux1_x86_64.whl.metadata (56 kB)\n",
            "\u001b[2K     \u001b[90m━━━━━━━━━━━━━━━━━━━━━━━━━━━━━━━━━━━━━━━━\u001b[0m \u001b[32m57.0/57.0 kB\u001b[0m \u001b[31m5.3 MB/s\u001b[0m eta \u001b[36m0:00:00\u001b[0m\n",
            "\u001b[?25hDownloading cplex-22.1.1.2-cp310-cp310-manylinux1_x86_64.whl (44.2 MB)\n",
            "\u001b[2K   \u001b[90m━━━━━━━━━━━━━━━━━━━━━━━━━━━━━━━━━━━━━━━━\u001b[0m \u001b[32m44.2/44.2 MB\u001b[0m \u001b[31m3.3 MB/s\u001b[0m eta \u001b[36m0:00:00\u001b[0m\n",
            "\u001b[?25hInstalling collected packages: cplex\n",
            "Successfully installed cplex-22.1.1.2\n",
            "Collecting dwave-ocean-sdk\n",
            "  Downloading dwave_ocean_sdk-8.0.1-py3-none-any.whl.metadata (5.7 kB)\n",
            "Collecting dimod==0.12.17 (from dwave-ocean-sdk)\n",
            "  Downloading dimod-0.12.17-cp310-cp310-manylinux_2_17_x86_64.manylinux2014_x86_64.whl.metadata (4.1 kB)\n",
            "Collecting dwave-cloud-client==0.13.1 (from dwave-ocean-sdk)\n",
            "  Downloading dwave_cloud_client-0.13.1-py3-none-any.whl.metadata (5.5 kB)\n",
            "Collecting dwave-gate==0.3.2 (from dwave-ocean-sdk)\n",
            "  Downloading dwave_gate-0.3.2-cp310-cp310-manylinux_2_17_x86_64.manylinux2014_x86_64.whl.metadata (18 kB)\n",
            "Collecting dwave-greedy==0.3.0 (from dwave-ocean-sdk)\n",
            "  Downloading dwave_greedy-0.3.0-py3-none-any.whl.metadata (4.6 kB)\n",
            "Collecting dwave-hybrid==0.6.12 (from dwave-ocean-sdk)\n",
            "  Downloading dwave_hybrid-0.6.12-py3-none-any.whl.metadata (4.4 kB)\n",
            "Collecting dwave-inspector==0.5.1 (from dwave-ocean-sdk)\n",
            "  Downloading dwave_inspector-0.5.1-py3-none-any.whl.metadata (4.4 kB)\n",
            "Collecting dwave-neal==0.6.0 (from dwave-ocean-sdk)\n",
            "  Downloading dwave_neal-0.6.0-py3-none-any.whl.metadata (3.0 kB)\n",
            "Collecting dwave-networkx==0.8.15 (from dwave-ocean-sdk)\n",
            "  Downloading dwave_networkx-0.8.15-py3-none-any.whl.metadata (2.6 kB)\n",
            "Collecting dwave-optimization==0.3.0 (from dwave-ocean-sdk)\n",
            "  Downloading dwave_optimization-0.3.0-cp310-cp310-manylinux_2_24_x86_64.manylinux_2_28_x86_64.whl.metadata (17 kB)\n",
            "Collecting dwave-preprocessing==0.6.6 (from dwave-ocean-sdk)\n",
            "  Downloading dwave_preprocessing-0.6.6-cp310-cp310-manylinux_2_17_x86_64.manylinux2014_x86_64.whl.metadata (3.3 kB)\n",
            "Collecting dwave-samplers==1.3.0 (from dwave-ocean-sdk)\n",
            "  Downloading dwave_samplers-1.3.0-cp310-cp310-manylinux_2_17_x86_64.manylinux2014_x86_64.whl.metadata (9.8 kB)\n",
            "Collecting dwave-system==1.26.0 (from dwave-ocean-sdk)\n",
            "  Downloading dwave_system-1.26.0-py3-none-any.whl.metadata (3.8 kB)\n",
            "Collecting dwave-tabu==0.5.0 (from dwave-ocean-sdk)\n",
            "  Downloading dwave_tabu-0.5.0-py3-none-any.whl.metadata (3.3 kB)\n",
            "Collecting dwavebinarycsp==0.3.0 (from dwave-ocean-sdk)\n",
            "  Downloading dwavebinarycsp-0.3.0-py3-none-any.whl.metadata (3.0 kB)\n",
            "Collecting minorminer==0.2.15 (from dwave-ocean-sdk)\n",
            "  Downloading minorminer-0.2.15-cp310-cp310-manylinux_2_17_x86_64.manylinux2014_x86_64.whl.metadata (20 kB)\n",
            "Collecting penaltymodel==1.1.0 (from dwave-ocean-sdk)\n",
            "  Downloading penaltymodel-1.1.0-py3-none-any.whl.metadata (6.5 kB)\n",
            "Requirement already satisfied: numpy>=1.17.3 in /usr/local/lib/python3.10/dist-packages (from dimod==0.12.17->dwave-ocean-sdk) (1.26.4)\n",
            "Requirement already satisfied: requests<3,>=2.25 in /usr/local/lib/python3.10/dist-packages (from requests[socks]<3,>=2.25->dwave-cloud-client==0.13.1->dwave-ocean-sdk) (2.32.3)\n",
            "Requirement already satisfied: urllib3<3,>=1.26 in /usr/local/lib/python3.10/dist-packages (from dwave-cloud-client==0.13.1->dwave-ocean-sdk) (2.2.3)\n",
            "Requirement already satisfied: pydantic<3,>=2 in /usr/local/lib/python3.10/dist-packages (from dwave-cloud-client==0.13.1->dwave-ocean-sdk) (2.9.2)\n",
            "Collecting homebase<2,>=1.0 (from dwave-cloud-client==0.13.1->dwave-ocean-sdk)\n",
            "  Downloading homebase-1.0.1-py2.py3-none-any.whl.metadata (3.3 kB)\n",
            "Requirement already satisfied: click<9,>=7.0 in /usr/local/lib/python3.10/dist-packages (from dwave-cloud-client==0.13.1->dwave-ocean-sdk) (8.1.7)\n",
            "Requirement already satisfied: python-dateutil<3,>=2.7 in /usr/local/lib/python3.10/dist-packages (from dwave-cloud-client==0.13.1->dwave-ocean-sdk) (2.8.2)\n",
            "Collecting plucky<0.5,>=0.4.3 (from dwave-cloud-client==0.13.1->dwave-ocean-sdk)\n",
            "  Downloading plucky-0.4.3-py2.py3-none-any.whl.metadata (4.4 kB)\n",
            "Collecting diskcache<6,>=5.2.1 (from dwave-cloud-client==0.13.1->dwave-ocean-sdk)\n",
            "  Downloading diskcache-5.6.3-py3-none-any.whl.metadata (20 kB)\n",
            "Requirement already satisfied: packaging>=19 in /usr/local/lib/python3.10/dist-packages (from dwave-cloud-client==0.13.1->dwave-ocean-sdk) (24.1)\n",
            "Requirement already satisfied: werkzeug<4,>=2.2 in /usr/local/lib/python3.10/dist-packages (from dwave-cloud-client==0.13.1->dwave-ocean-sdk) (3.0.4)\n",
            "Requirement already satisfied: typing-extensions<5,>=4.5.0 in /usr/local/lib/python3.10/dist-packages (from dwave-cloud-client==0.13.1->dwave-ocean-sdk) (4.12.2)\n",
            "Collecting authlib<2,>=1.2 (from dwave-cloud-client==0.13.1->dwave-ocean-sdk)\n",
            "  Downloading Authlib-1.3.2-py2.py3-none-any.whl.metadata (3.9 kB)\n",
            "Requirement already satisfied: importlib-metadata>=5.0.0 in /usr/local/lib/python3.10/dist-packages (from dwave-cloud-client==0.13.1->dwave-ocean-sdk) (8.4.0)\n",
            "Collecting orjson>=3.10 (from dwave-cloud-client==0.13.1->dwave-ocean-sdk)\n",
            "  Downloading orjson-3.10.7-cp310-cp310-manylinux_2_17_x86_64.manylinux2014_x86_64.whl.metadata (50 kB)\n",
            "\u001b[2K     \u001b[90m━━━━━━━━━━━━━━━━━━━━━━━━━━━━━━━━━━━━━━━━\u001b[0m \u001b[32m50.4/50.4 kB\u001b[0m \u001b[31m4.1 MB/s\u001b[0m eta \u001b[36m0:00:00\u001b[0m\n",
            "\u001b[?25hRequirement already satisfied: networkx in /usr/local/lib/python3.10/dist-packages (from dwave-hybrid==0.6.12->dwave-ocean-sdk) (3.3)\n",
            "Requirement already satisfied: Flask<4,>=2.2 in /usr/local/lib/python3.10/dist-packages (from dwave-inspector==0.5.1->dwave-ocean-sdk) (2.2.5)\n",
            "Requirement already satisfied: scipy>=1.7.3 in /usr/local/lib/python3.10/dist-packages (from dwave-system==1.26.0->dwave-ocean-sdk) (1.13.1)\n",
            "Collecting fasteners>=0.15 (from minorminer==0.2.15->dwave-ocean-sdk)\n",
            "  Downloading fasteners-0.19-py3-none-any.whl.metadata (4.9 kB)\n",
            "Requirement already satisfied: cryptography in /usr/local/lib/python3.10/dist-packages (from authlib<2,>=1.2->dwave-cloud-client==0.13.1->dwave-ocean-sdk) (43.0.1)\n",
            "Requirement already satisfied: Jinja2>=3.0 in /usr/local/lib/python3.10/dist-packages (from Flask<4,>=2.2->dwave-inspector==0.5.1->dwave-ocean-sdk) (3.1.4)\n",
            "Requirement already satisfied: itsdangerous>=2.0 in /usr/local/lib/python3.10/dist-packages (from Flask<4,>=2.2->dwave-inspector==0.5.1->dwave-ocean-sdk) (2.2.0)\n",
            "Requirement already satisfied: zipp>=0.5 in /usr/local/lib/python3.10/dist-packages (from importlib-metadata>=5.0.0->dwave-cloud-client==0.13.1->dwave-ocean-sdk) (3.20.2)\n",
            "Requirement already satisfied: annotated-types>=0.6.0 in /usr/local/lib/python3.10/dist-packages (from pydantic<3,>=2->dwave-cloud-client==0.13.1->dwave-ocean-sdk) (0.7.0)\n",
            "Requirement already satisfied: pydantic-core==2.23.4 in /usr/local/lib/python3.10/dist-packages (from pydantic<3,>=2->dwave-cloud-client==0.13.1->dwave-ocean-sdk) (2.23.4)\n",
            "Requirement already satisfied: six>=1.5 in /usr/local/lib/python3.10/dist-packages (from python-dateutil<3,>=2.7->dwave-cloud-client==0.13.1->dwave-ocean-sdk) (1.16.0)\n",
            "Requirement already satisfied: charset-normalizer<4,>=2 in /usr/local/lib/python3.10/dist-packages (from requests<3,>=2.25->requests[socks]<3,>=2.25->dwave-cloud-client==0.13.1->dwave-ocean-sdk) (3.3.2)\n",
            "Requirement already satisfied: idna<4,>=2.5 in /usr/local/lib/python3.10/dist-packages (from requests<3,>=2.25->requests[socks]<3,>=2.25->dwave-cloud-client==0.13.1->dwave-ocean-sdk) (3.10)\n",
            "Requirement already satisfied: certifi>=2017.4.17 in /usr/local/lib/python3.10/dist-packages (from requests<3,>=2.25->requests[socks]<3,>=2.25->dwave-cloud-client==0.13.1->dwave-ocean-sdk) (2024.8.30)\n",
            "Requirement already satisfied: PySocks!=1.5.7,>=1.5.6 in /usr/local/lib/python3.10/dist-packages (from requests[socks]<3,>=2.25->dwave-cloud-client==0.13.1->dwave-ocean-sdk) (1.7.1)\n",
            "Requirement already satisfied: MarkupSafe>=2.1.1 in /usr/local/lib/python3.10/dist-packages (from werkzeug<4,>=2.2->dwave-cloud-client==0.13.1->dwave-ocean-sdk) (2.1.5)\n",
            "Requirement already satisfied: cffi>=1.12 in /usr/local/lib/python3.10/dist-packages (from cryptography->authlib<2,>=1.2->dwave-cloud-client==0.13.1->dwave-ocean-sdk) (1.17.1)\n",
            "Requirement already satisfied: pycparser in /usr/local/lib/python3.10/dist-packages (from cffi>=1.12->cryptography->authlib<2,>=1.2->dwave-cloud-client==0.13.1->dwave-ocean-sdk) (2.22)\n",
            "Downloading dwave_ocean_sdk-8.0.1-py3-none-any.whl (8.4 kB)\n",
            "Downloading dimod-0.12.17-cp310-cp310-manylinux_2_17_x86_64.manylinux2014_x86_64.whl (9.0 MB)\n",
            "\u001b[2K   \u001b[90m━━━━━━━━━━━━━━━━━━━━━━━━━━━━━━━━━━━━━━━━\u001b[0m \u001b[32m9.0/9.0 MB\u001b[0m \u001b[31m83.0 MB/s\u001b[0m eta \u001b[36m0:00:00\u001b[0m\n",
            "\u001b[?25hDownloading dwave_cloud_client-0.13.1-py3-none-any.whl (158 kB)\n",
            "\u001b[2K   \u001b[90m━━━━━━━━━━━━━━━━━━━━━━━━━━━━━━━━━━━━━━━━\u001b[0m \u001b[32m158.9/158.9 kB\u001b[0m \u001b[31m15.3 MB/s\u001b[0m eta \u001b[36m0:00:00\u001b[0m\n",
            "\u001b[?25hDownloading dwave_gate-0.3.2-cp310-cp310-manylinux_2_17_x86_64.manylinux2014_x86_64.whl (1.5 MB)\n",
            "\u001b[2K   \u001b[90m━━━━━━━━━━━━━━━━━━━━━━━━━━━━━━━━━━━━━━━━\u001b[0m \u001b[32m1.5/1.5 MB\u001b[0m \u001b[31m69.0 MB/s\u001b[0m eta \u001b[36m0:00:00\u001b[0m\n",
            "\u001b[?25hDownloading dwave_greedy-0.3.0-py3-none-any.whl (10 kB)\n",
            "Downloading dwave_hybrid-0.6.12-py3-none-any.whl (77 kB)\n",
            "\u001b[2K   \u001b[90m━━━━━━━━━━━━━━━━━━━━━━━━━━━━━━━━━━━━━━━━\u001b[0m \u001b[32m77.5/77.5 kB\u001b[0m \u001b[31m7.1 MB/s\u001b[0m eta \u001b[36m0:00:00\u001b[0m\n",
            "\u001b[?25hDownloading dwave_inspector-0.5.1-py3-none-any.whl (31 kB)\n",
            "Downloading dwave_neal-0.6.0-py3-none-any.whl (8.7 kB)\n",
            "Downloading dwave_networkx-0.8.15-py3-none-any.whl (102 kB)\n",
            "\u001b[2K   \u001b[90m━━━━━━━━━━━━━━━━━━━━━━━━━━━━━━━━━━━━━━━━\u001b[0m \u001b[32m102.3/102.3 kB\u001b[0m \u001b[31m11.0 MB/s\u001b[0m eta \u001b[36m0:00:00\u001b[0m\n",
            "\u001b[?25hDownloading dwave_optimization-0.3.0-cp310-cp310-manylinux_2_24_x86_64.manylinux_2_28_x86_64.whl (2.4 MB)\n",
            "\u001b[2K   \u001b[90m━━━━━━━━━━━━━━━━━━━━━━━━━━━━━━━━━━━━━━━━\u001b[0m \u001b[32m2.4/2.4 MB\u001b[0m \u001b[31m4.0 MB/s\u001b[0m eta \u001b[36m0:00:00\u001b[0m\n",
            "\u001b[?25hDownloading dwave_preprocessing-0.6.6-cp310-cp310-manylinux_2_17_x86_64.manylinux2014_x86_64.whl (3.3 MB)\n",
            "\u001b[2K   \u001b[90m━━━━━━━━━━━━━━━━━━━━━━━━━━━━━━━━━━━━━━━━\u001b[0m \u001b[32m3.3/3.3 MB\u001b[0m \u001b[31m39.5 MB/s\u001b[0m eta \u001b[36m0:00:00\u001b[0m\n",
            "\u001b[?25hDownloading dwave_samplers-1.3.0-cp310-cp310-manylinux_2_17_x86_64.manylinux2014_x86_64.whl (6.7 MB)\n",
            "\u001b[2K   \u001b[90m━━━━━━━━━━━━━━━━━━━━━━━━━━━━━━━━━━━━━━━━\u001b[0m \u001b[32m6.7/6.7 MB\u001b[0m \u001b[31m17.9 MB/s\u001b[0m eta \u001b[36m0:00:00\u001b[0m\n",
            "\u001b[?25hDownloading dwave_system-1.26.0-py3-none-any.whl (107 kB)\n",
            "\u001b[2K   \u001b[90m━━━━━━━━━━━━━━━━━━━━━━━━━━━━━━━━━━━━━━━━\u001b[0m \u001b[32m107.0/107.0 kB\u001b[0m \u001b[31m10.5 MB/s\u001b[0m eta \u001b[36m0:00:00\u001b[0m\n",
            "\u001b[?25hDownloading dwave_tabu-0.5.0-py3-none-any.whl (9.2 kB)\n",
            "Downloading dwavebinarycsp-0.3.0-py3-none-any.whl (35 kB)\n",
            "Downloading minorminer-0.2.15-cp310-cp310-manylinux_2_17_x86_64.manylinux2014_x86_64.whl (3.3 MB)\n",
            "\u001b[2K   \u001b[90m━━━━━━━━━━━━━━━━━━━━━━━━━━━━━━━━━━━━━━━━\u001b[0m \u001b[32m3.3/3.3 MB\u001b[0m \u001b[31m10.7 MB/s\u001b[0m eta \u001b[36m0:00:00\u001b[0m\n",
            "\u001b[?25hDownloading penaltymodel-1.1.0-py3-none-any.whl (36 kB)\n",
            "Downloading Authlib-1.3.2-py2.py3-none-any.whl (225 kB)\n",
            "\u001b[2K   \u001b[90m━━━━━━━━━━━━━━━━━━━━━━━━━━━━━━━━━━━━━━━━\u001b[0m \u001b[32m225.1/225.1 kB\u001b[0m \u001b[31m22.2 MB/s\u001b[0m eta \u001b[36m0:00:00\u001b[0m\n",
            "\u001b[?25hDownloading diskcache-5.6.3-py3-none-any.whl (45 kB)\n",
            "\u001b[2K   \u001b[90m━━━━━━━━━━━━━━━━━━━━━━━━━━━━━━━━━━━━━━━━\u001b[0m \u001b[32m45.5/45.5 kB\u001b[0m \u001b[31m3.9 MB/s\u001b[0m eta \u001b[36m0:00:00\u001b[0m\n",
            "\u001b[?25hDownloading fasteners-0.19-py3-none-any.whl (18 kB)\n",
            "Downloading homebase-1.0.1-py2.py3-none-any.whl (11 kB)\n",
            "Downloading orjson-3.10.7-cp310-cp310-manylinux_2_17_x86_64.manylinux2014_x86_64.whl (141 kB)\n",
            "\u001b[2K   \u001b[90m━━━━━━━━━━━━━━━━━━━━━━━━━━━━━━━━━━━━━━━━\u001b[0m \u001b[32m141.9/141.9 kB\u001b[0m \u001b[31m15.1 MB/s\u001b[0m eta \u001b[36m0:00:00\u001b[0m\n",
            "\u001b[?25hDownloading plucky-0.4.3-py2.py3-none-any.whl (10 kB)\n",
            "Installing collected packages: plucky, homebase, orjson, fasteners, dwave-optimization, dwave-gate, diskcache, dimod, penaltymodel, dwave-samplers, dwave-preprocessing, dwave-networkx, minorminer, dwavebinarycsp, dwave-tabu, dwave-neal, dwave-greedy, authlib, dwave-cloud-client, dwave-system, dwave-inspector, dwave-hybrid, dwave-ocean-sdk\n",
            "Successfully installed authlib-1.3.2 dimod-0.12.17 diskcache-5.6.3 dwave-cloud-client-0.13.1 dwave-gate-0.3.2 dwave-greedy-0.3.0 dwave-hybrid-0.6.12 dwave-inspector-0.5.1 dwave-neal-0.6.0 dwave-networkx-0.8.15 dwave-ocean-sdk-8.0.1 dwave-optimization-0.3.0 dwave-preprocessing-0.6.6 dwave-samplers-1.3.0 dwave-system-1.26.0 dwave-tabu-0.5.0 dwavebinarycsp-0.3.0 fasteners-0.19 homebase-1.0.1 minorminer-0.2.15 orjson-3.10.7 penaltymodel-1.1.0 plucky-0.4.3\n",
            "Collecting pylatexenc\n",
            "  Downloading pylatexenc-2.10.tar.gz (162 kB)\n",
            "\u001b[2K     \u001b[90m━━━━━━━━━━━━━━━━━━━━━━━━━━━━━━━━━━━━━━━━\u001b[0m \u001b[32m162.6/162.6 kB\u001b[0m \u001b[31m13.1 MB/s\u001b[0m eta \u001b[36m0:00:00\u001b[0m\n",
            "\u001b[?25h  Preparing metadata (setup.py) ... \u001b[?25l\u001b[?25hdone\n",
            "Building wheels for collected packages: pylatexenc\n",
            "  Building wheel for pylatexenc (setup.py) ... \u001b[?25l\u001b[?25hdone\n",
            "  Created wheel for pylatexenc: filename=pylatexenc-2.10-py3-none-any.whl size=136817 sha256=10370f44f46b5016d0bf3a089b8622197e5fc145363c144879caba5179be4d3a\n",
            "  Stored in directory: /root/.cache/pip/wheels/d3/31/8b/e09b0386afd80cfc556c00408c9aeea5c35c4d484a9c762fd5\n",
            "Successfully built pylatexenc\n",
            "Installing collected packages: pylatexenc\n",
            "Successfully installed pylatexenc-2.10\n",
            "Collecting qiskit_aer\n",
            "  Downloading qiskit_aer-0.15.1-cp310-cp310-manylinux_2_17_x86_64.manylinux2014_x86_64.whl.metadata (8.0 kB)\n",
            "Requirement already satisfied: qiskit>=1.1.0 in /usr/local/lib/python3.10/dist-packages (from qiskit_aer) (1.2.4)\n",
            "Requirement already satisfied: numpy>=1.16.3 in /usr/local/lib/python3.10/dist-packages (from qiskit_aer) (1.26.4)\n",
            "Requirement already satisfied: scipy>=1.0 in /usr/local/lib/python3.10/dist-packages (from qiskit_aer) (1.13.1)\n",
            "Requirement already satisfied: psutil>=5 in /usr/local/lib/python3.10/dist-packages (from qiskit_aer) (5.9.5)\n",
            "Requirement already satisfied: rustworkx>=0.15.0 in /usr/local/lib/python3.10/dist-packages (from qiskit>=1.1.0->qiskit_aer) (0.15.1)\n",
            "Requirement already satisfied: sympy>=1.3 in /usr/local/lib/python3.10/dist-packages (from qiskit>=1.1.0->qiskit_aer) (1.13.3)\n",
            "Requirement already satisfied: dill>=0.3 in /usr/local/lib/python3.10/dist-packages (from qiskit>=1.1.0->qiskit_aer) (0.3.9)\n",
            "Requirement already satisfied: python-dateutil>=2.8.0 in /usr/local/lib/python3.10/dist-packages (from qiskit>=1.1.0->qiskit_aer) (2.8.2)\n",
            "Requirement already satisfied: stevedore>=3.0.0 in /usr/local/lib/python3.10/dist-packages (from qiskit>=1.1.0->qiskit_aer) (5.3.0)\n",
            "Requirement already satisfied: typing-extensions in /usr/local/lib/python3.10/dist-packages (from qiskit>=1.1.0->qiskit_aer) (4.12.2)\n",
            "Requirement already satisfied: symengine<0.14,>=0.11 in /usr/local/lib/python3.10/dist-packages (from qiskit>=1.1.0->qiskit_aer) (0.13.0)\n",
            "Requirement already satisfied: six>=1.5 in /usr/local/lib/python3.10/dist-packages (from python-dateutil>=2.8.0->qiskit>=1.1.0->qiskit_aer) (1.16.0)\n",
            "Requirement already satisfied: pbr>=2.0.0 in /usr/local/lib/python3.10/dist-packages (from stevedore>=3.0.0->qiskit>=1.1.0->qiskit_aer) (6.1.0)\n",
            "Requirement already satisfied: mpmath<1.4,>=1.1.0 in /usr/local/lib/python3.10/dist-packages (from sympy>=1.3->qiskit>=1.1.0->qiskit_aer) (1.3.0)\n",
            "Downloading qiskit_aer-0.15.1-cp310-cp310-manylinux_2_17_x86_64.manylinux2014_x86_64.whl (12.3 MB)\n",
            "\u001b[2K   \u001b[90m━━━━━━━━━━━━━━━━━━━━━━━━━━━━━━━━━━━━━━━━\u001b[0m \u001b[32m12.3/12.3 MB\u001b[0m \u001b[31m86.0 MB/s\u001b[0m eta \u001b[36m0:00:00\u001b[0m\n",
            "\u001b[?25hInstalling collected packages: qiskit_aer\n",
            "Successfully installed qiskit_aer-0.15.1\n"
          ]
        }
      ]
    },
    {
      "cell_type": "code",
      "source": [
        "!pip install qiskit-aer-gpu"
      ],
      "metadata": {
        "colab": {
          "base_uri": "https://localhost:8080/",
          "height": 791
        },
        "id": "DiOk3dtc0OG-",
        "outputId": "63accf2d-6c3d-472d-8952-2b5ab6907313"
      },
      "execution_count": 16,
      "outputs": [
        {
          "output_type": "stream",
          "name": "stdout",
          "text": [
            "Collecting qiskit-aer-gpu\n",
            "  Using cached qiskit_aer_gpu-0.15.1-cp310-cp310-manylinux_2_17_x86_64.manylinux2014_x86_64.whl.metadata (8.3 kB)\n",
            "Requirement already satisfied: qiskit>=1.1.0 in /usr/local/lib/python3.10/dist-packages (from qiskit-aer-gpu) (1.2.4)\n",
            "Requirement already satisfied: numpy>=1.16.3 in /usr/local/lib/python3.10/dist-packages (from qiskit-aer-gpu) (1.26.4)\n",
            "Requirement already satisfied: scipy>=1.0 in /usr/local/lib/python3.10/dist-packages (from qiskit-aer-gpu) (1.13.1)\n",
            "Requirement already satisfied: psutil>=5 in /usr/local/lib/python3.10/dist-packages (from qiskit-aer-gpu) (5.9.5)\n",
            "Requirement already satisfied: nvidia-cuda-runtime-cu12>=12.1.105 in /usr/local/lib/python3.10/dist-packages (from qiskit-aer-gpu) (12.6.77)\n",
            "Requirement already satisfied: nvidia-nvjitlink-cu12 in /usr/local/lib/python3.10/dist-packages (from qiskit-aer-gpu) (12.6.77)\n",
            "Requirement already satisfied: nvidia-cublas-cu12>=12.1.3.1 in /usr/local/lib/python3.10/dist-packages (from qiskit-aer-gpu) (12.6.3.3)\n",
            "Requirement already satisfied: nvidia-cusolver-cu12>=11.4.5.107 in /usr/local/lib/python3.10/dist-packages (from qiskit-aer-gpu) (11.7.1.2)\n",
            "Requirement already satisfied: nvidia-cusparse-cu12>=12.1.0.106 in /usr/local/lib/python3.10/dist-packages (from qiskit-aer-gpu) (12.5.4.2)\n",
            "Collecting cuquantum-cu12>=23.3.0 (from qiskit-aer-gpu)\n",
            "  Using cached cuquantum_cu12-24.8.0-py3-none-manylinux2014_x86_64.whl.metadata (2.7 kB)\n",
            "Collecting custatevec-cu12==1.6.0.post1 (from cuquantum-cu12>=23.3.0->qiskit-aer-gpu)\n",
            "  Using cached custatevec_cu12-1.6.0.post1-py3-none-manylinux2014_x86_64.whl.metadata (2.1 kB)\n",
            "Collecting cutensornet-cu12==2.5.0 (from cuquantum-cu12>=23.3.0->qiskit-aer-gpu)\n",
            "  Using cached cutensornet_cu12-2.5.0-py3-none-manylinux2014_x86_64.whl.metadata (2.0 kB)\n",
            "Collecting cutensor-cu12<3,>=2.0.1 (from cutensornet-cu12==2.5.0->cuquantum-cu12>=23.3.0->qiskit-aer-gpu)\n",
            "  Using cached cutensor_cu12-2.0.2-py3-none-manylinux2014_x86_64.whl.metadata (2.1 kB)\n",
            "Requirement already satisfied: rustworkx>=0.15.0 in /usr/local/lib/python3.10/dist-packages (from qiskit>=1.1.0->qiskit-aer-gpu) (0.15.1)\n",
            "Requirement already satisfied: sympy>=1.3 in /usr/local/lib/python3.10/dist-packages (from qiskit>=1.1.0->qiskit-aer-gpu) (1.13.3)\n",
            "Requirement already satisfied: dill>=0.3 in /usr/local/lib/python3.10/dist-packages (from qiskit>=1.1.0->qiskit-aer-gpu) (0.3.9)\n",
            "Requirement already satisfied: python-dateutil>=2.8.0 in /usr/local/lib/python3.10/dist-packages (from qiskit>=1.1.0->qiskit-aer-gpu) (2.8.2)\n",
            "Requirement already satisfied: stevedore>=3.0.0 in /usr/local/lib/python3.10/dist-packages (from qiskit>=1.1.0->qiskit-aer-gpu) (5.3.0)\n",
            "Requirement already satisfied: typing-extensions in /usr/local/lib/python3.10/dist-packages (from qiskit>=1.1.0->qiskit-aer-gpu) (4.12.2)\n",
            "Requirement already satisfied: symengine<0.14,>=0.11 in /usr/local/lib/python3.10/dist-packages (from qiskit>=1.1.0->qiskit-aer-gpu) (0.13.0)\n",
            "Requirement already satisfied: six>=1.5 in /usr/local/lib/python3.10/dist-packages (from python-dateutil>=2.8.0->qiskit>=1.1.0->qiskit-aer-gpu) (1.16.0)\n",
            "Requirement already satisfied: pbr>=2.0.0 in /usr/local/lib/python3.10/dist-packages (from stevedore>=3.0.0->qiskit>=1.1.0->qiskit-aer-gpu) (6.1.0)\n",
            "Requirement already satisfied: mpmath<1.4,>=1.1.0 in /usr/local/lib/python3.10/dist-packages (from sympy>=1.3->qiskit>=1.1.0->qiskit-aer-gpu) (1.3.0)\n",
            "Using cached qiskit_aer_gpu-0.15.1-cp310-cp310-manylinux_2_17_x86_64.manylinux2014_x86_64.whl (18.8 MB)\n",
            "Using cached cuquantum_cu12-24.8.0-py3-none-manylinux2014_x86_64.whl (7.0 kB)\n",
            "Downloading custatevec_cu12-1.6.0.post1-py3-none-manylinux2014_x86_64.whl (38.7 MB)\n",
            "\u001b[2K   \u001b[90m━━━━━━━━━━━━━━━━━━━━━━━━━━━━━━━━━━━━━━━━\u001b[0m \u001b[32m38.7/38.7 MB\u001b[0m \u001b[31m20.7 MB/s\u001b[0m eta \u001b[36m0:00:00\u001b[0m\n",
            "\u001b[?25hDownloading cutensornet_cu12-2.5.0-py3-none-manylinux2014_x86_64.whl (2.2 MB)\n",
            "\u001b[2K   \u001b[90m━━━━━━━━━━━━━━━━━━━━━━━━━━━━━━━━━━━━━━━━\u001b[0m \u001b[32m2.2/2.2 MB\u001b[0m \u001b[31m85.9 MB/s\u001b[0m eta \u001b[36m0:00:00\u001b[0m\n",
            "\u001b[?25hDownloading cutensor_cu12-2.0.2-py3-none-manylinux2014_x86_64.whl (156.9 MB)\n",
            "\u001b[2K   \u001b[90m━━━━━━━━━━━━━━━━━━━━━━━━━━━━━━━━━━━━━━━━\u001b[0m \u001b[32m156.9/156.9 MB\u001b[0m \u001b[31m14.6 MB/s\u001b[0m eta \u001b[36m0:00:00\u001b[0m\n",
            "\u001b[?25hInstalling collected packages: cutensor-cu12, custatevec-cu12, cutensornet-cu12, cuquantum-cu12, qiskit-aer-gpu\n",
            "Successfully installed cuquantum-cu12-24.8.0 custatevec-cu12-1.6.0.post1 cutensor-cu12-2.0.2 cutensornet-cu12-2.5.0 qiskit-aer-gpu-0.15.1\n"
          ]
        },
        {
          "output_type": "display_data",
          "data": {
            "application/vnd.colab-display-data+json": {
              "pip_warning": {
                "packages": [
                  "qiskit_aer"
                ]
              },
              "id": "46a52d7dc00c47a582ff701604c965ef"
            }
          },
          "metadata": {}
        }
      ]
    },
    {
      "cell_type": "markdown",
      "source": [
        "# Imports"
      ],
      "metadata": {
        "id": "4Y56wRMYwrim"
      }
    },
    {
      "cell_type": "code",
      "source": [
        "from docplex.mp.model import Model\n",
        "from qiskit import QuantumCircuit\n",
        "from qiskit.circuit import Parameter\n",
        "from qiskit.circuit.library import PauliEvolutionGate\n",
        "from qiskit.quantum_info import Operator\n",
        "from qiskit.quantum_info import SparsePauliOp\n",
        "from qiskit_optimization import QuadraticProgram\n",
        "from qiskit_optimization.translators import from_docplex_mp\n",
        "from qiskit_optimization.converters import InequalityToEquality, IntegerToBinary, LinearEqualityToPenalty\n",
        "from qiskit_optimization.algorithms import CplexOptimizer, MinimumEigenOptimizer\n",
        "from qiskit_optimization import QuadraticProgram\n",
        "from qiskit_optimization.translators import from_docplex_mp\n",
        "from qiskit.primitives import Estimator as AerEstimator\n",
        "from qiskit_algorithms.optimizers import COBYLA\n",
        "\n",
        "import matplotlib.pyplot as plt\n",
        "import numpy as np\n",
        "from scipy.optimize import minimize\n",
        "\n",
        "from dimod import ConstrainedQuadraticModel, Binary\n",
        "from dwave.samplers import SimulatedAnnealingSampler\n",
        "from dimod.reference.samplers import ExactCQMSolver\n"
      ],
      "metadata": {
        "id": "IL7_fp3bwvNO"
      },
      "execution_count": 288,
      "outputs": []
    },
    {
      "cell_type": "markdown",
      "source": [
        "# Utils"
      ],
      "metadata": {
        "id": "xWCX18IGzYKo"
      }
    },
    {
      "cell_type": "code",
      "source": [
        "def data_bins(results, wj, n, m, l=0, simplify=False):\n",
        "    \"\"\"save the results on a dictionary with the three items, bins, items, and index.\n",
        "    results (cplex.solve): results of the optimization\n",
        "    wj: (array (1,m): weights of the items\n",
        "    n: (int) number of items\n",
        "    m: (int) number of bins\n",
        "    \"\"\"\n",
        "    if simplify:\n",
        "        bins = np.ones((m,))\n",
        "        if m-l > 0:\n",
        "            bins[m-l-1:m] = results[:m-l]\n",
        "        items = np.zeros((m,n))\n",
        "        items[:,1:] =  results[m-l:(m-1)*n+m-l].reshape(m,n-1)\n",
        "        items[0,0] = 1\n",
        "        items = items.reshape(m,n) * wj\n",
        "        return {\"bins\":bins, \"items\":items,\"index\":np.arange(m)}\n",
        "    else:\n",
        "        return {\"bins\":results[:m], \"items\":results[m:m+m*n].reshape(m,n) * wj, \"index\":np.arange(m)}\n",
        "def plot_bins(results, wj, n, m, Q, l=0,simplify=False, vqe=False):\n",
        "    \"\"\"plot in a bar diagram the results of an optimization bin packing problem\"\"\"\n",
        "    if vqe:\n",
        "      res = data_bins(results, wj, n, m, l, simplify)\n",
        "    else:\n",
        "      res = data_bins(results.x, wj, n, m, l, simplify)\n",
        "    plt.figure()\n",
        "    ind = res[\"index\"]\n",
        "    plt.bar(ind, res[\"items\"][:,0], label=f\"item {0}\")\n",
        "    suma = bottom=res[\"items\"][:,0]\n",
        "    for j in range(1,n):\n",
        "        plt.bar(ind, res[\"items\"][:,j], bottom=suma, label=f\"item {j}\")\n",
        "        suma += res[\"items\"][:,j]\n",
        "    plt.hlines(Q,0-0.5,m-0.5,linestyle=\"--\", color=\"r\",label=\"Max W\")\n",
        "    plt.xticks(ind)\n",
        "    plt.xlabel(\"Bin\")\n",
        "    plt.ylabel(\"Weight\")\n",
        "    plt.legend()"
      ],
      "metadata": {
        "id": "Z7fNlcSV3F1q"
      },
      "execution_count": 78,
      "outputs": []
    },
    {
      "cell_type": "code",
      "source": [
        "def quantum_annealing_solver(I, w, B, n, num_items):\n",
        "  cqm = ConstrainedQuadraticModel()\n",
        "\n",
        "  # creating the binary variable for bins\n",
        "  bin_used = [Binary(f'bin_used_{j}') for j in range(num_items)]\n",
        "  item_in_bin = [[Binary(f'item_{i}_in_bin_{j}') for i in range(num_items)]\n",
        "      for j in range(n)]\n",
        "\n",
        "  # objective function\n",
        "  cqm.set_objective(sum(bin_used))\n",
        "\n",
        "  #constraints\n",
        "  for i in range(num_items):\n",
        "      one_bin_per_item = cqm.add_constraint(sum(item_in_bin[i]) == 1, label=f'item_placing_{i}')\n",
        "\n",
        "  for j in range(num_items):\n",
        "      bin_up_to_capacity = cqm.add_constraint(\n",
        "          sum(w[i] * item_in_bin[i][j] for i in range(num_items)) - bin_used[j] * B <= 0,\n",
        "          label=f'capacity_bin_{j}')\n"
      ],
      "metadata": {
        "id": "e1j08g0xqqag"
      },
      "execution_count": 3,
      "outputs": []
    },
    {
      "cell_type": "code",
      "source": [
        "# let n = number of items\n",
        "# let m = number of bins, UB = n\n",
        "# Define the ILP formulation of the BPP\n",
        "def create_bin_packing_ILP(I, wj, Q, n):\n",
        "  m = len(I)\n",
        "  mdl = Model(name=\"BinPacking\")\n",
        "  # y_j: binary variable that is 1 if bin j is used, 0 otherwise\n",
        "  x = mdl.binary_var_list([f\"x{i}\" for i in range(n)]) # list of variables that represent the bins\n",
        "  e =  mdl.binary_var_list([f\"e{i//m},{i%m}\" for i in range(n*m)]) # variables that represent the items on the specific bin\n",
        "\n",
        "  objective = mdl.sum([x[i] for i in range(n)])\n",
        "\n",
        "  mdl.minimize(objective)\n",
        "\n",
        "  for j in range(m):\n",
        "      # First set of constraints: the items must be in any bin\n",
        "      constraint0 = mdl.sum([e[i*m+j] for i in range(n)])\n",
        "      mdl.add_constraint(constraint0 == 1, f\"cons0,{j}\")\n",
        "\n",
        "  for i in range(n):\n",
        "      # Second set of constraints: weight constraints\n",
        "      constraint1 = mdl.sum([wj[j] * e[i*m+j] for j in range(m)])\n",
        "      mdl.add_constraint(constraint1 <= Q * x[i], f\"cons1,{i}\")\n",
        "\n",
        "  return mdl, x, e\n",
        "\n",
        "def simplify_model(I, wj, Q, n):\n",
        "  mdl = Model(\"BinPacking_simplify\")\n",
        "  m = len(I)\n",
        "  l = int(np.ceil(np.sum(wj)/Q))\n",
        "  x = mdl.binary_var_list([f\"x{i}\" for i in range(m)]) # list of variables that represent the bins\n",
        "  e =  mdl.binary_var_list([f\"e{i//m},{i%m}\" for i in range(n*m)]) # variables that represent the items on the specific bin\n",
        "\n",
        "  objective = mdl.sum([x[i] for i in range(n)])\n",
        "\n",
        "  mdl.minimize(objective)\n",
        "\n",
        "  for j in range(m):\n",
        "      # First set of constraints: the items must be in any bin\n",
        "      constraint0 = mdl.sum([e[i*m+j] for i in range(n)])\n",
        "      mdl.add_constraint(constraint0 == 1, f\"cons0,{j}\")\n",
        "\n",
        "  for i in range(n):\n",
        "      # Second set of constraints: weight constraints\n",
        "      constraint1 = mdl.sum([wj[j] * e[i*m+j] for j in range(m)])\n",
        "      mdl.add_constraint(constraint1 <= Q * x[i], f\"cons1,{i}\")\n",
        "\n",
        "\n",
        "  # Load quadratic program from docplex model\n",
        "  qp = QuadraticProgram()\n",
        "  qp = from_docplex_mp(mdl)\n",
        "  # Simplifying the problem\n",
        "  for i in range(l):\n",
        "      qp = qp.substitute_variables({f\"x{i}\":1})\n",
        "  qp = qp.substitute_variables({\"e0,0\":1})\n",
        "  for i in range(1,m):\n",
        "      qp = qp.substitute_variables({f\"e{i},0\":0})\n",
        "  print(qp.export_as_lp_string())\n",
        "  return mdl, qp\n",
        "\n",
        "# Create a function to transform the ILP model into a QUBO\n",
        "def convert_to_QUBO(qp):\n",
        "\n",
        "  ineq2eq = InequalityToEquality()\n",
        "  qp_eq = ineq2eq.convert(qp)\n",
        "\n",
        "  int2bin = IntegerToBinary()\n",
        "  qp_eq_bin = int2bin.convert(qp_eq)\n",
        "\n",
        "  lineq2penalty = LinearEqualityToPenalty()\n",
        "  qubo = lineq2penalty.convert(qp_eq_bin)\n",
        "\n",
        "  return qubo"
      ],
      "metadata": {
        "id": "nYEAZfzFhdfP"
      },
      "execution_count": 182,
      "outputs": []
    },
    {
      "cell_type": "code",
      "source": [
        "# brute force solution for BPP\n",
        "\n",
        "def brute_force(I, w, B, n):\n",
        "  max_num_bins = len(I)\n",
        "  bins = [[] for bin in range(max_num_bins)]\n",
        "  curr_bin = 0\n",
        "\n",
        "  for item in I:\n",
        "      # Check if adding the current item exceeds the bin capacity\n",
        "      if np.sum([w[i] for i in bins[curr_bin]]) + w[item] <= B:\n",
        "          bins[curr_bin].append(item)\n",
        "      else:\n",
        "          curr_bin += 1\n",
        "          # Ensure that the current bin doesn't exceed the available number of bins\n",
        "          if curr_bin >= max_num_bins:\n",
        "              print(\"Error: Not enough bins to fit all items\")\n",
        "              break\n",
        "          bins[curr_bin].append(item)\n",
        "\n",
        "  # Output the number of bins used (curr_bin + 1, since curr_bin is zero-indexed)\n",
        "  print(f\"Number of bins used: {curr_bin + 1}\")\n",
        "  print(f\"Item distribution across bins: {bins}\")"
      ],
      "metadata": {
        "id": "ZYsCfzhriFri"
      },
      "execution_count": 5,
      "outputs": []
    },
    {
      "cell_type": "markdown",
      "source": [
        "## Utils: quantum annealing simulations"
      ],
      "metadata": {
        "id": "ynaF1pVJqjjC"
      }
    },
    {
      "cell_type": "code",
      "source": [
        "from dimod import ConstrainedQuadraticModel, Binary\n",
        "from dwave.samplers import SimulatedAnnealingSampler\n",
        "from dimod.reference.samplers import ExactCQMSolver\n",
        "\n",
        "def quantum_annealing_solver(I, w, B, n, num_items):\n",
        "    cqm = ConstrainedQuadraticModel()\n",
        "\n",
        "    # creating the binary variable for bins\n",
        "    bin_used = [Binary(f'bin_used_{j}') for j in range(num_items)]\n",
        "    item_in_bin = [[Binary(f'item_{i}_in_bin_{j}') for i in range(num_items)]\n",
        "        for j in range(n)]\n",
        "\n",
        "    # objective function\n",
        "    cqm.set_objective(sum(bin_used))\n",
        "\n",
        "    #constraints\n",
        "    for i in range(num_items):\n",
        "        one_bin_per_item = cqm.add_constraint(sum(item_in_bin[i]) == 1, label=f'item_placing_{i}')\n",
        "\n",
        "    for j in range(num_items):\n",
        "        bin_up_to_capacity = cqm.add_constraint(\n",
        "            sum(w[i] * item_in_bin[i][j] for i in range(num_items)) - bin_used[j] * B <= 0,\n",
        "            label=f'capacity_bin_{j}')\n",
        "\n",
        "    sampler = ExactCQMSolver()\n",
        "    sampleset = sampler.sample_cqm(cqm,\n",
        "                                  time_limit=180,\n",
        "                                  label=\"Bin Packing Annealing\")\n",
        "    feasible_sampleset = sampleset.filter(lambda row: row.is_feasible)\n",
        "    if len(feasible_sampleset):\n",
        "      best = feasible_sampleset.first\n",
        "\n",
        "    selected_bins = [key for key, val in best.sample.items() if 'bin_used' in key and val]\n",
        "    print(\"{} bins are used.\".format(len(selected_bins)))"
      ],
      "metadata": {
        "id": "2Lf6pTLSrAYr"
      },
      "execution_count": 283,
      "outputs": []
    },
    {
      "cell_type": "markdown",
      "source": [
        "## Utils: VQE"
      ],
      "metadata": {
        "id": "RzgPmYRBrc_G"
      }
    },
    {
      "cell_type": "code",
      "source": [
        "from qiskit_aer.primitives import Estimator as AerEstimator\n",
        "from qiskit.primitives import Estimator\n",
        "from qiskit.circuit.library import TwoLocal, EfficientSU2\n",
        "from qiskit_algorithms import VQE, QAOA\n",
        "from qiskit_algorithms.optimizers import COBYLA\n",
        "from qiskit.primitives import Estimator as QuantumInstance\n",
        "\n",
        "def validate_solution(binary_solution, item_sizes, bin_capacity, num_items, num_bins):\n",
        "    bins = [[] for _ in range(num_bins)]\n",
        "    for i in range(num_items):\n",
        "        for j in range(num_bins):\n",
        "            if binary_solution[i * num_bins + j] == 1:\n",
        "                bins[j].append(item_sizes[i])\n",
        "\n",
        "    flag = True\n",
        "    # Check if bin capacities are exceeded\n",
        "    for bin_idx, bin_items in enumerate(bins):\n",
        "        total_size = sum(bin_items)\n",
        "        if total_size > bin_capacity:\n",
        "            flag *= False\n",
        "            # print(f\"Bin {bin_idx} exceeds capacity with total size {total_size}.\")\n",
        "        else:\n",
        "            flag *= True\n",
        "            # print(f\"Bin {bin_idx} is valid with total size {total_size}.\")\n",
        "\n",
        "    # Check if every item is placed in exactly one bin\n",
        "    for i in range(num_items):\n",
        "        item_placed = sum(binary_solution[i * num_bins + j] for j in range(num_bins))\n",
        "        if item_placed != 1:\n",
        "            flag *= False\n",
        "            # print(f\"Item {i} is placed in {item_placed} bins (should be exactly 1).\")\n",
        "        else:\n",
        "            flag *= True\n",
        "            # print(f\"Item {i} is correctly placed.\")\n",
        "    return flag\n",
        "\n",
        "def build_basic_ansatz(params: np.ndarray, num_qubits, num_layers) -> QuantumCircuit:\n",
        "    \"\"\"\n",
        "    Build the full ansatz circuit for a given number of layers.\n",
        "\n",
        "    Args:\n",
        "        params: The parameters of the ansatz.\n",
        "\n",
        "    Returns:\n",
        "        QuantumCircuit: The ansatz circuit.\n",
        "\n",
        "    \"\"\"\n",
        "    def prepare_initial_state() -> QuantumCircuit:\n",
        "        \"\"\"\n",
        "        Prepare the all-|+> initial state of the ansatz.\n",
        "\n",
        "        Returns:\n",
        "            QuantumCircuit: The initial state of the ansatz.\n",
        "        \"\"\"\n",
        "        qc = QuantumCircuit(num_qubits)\n",
        "        for i in range(num_qubits):\n",
        "            qc.h(i)\n",
        "        return qc\n",
        "\n",
        "    def build_two_qubit_block(params: np.ndarray) -> QuantumCircuit:\n",
        "        \"\"\"\n",
        "        Build the two-qubit variational blocks of the basic ansatz.\n",
        "\n",
        "        Args:\n",
        "            params: The parameters of the ansatz.\n",
        "\n",
        "        Returns:\n",
        "            QuantumCircuit: The two-qubit variational block for the ansatz.\n",
        "        \"\"\"\n",
        "        i, j = 0, 1\n",
        "        qc = QuantumCircuit(2)\n",
        "\n",
        "        # Single U(2) parameterization on qubit 1\n",
        "        qc.ry(params[0], i)\n",
        "        qc.rx(params[1], i)\n",
        "        qc.ry(params[2], i)\n",
        "        # Single U(2) parameterization on qubit 2\n",
        "        qc.ry(params[3], j)\n",
        "        qc.rx(params[4], j)\n",
        "        qc.ry(params[5], j)\n",
        "        # CNOT with control on qubit 2\n",
        "        qc.cx(j, i)\n",
        "        # Rz and Ry gate\n",
        "        qc.rz(params[6], i)\n",
        "        qc.ry(params[7], j)\n",
        "        # CNOT with control on qubit 1\n",
        "        qc.cx(i, j)\n",
        "        # Ry gate on qubit 2\n",
        "        qc.ry(params[8], j)\n",
        "        # CNOT with control on qubit 2\n",
        "        qc.cx(j, i)\n",
        "        # Single U(2) parameterization on qubit 1\n",
        "        qc.ry(params[9], i)\n",
        "        qc.rx(params[10], i)\n",
        "        qc.ry(params[11], i)\n",
        "        # Single U(2) parameterization on qubit 2\n",
        "        qc.ry(params[12], j)\n",
        "        qc.rx(params[13], j)\n",
        "        qc.ry(params[14], j)\n",
        "\n",
        "        return qc\n",
        "\n",
        "    qc = prepare_initial_state()\n",
        "    for i in range(num_layers):\n",
        "        for j in range(num_qubits - 1):\n",
        "            circ = build_two_qubit_block(params[i * 15 : (i + 1) * 15])\n",
        "            Q1 = Operator(circ)\n",
        "            qc.unitary(Q1, [j, j + 1])\n",
        "    return qc\n",
        "\n",
        "\n",
        "def solve_with_vqe(qubo, num_qubits):\n",
        "    def threshold_solution(optimal_parameters, threshold=np.pi/2):\n",
        "      # Convert parameters to binary (0 or 1)\n",
        "      binary_solution = [1 if param > threshold else 0 for param in optimal_parameters]\n",
        "      return binary_solution\n",
        "\n",
        "    op, offset = qubo.to_ising()\n",
        "    ham_op = op\n",
        "    # Define the quantum instance\n",
        "    gpu_estimator = AerEstimator(\n",
        "        run_options={\"seed\": 0},\n",
        "        transpile_options={\"seed_transpiler\": 0},)\n",
        "    gpu_estimator.set_options(device='GPU')\n",
        "    gpu_estimator.set_options(cuStateVec_enable=True)\n",
        "    # See how they get approximation, we can use error mitigation in our code.\n",
        "    # gpu_estimator.set_options(approximation =True)\n",
        "    # gpu_estimator.set_options(resilience_level=3)\n",
        "    ansatz = EfficientSU2(num_qubits, su2_gates=['rx', 'y'], entanglement='circular', reps=5)\n",
        "    # Define a simple variational form, for example, a TwoLocal ansatz\n",
        "    # ansatz = TwoLocal(rotation_blocks='ry', entanglement_blocks='cz', reps=3)\n",
        "    # Use COBYLA optimizer\n",
        "    optimizer = COBYLA(maxiter=1000)\n",
        "\n",
        "    # Create VQE instance\n",
        "    vqe = VQE(gpu_estimator, ansatz=ansatz, optimizer=optimizer, )\n",
        "\n",
        "    # Solve using VQE\n",
        "    result = vqe.compute_minimum_eigenvalue(ham_op)\n",
        "\n",
        "    return result\n",
        "def sample_vqe_results(qubo, num_qubits):\n",
        "  result = solve_with_vqe(qubo, num_qubits)\n",
        "  from qiskit_aer import AerSimulator\n",
        "\n",
        "  # Create the TwoLocal ansatz for n qubits\n",
        "\n",
        "  ansatz = result.optimal_circuit.decompose()\n",
        "  print(f\"Number of parameters in ansatz: {ansatz.num_parameters}\")\n",
        "  # Assuming 'result.optimal_parameters' contains the optimal parameters from VQE\n",
        "  optimal_parameters = result.optimal_parameters\n",
        "\n",
        "  # Bind the optimal parameters to the ansatz circuit\n",
        "  bound_ansatz = ansatz.assign_parameters(optimal_parameters)\n",
        "\n",
        "  # Add measurements to all qubits\n",
        "  bound_ansatz.measure_all()\n",
        "\n",
        "  # Use AerSimulator to simulate the circuit\n",
        "  simulator = AerSimulator()\n",
        "\n",
        "  # Compile and run the quantum circuit using the simulator with a specified number of shots\n",
        "  job = simulator.run(bound_ansatz, shots=2048)\n",
        "\n",
        "  # Get the result\n",
        "  sim_result = job.result()\n",
        "\n",
        "  # Extract the bitstring counts from the result\n",
        "  counts = sim_result.get_counts()\n",
        "\n",
        "  # Print the counts (bitstrings and their corresponding frequencies)\n",
        "  print(counts)\n",
        "\n",
        "  sorted_bitstrings = sorted(counts.items(), key=lambda item: item[1], reverse=True)\n",
        "\n",
        "  # Print the most frequent bitstrings\n",
        "  print(\"Most frequent bitstrings (likely optimal/near-optimal solutions):\")\n",
        "  for bitstring, frequency in sorted_bitstrings[:3]:\n",
        "      print(f\"Bitstring: {bitstring}, Frequency: {frequency}\")\n",
        "\n",
        "  return sorted_bitstrings"
      ],
      "metadata": {
        "id": "OwXyK-PXrfBh"
      },
      "execution_count": 241,
      "outputs": []
    },
    {
      "cell_type": "markdown",
      "source": [
        "## Utils: QAOA"
      ],
      "metadata": {
        "id": "v2FGia4Xzb7y"
      }
    },
    {
      "cell_type": "code",
      "source": [
        "def qaoa_ansatz(gamma, beta, hamiltonian):\n",
        "    n_qubits = hamiltonian.num_qubits\n",
        "    qc = QuantumCircuit(n_qubits)\n",
        "\n",
        "    # Initialize in a uniform superposition state\n",
        "    qc.h(range(n_qubits))\n",
        "\n",
        "    # Apply cost Hamiltonian (e^(-i * gamma * H_cost))\n",
        "    for pauli_term, coeff in zip(hamiltonian.paulis, hamiltonian.coeffs):\n",
        "      evo = PauliEvolutionGate(SparsePauliOp(pauli_term), time=np.real(coeff))\n",
        "      qc.append(evo, range(n_qubits))\n",
        "\n",
        "    # Apply mixing Hamiltonian (e^(-i * beta * X))\n",
        "    for qubit in range(n_qubits):\n",
        "        qc.rx(2 * beta, qubit)\n",
        "\n",
        "    return qc\n",
        "\n",
        "def expectation_value(params, ham_op, estimator):\n",
        "    gamma, beta = params\n",
        "    qc = qaoa_ansatz(gamma, beta, ham_op)\n",
        "\n",
        "    # Prepare the observable (cost Hamiltonian)\n",
        "    observable = ham_op\n",
        "\n",
        "    # Compute the expectation value using the GPU estimator\n",
        "    job = estimator.run([qc], [observable])\n",
        "    result = job.result()\n",
        "\n",
        "    return np.real(result.values[0])\n",
        "\n",
        "def optimize_qaoa(hamiltonian, estimator, p=1):\n",
        "    def cost_function(params):\n",
        "        return expectation_value(params, hamiltonian, estimator)\n",
        "\n",
        "    # Initialize gamma and beta randomly\n",
        "    initial_params = np.random.uniform(0, np.pi, 2)\n",
        "\n",
        "    # Use COBYLA optimizer\n",
        "    optimizer = COBYLA(maxiter=100)\n",
        "    result = minimize(cost_function, initial_params, method=\"cobyla\")\n",
        "\n",
        "    return result\n",
        "\n",
        "def run_qaoa():\n",
        "    # Define the GPU-based AerEstimator\n",
        "    gpu_estimator = AerEstimator()\n",
        "    gpu_estimator.set_options(device='GPU')\n",
        "    gpu_estimator.set_options(cuStateVec_enable=True)\n",
        "\n",
        "\n",
        "    # Create the problem Hamiltonian\n",
        "    hamiltonian = ham_op\n",
        "\n",
        "    # Optimize the QAOA parameters\n",
        "    result = optimize_qaoa(hamiltonian, gpu_estimator)\n",
        "\n",
        "    print(\"Optimal parameters found by QAOA:\", result.x)\n",
        "    print(\"Optimal value (minimized expectation):\", result.fun)\n"
      ],
      "metadata": {
        "id": "7O_DKDDTzjTN"
      },
      "execution_count": 290,
      "outputs": []
    },
    {
      "cell_type": "markdown",
      "source": [
        "# Code"
      ],
      "metadata": {
        "id": "k-lyKpIjwwKN"
      }
    },
    {
      "cell_type": "markdown",
      "source": [
        "Define the ILP formulation of the BPP"
      ],
      "metadata": {
        "id": "c86a50Jtw4hS"
      }
    },
    {
      "cell_type": "code",
      "source": [
        "# Example input data\n",
        "I = [0, 1, 2]  # Set of items, represented by indices\n",
        "w = [2, 3, 4]  # Sizes of the items\n",
        "B = 4      # Bin capacity\n",
        "n = 3             # Maximum number of bins\n",
        "num_items = len(I)\n",
        "\n",
        "# Create the ILP model for bin packing\n",
        "bin_packing_model, _,_ = create_bin_packing_ILP(I, w, B, n)"
      ],
      "metadata": {
        "id": "wmrQt5Jxhq7f"
      },
      "execution_count": 232,
      "outputs": []
    },
    {
      "cell_type": "code",
      "source": [
        "qp = QuadraticProgram()\n",
        "mod = from_docplex_mp(bin_packing_model)\n",
        "print(mod.export_as_lp_string())"
      ],
      "metadata": {
        "colab": {
          "base_uri": "https://localhost:8080/"
        },
        "id": "4o1kALtWiNKC",
        "outputId": "c6a98eb1-4f55-4294-bd2b-3acd836a3984"
      },
      "execution_count": 233,
      "outputs": [
        {
          "output_type": "stream",
          "name": "stdout",
          "text": [
            "\\ This file has been generated by DOcplex\n",
            "\\ ENCODING=ISO-8859-1\n",
            "\\Problem name: BinPacking\n",
            "\n",
            "Minimize\n",
            " obj: x0 + x1 + x2\n",
            "Subject To\n",
            " cons0,0: _e0,0 + _e1,0 + _e2,0 = 1\n",
            " cons0,1: _e0,1 + _e1,1 + _e2,1 = 1\n",
            " cons0,2: _e0,2 + _e1,2 + _e2,2 = 1\n",
            " cons1,0: - 4 x0 + 2 _e0,0 + 3 _e0,1 + 4 _e0,2 <= 0\n",
            " cons1,1: - 4 x1 + 2 _e1,0 + 3 _e1,1 + 4 _e1,2 <= 0\n",
            " cons1,2: - 4 x2 + 2 _e2,0 + 3 _e2,1 + 4 _e2,2 <= 0\n",
            "\n",
            "Bounds\n",
            " 0 <= x0 <= 1\n",
            " 0 <= x1 <= 1\n",
            " 0 <= x2 <= 1\n",
            " 0 <= _e0,0 <= 1\n",
            " 0 <= _e0,1 <= 1\n",
            " 0 <= _e0,2 <= 1\n",
            " 0 <= _e1,0 <= 1\n",
            " 0 <= _e1,1 <= 1\n",
            " 0 <= _e1,2 <= 1\n",
            " 0 <= _e2,0 <= 1\n",
            " 0 <= _e2,1 <= 1\n",
            " 0 <= _e2,2 <= 1\n",
            "\n",
            "Binaries\n",
            " x0 x1 x2 _e0,0 _e0,1 _e0,2 _e1,0 _e1,1 _e1,2 _e2,0 _e2,1 _e2,2\n",
            "End\n",
            "\n"
          ]
        }
      ]
    },
    {
      "cell_type": "code",
      "source": [
        "qp = mod\n",
        "\n",
        "# Solving Quadratic Program using CPLEX\n",
        "cplex = CplexOptimizer()\n",
        "result = cplex.solve(qp)\n",
        "print(result)\n",
        "plot_bins(result, w, n, len(I), B)"
      ],
      "metadata": {
        "colab": {
          "base_uri": "https://localhost:8080/",
          "height": 486
        },
        "id": "zNG2QI6Fi5WB",
        "outputId": "800ea718-53f7-49de-ec33-679d45ffa028"
      },
      "execution_count": 234,
      "outputs": [
        {
          "output_type": "stream",
          "name": "stdout",
          "text": [
            "fval=3.0, x0=1.0, x1=1.0, x2=1.0, e0,0=0.0, e0,1=1.0, e0,2=0.0, e1,0=0.0, e1,1=0.0, e1,2=1.0, e2,0=1.0, e2,1=0.0, e2,2=0.0, status=SUCCESS\n"
          ]
        },
        {
          "output_type": "display_data",
          "data": {
            "text/plain": [
              "<Figure size 640x480 with 1 Axes>"
            ],
            "image/png": "[encoded data removed]"
          },
          "metadata": {}
        }
      ]
    },
    {
      "cell_type": "code",
      "source": [
        "simplify_mdl, simplify_qp = simplify_model(I, w, B, n)"
      ],
      "metadata": {
        "colab": {
          "base_uri": "https://localhost:8080/"
        },
        "id": "lohYk7TJjQec",
        "outputId": "ef1313b4-cdc7-4a23-b90b-6598ac984556"
      },
      "execution_count": 235,
      "outputs": [
        {
          "output_type": "stream",
          "name": "stdout",
          "text": [
            "\\ This file has been generated by DOcplex\n",
            "\\ ENCODING=ISO-8859-1\n",
            "\\Problem name: BinPacking_simplify\n",
            "\n",
            "Minimize\n",
            " obj: 3\n",
            "Subject To\n",
            " cons0,1: _e0,1 + _e1,1 + _e2,1 = 1\n",
            " cons0,2: _e0,2 + _e1,2 + _e2,2 = 1\n",
            " cons1,0: 3 _e0,1 + 4 _e0,2 <= 2\n",
            " cons1,1: 3 _e1,1 + 4 _e1,2 <= 4\n",
            " cons1,2: 3 _e2,1 + 4 _e2,2 <= 4\n",
            "\n",
            "Bounds\n",
            " 0 <= _e0,1 <= 1\n",
            " 0 <= _e0,2 <= 1\n",
            " 0 <= _e1,1 <= 1\n",
            " 0 <= _e1,2 <= 1\n",
            " 0 <= _e2,1 <= 1\n",
            " 0 <= _e2,2 <= 1\n",
            "\n",
            "Binaries\n",
            " _e0,1 _e0,2 _e1,1 _e1,2 _e2,1 _e2,2\n",
            "End\n",
            "\n"
          ]
        }
      ]
    },
    {
      "cell_type": "code",
      "source": [
        "l = int(np.ceil(np.sum(w)/B))\n",
        "simplify_result = cplex.solve(simplify_qp)\n",
        "print(type(simplify_result.x))\n",
        "plot_bins(simplify_result, w, n, len(I), B, l, simplify=True)"
      ],
      "metadata": {
        "colab": {
          "base_uri": "https://localhost:8080/",
          "height": 466
        },
        "id": "L5-apIObkeUg",
        "outputId": "d00ab9ff-2c77-43db-904f-a9fc4d3a9784"
      },
      "execution_count": 236,
      "outputs": [
        {
          "output_type": "stream",
          "name": "stdout",
          "text": [
            "<class 'numpy.ndarray'>\n"
          ]
        },
        {
          "output_type": "display_data",
          "data": {
            "text/plain": [
              "<Figure size 640x480 with 1 Axes>"
            ],
            "image/png": "[encoded data removed]"
          },
          "metadata": {}
        }
      ]
    },
    {
      "cell_type": "markdown",
      "source": [
        "Create a function to transform the ILP model into a QUBO"
      ],
      "metadata": {
        "id": "WnHEVz1qw6ST"
      }
    },
    {
      "cell_type": "code",
      "source": [
        "qubo = convert_to_QUBO(simplify_qp)\n",
        "print(qubo.export_as_lp_string())"
      ],
      "metadata": {
        "colab": {
          "base_uri": "https://localhost:8080/"
        },
        "id": "30EQR69gg5rU",
        "outputId": "bb186509-6d68-4fa7-dcb2-3a52607db60d"
      },
      "execution_count": 237,
      "outputs": [
        {
          "output_type": "stream",
          "name": "stdout",
          "text": [
            "\\ This file has been generated by DOcplex\n",
            "\\ ENCODING=ISO-8859-1\n",
            "\\Problem name: BinPacking_simplify\n",
            "\n",
            "Minimize\n",
            " obj: - 14 _e0,1 - 18 _e0,2 - 26 _e1,1 - 34 _e1,2 - 26 _e2,1 - 34 _e2,2\n",
            "      - 4 cons1,0@int_slack@0 - 4 cons1,0@int_slack@1 - 8 cons1,1@int_slack@0\n",
            "      - 16 cons1,1@int_slack@1 - 8 cons1,1@int_slack@2 - 8 cons1,2@int_slack@0\n",
            "      - 16 cons1,2@int_slack@1 - 8 cons1,2@int_slack@2 + [ 20 _e0,1^2\n",
            "      + 48 _e0,1*_e0,2 + 4 _e0,1*_e1,1 + 4 _e0,1*_e2,1\n",
            "      + 12 _e0,1*cons1,0@int_slack@0 + 12 _e0,1*cons1,0@int_slack@1 + 34 _e0,2^2\n",
            "      + 4 _e0,2*_e1,2 + 4 _e0,2*_e2,2 + 16 _e0,2*cons1,0@int_slack@0\n",
            "      + 16 _e0,2*cons1,0@int_slack@1 + 20 _e1,1^2 + 48 _e1,1*_e1,2\n",
            "      + 4 _e1,1*_e2,1 + 12 _e1,1*cons1,1@int_slack@0\n",
            "      + 24 _e1,1*cons1,1@int_slack@1 + 12 _e1,1*cons1,1@int_slack@2 + 34 _e1,2^2\n",
            "      + 4 _e1,2*_e2,2 + 16 _e1,2*cons1,1@int_slack@0\n",
            "      + 32 _e1,2*cons1,1@int_slack@1 + 16 _e1,2*cons1,1@int_slack@2 + 20 _e2,1^2\n",
            "      + 48 _e2,1*_e2,2 + 12 _e2,1*cons1,2@int_slack@0\n",
            "      + 24 _e2,1*cons1,2@int_slack@1 + 12 _e2,1*cons1,2@int_slack@2 + 34 _e2,2^2\n",
            "      + 16 _e2,2*cons1,2@int_slack@0 + 32 _e2,2*cons1,2@int_slack@1\n",
            "      + 16 _e2,2*cons1,2@int_slack@2 + 2 cons1,0@int_slack@0^2\n",
            "      + 4 cons1,0@int_slack@0*cons1,0@int_slack@1 + 2 cons1,0@int_slack@1^2\n",
            "      + 2 cons1,1@int_slack@0^2 + 8 cons1,1@int_slack@0*cons1,1@int_slack@1\n",
            "      + 4 cons1,1@int_slack@0*cons1,1@int_slack@2 + 8 cons1,1@int_slack@1^2\n",
            "      + 8 cons1,1@int_slack@1*cons1,1@int_slack@2 + 2 cons1,1@int_slack@2^2\n",
            "      + 2 cons1,2@int_slack@0^2 + 8 cons1,2@int_slack@0*cons1,2@int_slack@1\n",
            "      + 4 cons1,2@int_slack@0*cons1,2@int_slack@2 + 8 cons1,2@int_slack@1^2\n",
            "      + 8 cons1,2@int_slack@1*cons1,2@int_slack@2 + 2 cons1,2@int_slack@2^2 ]/2\n",
            "      + 41\n",
            "Subject To\n",
            "\n",
            "Bounds\n",
            " 0 <= _e0,1 <= 1\n",
            " 0 <= _e0,2 <= 1\n",
            " 0 <= _e1,1 <= 1\n",
            " 0 <= _e1,2 <= 1\n",
            " 0 <= _e2,1 <= 1\n",
            " 0 <= _e2,2 <= 1\n",
            " 0 <= cons1,0@int_slack@0 <= 1\n",
            " 0 <= cons1,0@int_slack@1 <= 1\n",
            " 0 <= cons1,1@int_slack@0 <= 1\n",
            " 0 <= cons1,1@int_slack@1 <= 1\n",
            " 0 <= cons1,1@int_slack@2 <= 1\n",
            " 0 <= cons1,2@int_slack@0 <= 1\n",
            " 0 <= cons1,2@int_slack@1 <= 1\n",
            " 0 <= cons1,2@int_slack@2 <= 1\n",
            "\n",
            "Binaries\n",
            " _e0,1 _e0,2 _e1,1 _e1,2 _e2,1 _e2,2 cons1,0@int_slack@0 cons1,0@int_slack@1\n",
            " cons1,1@int_slack@0 cons1,1@int_slack@1 cons1,1@int_slack@2 cons1,2@int_slack@0\n",
            " cons1,2@int_slack@1 cons1,2@int_slack@2\n",
            "End\n",
            "\n"
          ]
        }
      ]
    },
    {
      "cell_type": "markdown",
      "source": [
        "Test your function with specific instances (size small, medium, and big)\n"
      ],
      "metadata": {
        "id": "SZza7tpUZUNV"
      }
    },
    {
      "cell_type": "code",
      "source": [
        "result = cplex.solve(qubo)\n",
        "print(result)"
      ],
      "metadata": {
        "colab": {
          "base_uri": "https://localhost:8080/"
        },
        "id": "8QV5x5TkrEOa",
        "outputId": "d7fd2c78-5937-45c9-a95a-a1a76484b1a3"
      },
      "execution_count": 185,
      "outputs": [
        {
          "output_type": "stream",
          "name": "stdout",
          "text": [
            "fval=2.0, x2=0.0, e0,1=1.0, e0,2=0.0, e1,1=0.0, e1,2=1.0, e2,1=0.0, e2,2=0.0, cons1,0@int_slack@0=0.0, cons1,0@int_slack@1=0.0, cons1,1@int_slack@0=1.0, cons1,1@int_slack@1=0.0, cons1,1@int_slack@2=0.0, cons1,2@int_slack@0=0.0, cons1,2@int_slack@1=0.0, cons1,2@int_slack@2=0.0, status=SUCCESS\n"
          ]
        }
      ]
    },
    {
      "cell_type": "code",
      "source": [
        "data_bins(result.x, w, n, num_items, l=l, simplify=True)\n",
        "plot_bins(result, w, n, num_items,B, l=l, simplify=True)"
      ],
      "metadata": {
        "colab": {
          "base_uri": "https://localhost:8080/",
          "height": 455
        },
        "id": "QlLQATMKrGZ5",
        "outputId": "b8fa6570-8890-45ba-f200-5e16603ec8c6"
      },
      "execution_count": 186,
      "outputs": [
        {
          "output_type": "display_data",
          "data": {
            "text/plain": [
              "<Figure size 640x480 with 1 Axes>"
            ],
            "image/png": "[encoded data removed]"
          },
          "metadata": {}
        }
      ]
    },
    {
      "cell_type": "markdown",
      "source": [
        "Create a Brute Force solver for the QUBO problem and solve the specific instances.\n"
      ],
      "metadata": {
        "id": "9w6tEl2T4MpM"
      }
    },
    {
      "cell_type": "code",
      "source": [
        "brute_force(I, w, B, n)"
      ],
      "metadata": {
        "colab": {
          "base_uri": "https://localhost:8080/"
        },
        "id": "QZZet4LWqcOr",
        "outputId": "b04b2bd2-dcbc-4073-f241-15c8bbe73c68"
      },
      "execution_count": 187,
      "outputs": [
        {
          "output_type": "stream",
          "name": "stdout",
          "text": [
            "Number of bins used: 2\n",
            "Item distribution across bins: [[0, 1], [2], []]\n"
          ]
        }
      ]
    },
    {
      "cell_type": "markdown",
      "source": [
        "To solve the QUBO, use quantum annealing simulators. You can use the Dwave Ocean Framework. Here is an example."
      ],
      "metadata": {
        "id": "qRmlDB6RrQ73"
      }
    },
    {
      "cell_type": "code",
      "source": [
        "qa_solution = quantum_annealing_solver(I, w, B, n, num_items)"
      ],
      "metadata": {
        "colab": {
          "base_uri": "https://localhost:8080/"
        },
        "id": "KkQ3HOOuwE-U",
        "outputId": "83a380dd-ff67-4bfa-edd5-5de1c9739b28"
      },
      "execution_count": 286,
      "outputs": [
        {
          "output_type": "stream",
          "name": "stdout",
          "text": [
            "3 bins are used.\n"
          ]
        },
        {
          "output_type": "stream",
          "name": "stderr",
          "text": [
            "<ipython-input-283-0e9fe796511d>:26: SamplerUnknownArgWarning: Ignoring unknown kwarg: 'time_limit'\n",
            "  sampleset = sampler.sample_cqm(cqm,\n",
            "<ipython-input-283-0e9fe796511d>:26: SamplerUnknownArgWarning: Ignoring unknown kwarg: 'label'\n",
            "  sampleset = sampler.sample_cqm(cqm,\n"
          ]
        }
      ]
    },
    {
      "cell_type": "markdown",
      "source": [
        "Use a Quantum Variational approach to solve the QUBO."
      ],
      "metadata": {
        "id": "z6ZGPzOBEhXF"
      }
    },
    {
      "cell_type": "code",
      "source": [
        "op, offset = qubo.to_ising()\n",
        "bitstrings = sample_vqe_results(qubo, op.num_qubits)"
      ],
      "metadata": {
        "colab": {
          "base_uri": "https://localhost:8080/"
        },
        "id": "LdRFSTTQRxVe",
        "outputId": "42f0d09f-0912-47a1-cee5-8c6ea30ce08f"
      },
      "execution_count": 238,
      "outputs": [
        {
          "output_type": "stream",
          "name": "stderr",
          "text": [
            "<ipython-input-229-486c7d2a4593>:143: DeprecationWarning: Estimator has been deprecated as of Aer 0.15, please use EstimatorV2 instead.\n",
            "  result = solve_with_vqe(qubo, num_qubits)\n",
            "<ipython-input-229-486c7d2a4593>:143: DeprecationWarning: Option approximation=False is deprecated as of qiskit-aer 0.13. It will be removed no earlier than 3 months after the release date. Instead, use BackendEstimator from qiskit.primitives.\n",
            "  result = solve_with_vqe(qubo, num_qubits)\n"
          ]
        },
        {
          "output_type": "stream",
          "name": "stdout",
          "text": [
            "Number of parameters in ansatz: 84\n",
            "{'10101111010100': 1, '01111011001010': 1, '00101000100101': 2, '00110010011011': 1, '00110001011011': 1, '10100010011010': 1, '11000001010111': 1, '10000101000100': 1, '10000110010101': 1, '01110100100010': 1, '01001100001110': 1, '00000011010100': 1, '00011001000000': 1, '01000111110011': 1, '01000001000111': 1, '00100100011000': 1, '10110101000000': 1, '11010110100101': 1, '11100100011010': 1, '00110101001000': 1, '00000000010111': 1, '10111011101001': 1, '10100101110011': 1, '10010100101100': 1, '10111110000001': 1, '01011010001010': 1, '11100111101101': 1, '11111010101011': 1, '01000001110111': 1, '00000110100101': 1, '11110011100011': 1, '00011011111011': 1, '01110011001100': 1, '01001011100110': 1, '01111110101001': 1, '01111011010110': 1, '00000000010001': 1, '01111001101011': 1, '11101101111011': 1, '10101110000000': 1, '10000111110101': 1, '01100100011001': 1, '01111010011101': 1, '11010111100000': 1, '11000000100110': 1, '11100110010011': 1, '10111001110101': 1, '10101100010000': 1, '00000101100010': 1, '10100010101111': 1, '00101111011001': 1, '10000001111001': 1, '10100110110101': 1, '01110100110101': 1, '01101001001110': 1, '11111111010100': 1, '01011001101000': 1, '01100001111000': 1, '01010101000001': 1, '00100010101001': 1, '10000010011010': 1, '11010111010001': 1, '10001001100101': 1, '00011001001011': 1, '11111100010010': 1, '01100010100000': 1, '11101100110000': 1, '00100110011111': 1, '00101011101010': 2, '01010000100001': 1, '10001011000000': 1, '00111101110010': 1, '11110010111100': 1, '10010010000111': 1, '01101111110011': 1, '11111101110110': 1, '11110000010110': 1, '01000100100111': 1, '01010010100011': 1, '11010101000011': 1, '00111011000101': 1, '10001100111010': 1, '00101010010110': 1, '00010110101010': 1, '00110010000001': 1, '11111101100100': 1, '10011010110110': 1, '00001001110001': 1, '01111100111000': 1, '11011010001001': 1, '10010011011001': 1, '10101110001001': 1, '10100110010001': 1, '10100010100001': 1, '10100110000010': 1, '11111010100010': 1, '10111110110100': 1, '10010000101000': 1, '11010000110111': 1, '00011100101110': 1, '01001011001001': 1, '01010110001010': 1, '01110000010001': 1, '01100010100010': 1, '00010101001101': 1, '00000011010110': 1, '01011111110110': 1, '00000010101000': 1, '00100010000111': 1, '10101000011000': 1, '00111010111101': 1, '00101100001001': 1, '11110110011101': 1, '00001101000110': 1, '00100011000111': 1, '00011110010111': 1, '00110011100101': 1, '10001100100110': 1, '00101101001100': 1, '00111001100010': 1, '10111101010110': 1, '01110001100011': 1, '10010000111001': 1, '00111010011101': 1, '10100000100110': 1, '11100001011101': 1, '10101010110011': 1, '11001000101110': 1, '11000011100110': 2, '01110001110001': 1, '11000000101110': 1, '00010100110100': 1, '11001010110010': 1, '01111010001011': 1, '01110001010110': 1, '00101101001101': 1, '00101000100110': 1, '11101101100000': 1, '01011000000000': 1, '01000010101110': 1, '11110101011100': 1, '01000100111010': 1, '01101110100010': 1, '10011101100110': 1, '11010010111011': 1, '01110000101110': 1, '00010100000010': 1, '00001110000111': 1, '00001100001000': 1, '11101000100111': 1, '11001100000010': 1, '00010011011010': 1, '11010100100011': 1, '00110011101101': 1, '11010011001110': 1, '00000001001011': 1, '11110110111000': 1, '00100000011100': 1, '01101010011110': 1, '01010110001100': 1, '01011101101100': 1, '11100100011100': 2, '00000111111001': 1, '01010001011000': 1, '00110100010101': 1, '01011111110101': 1, '11001001111001': 1, '10001101111000': 1, '01101001101011': 1, '00011100001010': 1, '10110000101000': 1, '11100000111010': 1, '11100110100100': 1, '11111100010000': 1, '11110110100111': 2, '01000000010111': 1, '10110110101001': 1, '00011111101100': 1, '01010011111100': 1, '11100010001111': 1, '00100001000111': 1, '11011010111100': 1, '01001100101100': 1, '00001010101110': 1, '11010110111001': 1, '00110100111111': 1, '00011101100001': 1, '10110000100110': 1, '10010111011100': 2, '10000001101001': 1, '11101110100111': 2, '01000001010111': 1, '01011110000001': 1, '00101101101000': 1, '00000011100011': 1, '10011000111110': 1, '11000111111011': 1, '11111011011001': 1, '00110100101111': 1, '01110000110000': 1, '00001010001011': 1, '01111110010001': 2, '00000110111010': 1, '10100000101000': 1, '11110001010111': 1, '10011000010001': 1, '10110100111111': 1, '11101100001100': 1, '01110000111011': 1, '11011001000101': 1, '01011011100110': 1, '01111101100001': 1, '10111001101001': 1, '10001011100011': 1, '00001001100010': 1, '10110101100010': 1, '11101111000110': 1, '00100110101111': 1, '10100111001111': 1, '10000100110111': 1, '10110101100000': 1, '00111000000100': 1, '00101111001110': 1, '10110010111011': 1, '10111111111011': 1, '10111110001100': 1, '01011101100100': 1, '00111000010100': 1, '11101011100010': 1, '10110001111011': 1, '10100001101001': 1, '00011001010111': 1, '01100100110100': 1, '01101101110000': 1, '01110111011000': 1, '01100001000000': 1, '01011001111010': 1, '10010101001011': 1, '01000001111010': 1, '11110011101110': 1, '11010100111111': 1, '10010001111010': 1, '11111100100010': 1, '11011101101001': 1, '00101000000001': 1, '11000001001001': 1, '10101010011011': 1, '01011100101001': 1, '10101011010011': 1, '11100100100100': 1, '11100011001010': 1, '10101101011110': 1, '00011100000011': 1, '11010000010001': 1, '00101000110110': 1, '10010100110100': 1, '00001011101111': 1, '01100011111110': 1, '01010100110001': 1, '01111000001101': 1, '10100000001100': 1, '00110011101100': 1, '11100000101000': 1, '00100001100000': 1, '10011110001100': 1, '11111010110110': 1, '11000110011001': 1, '00001001001010': 1, '10000000110001': 1, '01111001010100': 2, '10011110110010': 1, '11100010111010': 1, '00010110001010': 1, '00101100100010': 1, '00110101111101': 1, '00010001011000': 1, '10000010101101': 2, '01001110100010': 1, '11110111010100': 1, '01111110001000': 2, '00011111101010': 1, '00001101000111': 1, '11000110001010': 1, '10101001101001': 1, '10000011001100': 1, '00000001110110': 1, '11011010001110': 1, '00000110110101': 1, '01010000001110': 1, '11001110111001': 1, '01010001000011': 1, '01101100110111': 1, '10000010010010': 2, '10101000000010': 1, '11011010001100': 1, '01111101001111': 1, '11011011001111': 1, '10100001000001': 1, '10111001001111': 1, '01000110101101': 2, '11100010000100': 1, '11101011101111': 1, '11001000110001': 1, '00010000100001': 1, '00110101000100': 1, '11010101100101': 1, '01010111110011': 1, '00011110111111': 2, '01011000100101': 1, '01011001100000': 1, '11111111110111': 1, '00111000110101': 1, '10001000011101': 1, '10100110001010': 1, '00111001100111': 1, '10001101100010': 1, '01000000101001': 2, '01110011101101': 1, '10110010101110': 1, '01000101110000': 1, '00000000110111': 1, '11011111101001': 1, '11111010101100': 1, '10001011101101': 1, '10011011011010': 1, '01100100110001': 1, '10100101111000': 1, '11110010000100': 1, '11010010011110': 1, '00011111100101': 1, '00100111100111': 1, '01001110101100': 1, '01001000101100': 2, '11100111000111': 1, '00010010001110': 1, '00101100100001': 2, '00010100111111': 2, '01111010110010': 1, '01010011000000': 1, '10111000010001': 1, '11111000011011': 1, '01001010000011': 1, '01000000110101': 1, '10100001100000': 1, '00000010100001': 1, '11111110111101': 1, '11101000010111': 1, '10101110011001': 1, '11111100110100': 1, '00100101110011': 1, '10001110001000': 1, '10001011111100': 1, '10011111000101': 1, '00100101111110': 1, '00000111011101': 1, '00110110111000': 1, '00100101100001': 1, '00100000110100': 1, '01111000110110': 1, '00111111111111': 1, '11010100001000': 1, '01110110100101': 1, '00000011100101': 1, '10101011001010': 1, '11000000101100': 1, '10111001100110': 1, '10001000111100': 1, '00001100001011': 1, '01010101001010': 1, '00110001110111': 2, '01101011011101': 1, '00010101011100': 1, '00011110110001': 1, '10010000011111': 1, '01110111011001': 1, '10110010110001': 1, '11111001001100': 1, '01100000010001': 1, '01100001001101': 1, '11010111010000': 1, '10101010111000': 1, '00011000100101': 1, '01101011001100': 1, '00010111100010': 1, '01011010000100': 1, '11100000110111': 1, '11100111100011': 1, '10111100110010': 1, '00111101111100': 1, '11010000111100': 1, '10001100111100': 1, '10110001001000': 1, '00100111011101': 1, '10111000111010': 1, '01000000111000': 1, '00010010011101': 1, '10110110011000': 2, '11100000101101': 3, '10001000001110': 1, '10110110110001': 1, '00101110101111': 1, '01111001110001': 1, '00010010100100': 1, '01000111101101': 1, '10011000011100': 1, '01110001101010': 1, '10101101110100': 1, '11011110111111': 1, '11000101110011': 1, '11111110101010': 1, '00000000000100': 1, '11110101111011': 1, '11111001011100': 1, '10010000111010': 1, '01111111001110': 2, '10011101100001': 1, '11000001101001': 1, '10011111111101': 1, '00101001100101': 1, '11010110111110': 1, '01110011101000': 1, '00001110000001': 1, '01000000010101': 1, '11001000011100': 1, '11111100110110': 1, '01100111000111': 1, '01011111111011': 1, '01001010101100': 1, '00101111000101': 1, '01100001110100': 3, '00000100111000': 1, '11011110110100': 1, '10011000111111': 1, '11001100001111': 1, '01111111000000': 2, '10000101101100': 1, '11111010001010': 1, '00111001110001': 1, '01100100110110': 1, '01010101110011': 1, '00011001000101': 1, '10110111011101': 2, '11000111110101': 1, '00111100000111': 1, '10000000001011': 1, '00101111011100': 1, '00011110110101': 1, '10110000110001': 1, '01011011001000': 1, '00010100011100': 1, '10111010001000': 1, '10111111001100': 1, '00111100101111': 1, '10110110000110': 1, '01000000110001': 1, '11001111101011': 1, '10110101011110': 1, '01000000001100': 1, '00011110011001': 1, '11001100100101': 1, '00111000000111': 1, '10010000010110': 1, '10100100111111': 1, '10001101001101': 1, '11101110011011': 1, '10011101000101': 1, '01101100000010': 1, '01110001010011': 1, '00000101111001': 1, '11110000011010': 1, '01100100110000': 1, '10001001011101': 1, '01011100011000': 2, '11010101101011': 1, '00001010110110': 1, '00001011011100': 1, '10100100100110': 1, '10110111111010': 1, '00001100000010': 1, '11111100101100': 1, '01101000000100': 1, '10101010011010': 2, '10100000001110': 2, '10011100000000': 1, '10110101100111': 1, '00110010101111': 1, '00010111001101': 1, '00010100001101': 1, '10011011111001': 1, '10101011101100': 1, '01100101100001': 1, '00010011010001': 1, '01110001101011': 1, '01111101100110': 1, '11001000101010': 1, '11100010100011': 1, '00101100101101': 2, '10001000100011': 2, '01010010001010': 1, '00001010000110': 1, '01011000011001': 1, '11011000011111': 1, '11100110001000': 1, '00111010001101': 1, '00111110011010': 1, '00100110011100': 2, '00110100111010': 1, '01010011110111': 1, '11010101110101': 1, '00100010101000': 1, '11010110001001': 1, '11011001001010': 1, '01111001111100': 1, '00111111011110': 1, '00100011101010': 1, '01000101000000': 1, '11101000011011': 1, '01000111011111': 1, '11110011110000': 1, '00100100111000': 1, '11011001100010': 1, '01110010000101': 1, '00100111111111': 1, '01110110101101': 1, '00100001010011': 1, '10001001110100': 1, '10101101100111': 1, '00000100000101': 1, '10000010100001': 1, '01101000100100': 1, '10111010111010': 1, '01011111000010': 1, '01001100101011': 1, '10100110011010': 1, '00101011100110': 1, '10010110001010': 1, '10010111010110': 1, '11010011011000': 1, '10001101110000': 1, '10100110111010': 1, '10001001100111': 1, '01110001110110': 1, '10100011000010': 1, '00100101001101': 3, '11000111100100': 1, '01010001000000': 1, '00101000101111': 1, '01110111100000': 2, '10001101011110': 1, '01100111001000': 1, '01111011101110': 1, '00101001010100': 1, '01010111011101': 1, '11010111011011': 1, '10101010000110': 2, '01001111111000': 1, '11001110111000': 1, '00001100000111': 1, '00000000100110': 1, '01010111001000': 1, '10011100010111': 2, '11110110000010': 1, '11111001110001': 2, '01101100000001': 2, '11010000001010': 1, '01111011110101': 1, '11101000010101': 1, '11110000001111': 1, '10010100010111': 1, '10010010111011': 1, '11111111000001': 1, '01111100001010': 2, '00100000101001': 2, '10000011110010': 1, '10010010111100': 2, '00010011010100': 1, '11010010101110': 1, '11110111111101': 1, '10110000000111': 1, '00010010101100': 1, '00111100101101': 1, '11010000011000': 1, '11010001110011': 1, '10010100100101': 1, '11110000110101': 1, '10110011011110': 2, '00001010101100': 1, '10001010000001': 1, '01111101111001': 1, '01011000101110': 2, '00100011110111': 1, '01000111000010': 1, '00010001011001': 2, '10010011000100': 1, '01101000101100': 1, '01001001000010': 1, '11111011110001': 1, '10110011000011': 1, '01100100101111': 1, '01011110111010': 1, '10011010111111': 1, '01000000111001': 1, '00000000101100': 3, '01100100101001': 1, '11001101011111': 1, '11010100000100': 1, '01111110000010': 1, '01100011001101': 1, '01101100101100': 1, '10111010111111': 1, '10110110111110': 1, '10010110011001': 2, '11100010100001': 1, '10010111000000': 1, '01101000001001': 1, '10110011000110': 1, '10011110101110': 1, '11111111110010': 2, '00100101000101': 1, '10010110000011': 1, '01110011110011': 1, '11010111000010': 2, '00001010010111': 1, '00101000110111': 1, '11100100001100': 1, '11101011011111': 1, '01101000010101': 2, '00010001011010': 1, '10001100110011': 1, '10110001101011': 2, '10111100100100': 1, '01001101011000': 1, '00000101001100': 2, '10000101011100': 1, '10110101000111': 1, '01101001101110': 1, '01000110000111': 1, '10011011100000': 2, '01000111110010': 1, '00110010101001': 1, '11110000010101': 1, '01000111110110': 1, '01110101000001': 1, '11010010010111': 1, '00000100001011': 1, '00000111010100': 1, '01001101000011': 1, '00011001101011': 1, '00111110110111': 1, '00110100010110': 1, '01010001101000': 1, '10110001001011': 1, '00010011001100': 1, '00110000010010': 1, '11100101111111': 1, '10000010001000': 1, '00101011001011': 1, '01010110101110': 1, '11101011010111': 1, '00101100010000': 1, '01001111110111': 1, '11011110101000': 1, '10111101110000': 1, '00100111001110': 1, '01101100010110': 1, '10111101111001': 1, '10011101111101': 1, '10100101011011': 1, '11100011000011': 1, '10101110110111': 1, '10011010101100': 1, '10101111100111': 1, '01100010010000': 2, '00110011011010': 1, '00011111011101': 1, '10111010101000': 1, '00010011100110': 1, '01101011001110': 1, '11011010100000': 1, '00100110111001': 2, '01011101111110': 1, '11101001100101': 1, '00111010010101': 1, '11101011001010': 1, '01010001011110': 1, '01000101110001': 1, '01001111000001': 1, '01010010000101': 1, '11101101001000': 1, '00010110100010': 1, '11011011010010': 1, '10110001100011': 1, '01011011100101': 2, '01100001110000': 1, '01010000011000': 1, '11000111101000': 1, '11110001010110': 1, '00011011010000': 1, '11001010001001': 1, '00001001100111': 1, '10110111000000': 1, '00011000001010': 1, '01110111111000': 1, '01000100110110': 1, '00001111001001': 1, '00110000011000': 1, '01011110100000': 1, '11111000010001': 1, '11011001000000': 1, '01101111001011': 1, '00001001001000': 2, '00101110010001': 1, '10101000101010': 1, '11110100100000': 1, '11010101010000': 1, '00110001000111': 1, '01111110000110': 1, '00001001011001': 1, '01110100100100': 3, '01000011000111': 1, '00001110000011': 2, '11001010111000': 1, '11001100010100': 1, '00000010000000': 1, '00110010010000': 2, '01000100010010': 1, '00110101101100': 1, '11001001100001': 1, '10100000101111': 1, '10010101011110': 1, '01100000010011': 1, '10010000101110': 1, '11010010011100': 1, '10110000000100': 1, '00100101111000': 1, '11100000001101': 2, '11000111101001': 1, '10011011101001': 1, '10100011010110': 1, '00101100000010': 1, '10101000110111': 1, '00110101101001': 1, '10111011000000': 1, '11010111010110': 1, '01100010001111': 1, '10101110100000': 2, '00100011001100': 1, '00100100111101': 1, '00111100000001': 1, '10000001111010': 1, '11111011101011': 2, '10010100000111': 2, '01001110000111': 1, '11100010101001': 1, '01010011110010': 1, '10111000110101': 1, '01100011110010': 2, '10001100011010': 1, '00010000000101': 1, '10100101101111': 1, '11000100000100': 1, '00010111101000': 1, '10001100000110': 1, '01010111010110': 1, '10110111100100': 1, '11100110011111': 1, '11011101010001': 1, '01100011001011': 1, '00010100110111': 1, '11000011101000': 2, '01011000111010': 1, '00101101000000': 1, '10010001011000': 1, '01001111111101': 1, '10110110011010': 2, '01001011001010': 1, '10111011000001': 1, '01001011100000': 1, '10110000111100': 1, '10010110010001': 1, '01010010111010': 1, '00010001101110': 1, '00100111110101': 1, '00110010001100': 2, '10000111111000': 2, '11101010000011': 1, '00011000101110': 1, '10111100010001': 1, '01010111011011': 1, '11111111001000': 1, '10000101001111': 1, '10111000011011': 1, '10100110100100': 1, '00111111111000': 1, '11001100111111': 1, '11011010011110': 1, '01011110011000': 1, '11011111011001': 1, '11100000111110': 1, '01100000010101': 2, '01011101100001': 1, '10011011110001': 1, '10011101110011': 1, '01010011101111': 1, '01100000100000': 1, '11110001001000': 1, '10111101111000': 1, '11101111100000': 1, '10010101000111': 1, '10000010101110': 1, '01010110000010': 1, '10000011100010': 1, '00110010000101': 2, '11111100100111': 1, '10110001010010': 1, '11000101100011': 1, '01010111000110': 1, '11000001011000': 1, '10011100111101': 1, '11011100111000': 2, '01111100110101': 1, '01101001011101': 1, '01100100101011': 1, '11100110111110': 1, '11101000001110': 1, '11000100110111': 1, '01100110010001': 1, '01110110000010': 1, '00111001100011': 1, '10001101110100': 1, '10001010011011': 1, '00001011110010': 2, '11100110001100': 1, '10111111100101': 1, '10101010000011': 3, '11001000011101': 1, '11100010010001': 1, '11110100101010': 1, '01100011000011': 1, '00100110011011': 1, '01011001011011': 1, '01111110000100': 1, '11110001110101': 1, '11010001111001': 1, '01010000110101': 3, '01001000001000': 1, '11000001110110': 1, '01001111010110': 2, '11101011111001': 1, '11011101001010': 1, '10010001011001': 1, '00111100101001': 1, '01100110100101': 2, '01101110010010': 1, '01100010101000': 1, '10000111100000': 2, '00001111011010': 1, '10111110110000': 1, '10100011010010': 1, '00110101000111': 1, '10001111010001': 1, '10000110111000': 1, '10001101111100': 1, '11111100000010': 1, '01000110000000': 2, '10001010000110': 1, '11110011001010': 1, '00001001111110': 1, '01010111111001': 1, '00001010001010': 2, '01001001000100': 1, '01010100001100': 1, '11111001001001': 1, '01010010101101': 1, '00110101001100': 1, '11101010111100': 1, '11100000100101': 2, '00101011001111': 1, '01000011100111': 1, '10110010010111': 1, '01000101011110': 1, '11100011010111': 1, '01011111100010': 1, '01110011001001': 1, '01011010011010': 1, '11100001101110': 1, '10011010011111': 1, '10110011101000': 1, '10000000000010': 1, '01011101101001': 1, '10101010110101': 1, '00110010011010': 1, '01100100100100': 1, '11110100001111': 1, '00111111110111': 3, '00100100011111': 1, '10011101010000': 1, '10000000010101': 1, '11101101010110': 1, '10000001010100': 1, '11011001110010': 1, '11100010001010': 1, '01110000101011': 1, '10011001110110': 2, '01110010110111': 1, '01110000011100': 1, '01000010001011': 1, '10011010010000': 1, '10110000001111': 1, '10010011100010': 1, '10010100111101': 1, '10111110011001': 1, '00100010010000': 1, '10111011011010': 2, '01001100110011': 1, '00111001100110': 1, '01000111111001': 1, '11011100000000': 1, '11010000000000': 1, '10000110001101': 1, '11101101111000': 1, '01101110101010': 1, '11111111100101': 2, '01011100101100': 2, '10011001001101': 1, '00101100001010': 1, '11111011001111': 1, '10000000100101': 1, '00110111011101': 1, '01100111110001': 2, '11011011100000': 1, '01000011110101': 1, '01101110110000': 2, '10010101101011': 1, '01001001001101': 1, '01001101000000': 1, '00010101100000': 1, '11101111101011': 2, '10111110111010': 1, '10011111001000': 1, '00100001001110': 1, '10101111001000': 1, '00101010000000': 1, '11100110011110': 1, '00101101011000': 1, '11001001011110': 1, '10100100011100': 1, '01011000010000': 1, '11010100100111': 1, '10111100011011': 1, '10000110010100': 1, '10000111001110': 2, '11111100110000': 1, '00100001110100': 1, '01011010101110': 1, '11101110101101': 1, '00001100010100': 1, '01011011111000': 1, '00111110111011': 1, '00010111101100': 1, '11001001110010': 1, '10001101000010': 1, '11101111100111': 1, '10110101000100': 1, '11011000111010': 1, '10101011010101': 1, '10011011000111': 1, '10100101000001': 2, '00000100110100': 2, '01110100011001': 1, '00100000001001': 1, '11000000111110': 1, '00111110111000': 1, '10001100011110': 1, '11101011000010': 1, '10111110111101': 1, '11000100001010': 1, '11101001100001': 2, '01011010011001': 1, '00100110111111': 2, '10001110100000': 1, '01100111100001': 1, '10000101000000': 1, '00101101000110': 1, '11111001111010': 1, '00001010011011': 1, '11010011101110': 1, '00000001000010': 1, '01000110010111': 1, '10011100100001': 1, '01010100011000': 2, '11100000010000': 1, '11010001000100': 1, '10000000111111': 1, '10111111101111': 1, '11001111001010': 1, '10000100000010': 1, '00000011011110': 1, '00011111111001': 1, '01011100001100': 1, '11110000000100': 1, '01110011100110': 1, '10111000001100': 1, '00111110101101': 1, '11110110111110': 1, '00111001011101': 1, '00011011011101': 1, '01111111101101': 1, '01011011101111': 1, '10110100001011': 1, '11110110101100': 1, '10010101011100': 1, '10001011111011': 2, '10001010000101': 1, '10111110010010': 2, '10111100111011': 1, '01111010011110': 1, '10001001110101': 1, '11101010101001': 1, '10001111011011': 2, '00011110000011': 1, '01010100101111': 1, '10110100000001': 2, '10001101010010': 1, '00011011110101': 2, '10010000010101': 1, '00110011001100': 1, '11101111011110': 1, '00101010100011': 1, '11110001001101': 1, '11010111001011': 2, '11000010100110': 1, '11110001010010': 1, '10011100110100': 1, '11110011001000': 1, '11011100100101': 1, '10110001010000': 1, '01010111111110': 2, '11101111011101': 3, '01011001011001': 1, '11110011000100': 1, '11011110010010': 1, '01011101010010': 1, '10001000111000': 1, '00110100101100': 1, '01001010000111': 1, '01000011010110': 1, '00100111111101': 1, '01000000001111': 1, '01010011100010': 1, '11011010110011': 1, '01110001101110': 1, '01100111010111': 1, '00011111111010': 1, '10000110100100': 1, '11101100100100': 1, '11000000100000': 2, '00110001011010': 1, '00100111110100': 1, '01110101010110': 3, '01011100110110': 1, '00011101110010': 1, '11111010111000': 1, '01110011011010': 1, '01000001110001': 1, '01000111010100': 1, '10001000111001': 1, '01100010000000': 1, '01001000101001': 2, '11101001010010': 1, '01101011101001': 1, '11000010000110': 1, '10101110111101': 1, '00111000011001': 1, '00100000100000': 1, '01001011101110': 1, '10011000100100': 1, '01010011100011': 2, '11011010100110': 1, '01111010100001': 1, '10110101110100': 1, '00000010010101': 1, '01011111100011': 1, '11000100011000': 1, '11010011010011': 1, '11000100001111': 1, '11110101001011': 2, '01011000101000': 1, '10000000011110': 2, '11101111001101': 1, '01001001100101': 1, '11111101011110': 1, '00011100100100': 1, '01010001100110': 2, '10110111011110': 1, '01001111110010': 1, '01010001000010': 1, '10100000011101': 1, '10110000011001': 1, '11001100110011': 1, '01111000101111': 1, '11011100110011': 1, '11100101101000': 2, '10000111101111': 2, '01111110011010': 1, '01001101010111': 2, '11111011101001': 1, '00100000100100': 1, '11000111101100': 1, '01101110001001': 1, '10110011101011': 1, '10100110110111': 1, '11101010100011': 1, '00100101100101': 1, '00111010011001': 1, '01100001110011': 1, '01101010011010': 2, '10110100100110': 1, '01110001111000': 1, '11011100000101': 1, '11011000110110': 1, '01100000001011': 1, '01011101000001': 1, '01010101101000': 1, '11110000110010': 1, '00000010100011': 1, '00110100011111': 1, '11111100001100': 1, '10011001100101': 1, '01000101100101': 1, '11001110010000': 1, '00011111010101': 1, '10100100010101': 1, '10000100011011': 1, '01000011010000': 2, '00010100001000': 1, '10010101001010': 1, '11001011100110': 1, '11110111100100': 1, '11000101010100': 1, '10101110010001': 1, '11110010001000': 1, '10101001111001': 1, '10100101111111': 1, '00100101100000': 2, '01001011110100': 1, '01111010010110': 2, '00000100110001': 1, '10110001011000': 1, '10111111011000': 1, '11100000100110': 1, '10100001010111': 1, '11010001100010': 2, '00101000011010': 1, '01111110101100': 1, '10011101110100': 1, '10110101000001': 1, '01100111111000': 1, '11100011010100': 1, '00010001001110': 1, '11101110110000': 3, '11011101111001': 3, '11011101110101': 2, '11011011101110': 1, '11001101001011': 1, '01101001111100': 1, '01000110110010': 1, '11010010100000': 1, '00000100010010': 1, '01101011100011': 1, '01011001001111': 1, '00111011011100': 1, '00011010101000': 1, '00101010111110': 1, '01011011001010': 1, '10001011111010': 1, '00000001011010': 1, '00001110010100': 1, '00011011011010': 1, '11101000100010': 1, '10011101001001': 1, '00010101100001': 1, '00111101100000': 1, '10100011010101': 1, '00110000001101': 1, '10110000110101': 1, '00010110010100': 1, '11000011000101': 1, '11101011011000': 1, '11100011110101': 1, '00100010100010': 2, '01011111111110': 3, '11010010101100': 1, '11011001101111': 1, '10100100100010': 3, '01101001110001': 1, '11011100010000': 1, '00011110011000': 3, '11010010001001': 1, '11100000110101': 1, '11010001101011': 1, '00101101100001': 1, '10011110010100': 1, '01110101110010': 1, '01110110001100': 1, '01111100000010': 1, '11010110001110': 2, '11000001011100': 1, '10001101101011': 1, '01010110011011': 1, '00101111100101': 1, '11111100111111': 1, '10110010110101': 1, '10100001000110': 1, '11100001110101': 1, '01001111010101': 1, '00111101110011': 4, '11100011100100': 1, '10010101010011': 1, '11111111001101': 4, '10101010000101': 1, '10110011111001': 1, '11111110001100': 1, '11001101111010': 1, '10010110011100': 2, '10000001100000': 1, '10110111100101': 1, '01011111111111': 1, '01010000111100': 1, '00110111001111': 1, '11100000011010': 1, '11000100101111': 1, '11011101000111': 1, '11011010100001': 1, '11011001101001': 1, '11000100010001': 1, '11000111011001': 1, '01101100100000': 1, '00100010011100': 2, '00010101110011': 1, '11110111001110': 1, '10010010111101': 1, '11100100010000': 1, '00101111110110': 1, '01011111110010': 1, '00001010101111': 1, '01100011101110': 1, '10010100111100': 1, '01101101000110': 1, '11001110010001': 1, '01010001011111': 2, '00000100011110': 1, '00111011101000': 1, '00110010000010': 1, '01111101111110': 1, '01000100110010': 1, '01111110010100': 1, '11001010110110': 1, '11111111000010': 1, '00100000100110': 3, '11100101010101': 1, '10111010010011': 1, '01000011110100': 1, '01111011000110': 1, '10100100010111': 1, '10100010000100': 1, '11100100001101': 1, '01000011001001': 1, '10010010101101': 1, '00000010111110': 1, '11010011010101': 4, '10010110010000': 1, '01100000001010': 1, '01110110100000': 1, '11001000000110': 1, '01100110010101': 2, '00000011000000': 1, '11011010000111': 1, '01011100010100': 1, '00010101101001': 1, '00000110110111': 1, '01101010111000': 1, '01001010001001': 1, '00001010000010': 1, '00001000001010': 1, '11010000100110': 1, '00011111111000': 1, '00011111111110': 2, '01110010100111': 1, '11111101110100': 1, '00010000111010': 2, '00110011011111': 3, '00101010110100': 1, '10101100110100': 1, '01111001011000': 1, '01110111011111': 1, '00101011111100': 1, '10101011100011': 1, '10101100011111': 1, '01100101011100': 1, '00000100001001': 1, '01110010101110': 1, '10010001110000': 1, '01111100101101': 1, '11100010001011': 1, '01011110011110': 1, '10001001111111': 1, '01011011111011': 1, '10111001111000': 1, '11111100010011': 1, '10010001001000': 1, '11100010000110': 1, '00011001100111': 1, '10100001101101': 1, '10101001000011': 1, '01000101011111': 1, '01101101001010': 1, '11111001000100': 1, '01011110001100': 2, '00011000110100': 1, '11111100100110': 1, '10011110001010': 1, '11110110001000': 1, '00000111010110': 1, '11111001011000': 2, '01100001111010': 1, '10100111110010': 1, '10111001010110': 1, '01001101111000': 1, '10111011010000': 1, '00011100111111': 1, '01111011111110': 1, '00110101101110': 1, '00000110011111': 1, '11011110100100': 1, '11100101010001': 1, '01000100010101': 1, '10100100010000': 1, '01011000001101': 1, '10111010001001': 1, '10001101011101': 1, '11000001110001': 1, '10001111111110': 1, '01110011000011': 1, '11110111011110': 1, '01010011001010': 1, '00001000111100': 1, '11110100001100': 1, '00001110011011': 1, '00001111011000': 1, '00001101010001': 1, '01101110100001': 1, '01110001110101': 1, '11111010001001': 1, '11001001001001': 1, '00010101000100': 1, '11010110001010': 1, '00100000100011': 1, '11100111111111': 1, '00010011101110': 1, '11001010101011': 1, '00110100010001': 1, '10011100100110': 2, '01000010011010': 2, '10000100100010': 1, '10011001010111': 1, '00110100000010': 1, '10101101101000': 1, '10100000111011': 1, '11100101000011': 1, '00010000111000': 1, '11001001101011': 1, '10011100111011': 1, '11000100100001': 1, '11010111101001': 1, '01100110101101': 1, '10011000001101': 1, '01110011001110': 2, '00111101011101': 1, '10100010110100': 2, '00110011100000': 1, '11000000111011': 1, '10110100100011': 1, '00111100001010': 1, '11010100001110': 2, '11010100101111': 2, '11000000001010': 1, '10101111110000': 2, '01010010110000': 1, '10100110001101': 1, '01011111000000': 1, '00110111110110': 1, '01100111110110': 1, '00011100000100': 1, '01010000011001': 1, '10001101101100': 1, '01101010001011': 1, '01101001101101': 2, '10011110010001': 2, '11011101010010': 1, '00101010110001': 1, '10101100100001': 1, '10010100110001': 1, '01010001111000': 1, '01101100010010': 1, '00110110000000': 1, '01000110101111': 1, '00101110001010': 1, '01001000111110': 1, '00001100010110': 1, '11001000110111': 1, '00011010100000': 2, '00111100011110': 1, '00000100000001': 1, '01100110101000': 1, '01010101101100': 1, '00111100111010': 1, '10000001010111': 1, '11001010001111': 1, '00000100010011': 1, '10000000100111': 1, '00010111110110': 1, '00001100100110': 1, '00000100001101': 2, '10001010010111': 1, '11001101101000': 1, '00101001010101': 1, '11100111011000': 1, '00101010000001': 1, '01100000100111': 2, '10010011000011': 1, '11111010011101': 1, '01101110110101': 1, '00101111101011': 1, '00010001011101': 1, '01010111011111': 1, '10100010111100': 1, '11110111010111': 1, '10001000011000': 1, '11001110000110': 1, '10101100110101': 1, '00011111101101': 1, '00111011101011': 1, '00111100101010': 1, '10000010011110': 1, '00011001101000': 2, '01110011100100': 1, '01011110001111': 1, '00010111001110': 1, '00101001011110': 1, '01111000100000': 1, '10100011101111': 1, '00001001010001': 1, '11011011101111': 1, '01001100001001': 1, '11001000001111': 1, '10100111000011': 1, '10001011110101': 1, '10110000001100': 1, '10110101001101': 1, '11010000110011': 1, '00111001111011': 1, '00111101001110': 1, '01111001111000': 1, '10001001110110': 1, '10001100001001': 1, '01010101001001': 1, '11011101001000': 1, '00111000001110': 1, '01110010110101': 1, '10011110101111': 1, '10100000110001': 1, '00111000001000': 1, '01000111110100': 1, '10011010000110': 1, '11110100110011': 1, '11011011000010': 1, '11101000011110': 1, '11001010011110': 1, '00101100111110': 1, '01000111100010': 1, '10100111100010': 1, '11101110110110': 1, '10011000101101': 1, '00111011101001': 1, '00110101001111': 1, '01000110110001': 1, '11111001000010': 1, '01011011000100': 2, '10010000101010': 1, '10011010001011': 1, '10000110110110': 1, '01010011101101': 1, '11100001011100': 1, '00001011100011': 1, '10011111011010': 1, '00011111011111': 1, '00001101011111': 1, '11101011110100': 1, '00111001110000': 1, '00101111110001': 1, '01110111010011': 1, '10100111100110': 1, '11100001000110': 1, '10011110000111': 1, '11000100011110': 1, '00110111101101': 1, '10010111001011': 1, '10011110010101': 1, '10111001000011': 1, '10111001110011': 1, '10000011011101': 2, '01101011000110': 1, '01100111100100': 1, '11110010010101': 1, '10011011001101': 1, '01100001100000': 1, '01010000010000': 1, '11111110011011': 1, '11001001100101': 1, '00001011101011': 1, '00010001101001': 1, '00000000000111': 1, '01110001001010': 1, '00110000000110': 1, '00100011110010': 1, '11011100101110': 1, '11110100011110': 1, '11100000000101': 1, '10011110101010': 1, '01001011100001': 1, '00110010100101': 1, '11101110010000': 2, '10011110100001': 2, '00001101101011': 1, '01001101101011': 1, '11001101010110': 1, '00110000101110': 1, '00110000110111': 1, '10000110000100': 2, '11000000001100': 1, '11100101111100': 1, '01010010110101': 2, '01111110100110': 1, '01101110111111': 1, '10011010001000': 1, '10000111000000': 1, '10110111100110': 1, '00100000110111': 1, '11101011110000': 1, '10110111111110': 1, '11100100100011': 1, '00010000110111': 2, '11011010110000': 1, '10011110111110': 1, '00010011000001': 1, '01010000011100': 1, '11011011011010': 1, '01000111011001': 1, '11010110010011': 1, '01001011100111': 1, '11000100110100': 1, '11001011101101': 1, '11001010000011': 1, '11011010101001': 1, '10000001110110': 1, '10101110001100': 1, '11111010001011': 1, '10110110110110': 1, '01100000101000': 1, '11110111001100': 2, '01100111010101': 1, '01001011111010': 1, '01001100101101': 1, '11000101100111': 1, '11000110000110': 1, '11111111010110': 1, '10011010001101': 1, '00100111101011': 1, '01000011101101': 1, '01101101010100': 1, '01010010110011': 1, '10000101001000': 1, '10101101101100': 1, '00011000100100': 1, '10001100101101': 1, '11110111101010': 1, '11001011111101': 1, '10110110100010': 2, '00110010010111': 1, '01111110001111': 1, '00010000110010': 1, '11111111011111': 1, '00000111000110': 1, '10110010001101': 1, '10000111111011': 1, '00011011100001': 1, '11000101010011': 1, '00000111011011': 1, '11001100000011': 1, '11010100100010': 2, '11001000110000': 1, '11101101100010': 2, '10110111101001': 1, '11000000011100': 1, '10101001100000': 1, '10111110011101': 1, '10000011110111': 1, '01000001000011': 1, '11011100101001': 2, '11011011011011': 1, '11100111100101': 1, '10100011000100': 1, '10000000011010': 1, '10110101110110': 1, '11000110100000': 1, '10111110101100': 1, '01100011100111': 2, '11100001111011': 2, '10101111011001': 1, '00100001100101': 1, '11110110011010': 1, '00011010101010': 1, '00100111000100': 1, '10101000101111': 1, '11100110110111': 1, '11001111111000': 1, '10110101110101': 1, '01001100000001': 1, '10101000001111': 1, '11010001101100': 1, '11001111110111': 1, '10000010101010': 1, '10000000011111': 2, '10000100111011': 1, '11000011011111': 1, '11010000000011': 1, '00010110100110': 1, '11101010011101': 1, '10011001100001': 1, '10001001001101': 1, '00000100110000': 1, '00100000110010': 1, '01011000010110': 1, '10111000000101': 1, '11110000101101': 1, '00110000100010': 1, '10000101001100': 1, '10111001011100': 1, '01100110000011': 1, '00101110000111': 1, '11001011001000': 1, '01111010100010': 1, '00011110100110': 1, '11110111110110': 1, '00111010100101': 1, '00001110001111': 1, '10110001111100': 1, '11001110000100': 1, '11011011011001': 1, '01001101110001': 1, '00111110101111': 1, '11101000000000': 1, '00011111100000': 1, '00100001110001': 1, '10110000010000': 1, '00101101100011': 1, '10100000011011': 1, '10000000111100': 1, '00001111011001': 1, '11000111011011': 1, '01111101101010': 1, '11111000001000': 1, '11011111110000': 1, '11100011101010': 2, '11111010000100': 2, '11100000100010': 1, '00111001101001': 1, '00011010011000': 1, '00000011000111': 2, '01101010001010': 1, '10101000011101': 1, '00010100000000': 1, '01101010010001': 1, '00110010110101': 1, '11110100110010': 1, '11001100101110': 1, '11011000011101': 1, '01101101001000': 1, '00000011001100': 2, '10010001100100': 1, '00100110111010': 1, '11010110110111': 1, '10001010111110': 1, '11011111010001': 1, '01011111001111': 1, '10000001110000': 1, '01011101001011': 1, '00010101101010': 1, '01111010010111': 1, '00100101101011': 1, '11000110111001': 1, '10001010010110': 1, '11100001010110': 1, '01110110101001': 2, '01100001101101': 1, '00000011010001': 1, '01110100011100': 1, '11000101001010': 1, '10011011100100': 1, '11001101111011': 1, '01101011100110': 1, '00010000111111': 2, '10000001010101': 1, '01000111111010': 1, '00110100101110': 3, '10000111110010': 1, '10010100011110': 1, '00011001110010': 2, '01000110011010': 1, '00011111100010': 1, '11110011001001': 1, '11110000100111': 1, '01001101010101': 3, '01010110001101': 1, '00100010010001': 1, '11101111000001': 1, '10011000010111': 1, '10110100100010': 1, '00011011110111': 1, '00001101100000': 1, '11010001111010': 1, '00010110000111': 1, '00011100100110': 1, '01010101001110': 1, '11000001010001': 1, '01011100100101': 1, '11100011001011': 1, '01010110000001': 1, '10100110011110': 1, '00110111010000': 1, '10100111010101': 1, '01011001000111': 1, '11010010001011': 1, '10010011001000': 1, '10011101101011': 1, '01010001101110': 2, '11100010000000': 1, '10011100010001': 2, '00100100000001': 1, '01000111101000': 1, '00110001010011': 1, '10100001101110': 1, '11110101100000': 1, '01101011100101': 1, '10010100101010': 1, '11100011110111': 1, '00101100101010': 1, '10101010001100': 1, '10101001110011': 1, '10011000001111': 1, '10101010111101': 1, '00010100011101': 1, '11011000001010': 1, '00011100101000': 1, '00111011101111': 1, '11000111001010': 1, '10000111111101': 1, '01100011011111': 1, '00101001110100': 1, '01000100011101': 1, '11001110111011': 1, '00001000000011': 1, '11000111011010': 1, '01111000101010': 1, '01011001100011': 1, '01000000011101': 1, '00011010111110': 1, '01000011011010': 1, '00011010100110': 1, '10010001101001': 1, '00011111001110': 1, '01010001001011': 1, '01010000000111': 1, '01100101101111': 1, '11011001110000': 1, '01011000101111': 1, '11000001010101': 1, '00100010111111': 1, '11111110101000': 1, '01000010110111': 1, '11100000111111': 1, '10000011000100': 1, '01001001110011': 1, '01010111000111': 1, '01110011000111': 1, '01001010000110': 1, '00000000000000': 1, '00011110111011': 1, '11011011101011': 1, '01111110111110': 1, '01010100100011': 1, '00010010101011': 1, '01010101000000': 1, '11100010110101': 1, '00011001001111': 2, '00011001011101': 1, '11000010001110': 1, '00101110111111': 2, '10000111111100': 1, '00000100011101': 1, '00101101011111': 1, '10111111101001': 1, '01000001010110': 1, '00110101100110': 1, '10001100010011': 1, '11100011110000': 2, '00101011010011': 1, '00010100010111': 1, '11001010101111': 1, '10010001000000': 1, '00101100011111': 1, '01001001111100': 1, '01111100010010': 1, '11000101000011': 1, '11100000100011': 1, '01110011111101': 1, '10110000010011': 1, '00011100011000': 2, '11010011101100': 1, '00100110110110': 1, '01110101100001': 1, '00001000111000': 1, '10110011010011': 1, '10110111101101': 2, '11101011111101': 1, '11101110100001': 1, '10011110100000': 1, '10001110011011': 1, '00110011011110': 2, '11101110010011': 1}\n",
            "Most frequent bitstrings (likely optimal/near-optimal solutions):\n",
            "Bitstring: 00111101110011, Frequency: 4\n",
            "Bitstring: 11111111001101, Frequency: 4\n",
            "Bitstring: 11010011010101, Frequency: 4\n"
          ]
        }
      ]
    },
    {
      "cell_type": "code",
      "source": [
        "l = int(np.ceil(np.sum(w)/B))\n",
        "for bitstring in bitstrings[:3]:\n",
        "  # print(bitstring[0])\n",
        "  res = np.array([int(bit) for bit in bitstring[0]])\n",
        "  # flag = validate_solution(res, w, B, num_items, n)\n",
        "  plot_bins(res, w, n, len(I), B, l, simplify=True, vqe=True)"
      ],
      "metadata": {
        "colab": {
          "base_uri": "https://localhost:8080/",
          "height": 1000
        },
        "id": "cK0-qncyaKnP",
        "outputId": "9f285ce9-f0f7-421d-8095-aefc60dd8107"
      },
      "execution_count": 246,
      "outputs": [
        {
          "output_type": "display_data",
          "data": {
            "text/plain": [
              "<Figure size 640x480 with 1 Axes>"
            ],
            "image/png": "[encoded data removed]"
          },
          "metadata": {}
        },
        {
          "output_type": "display_data",
          "data": {
            "text/plain": [
              "<Figure size 640x480 with 1 Axes>"
            ],
            "image/png": "[encoded data removed]"
          },
          "metadata": {}
        },
        {
          "output_type": "display_data",
          "data": {
            "text/plain": [
              "<Figure size 640x480 with 1 Axes>"
            ],
            "image/png": "[encoded data removed]"
          },
          "metadata": {}
        }
      ]
    },
    {
      "cell_type": "markdown",
      "source": [
        "Use QAOA to solve the QUBO."
      ],
      "metadata": {
        "id": "0mCGdoVgNP1-"
      }
    },
    {
      "cell_type": "code",
      "source": [
        "op, offset = qubo.to_ising()\n",
        "ham_op = op\n",
        "ham_op"
      ],
      "metadata": {
        "colab": {
          "base_uri": "https://localhost:8080/"
        },
        "id": "QJuH3ep2u2Ri",
        "outputId": "afc844e0-c538-43a1-96d0-39e97a60a9b6"
      },
      "execution_count": 248,
      "outputs": [
        {
          "output_type": "execute_result",
          "data": {
            "text/plain": [
              "SparsePauliOp(['IIIIIIIIIIIIIZ', 'IIIIIIIIIIIZII', 'IIIIIIIIIZIIII', 'IIIIIIIIIIIIZI', 'IIIIIIIIIIZIII', 'IIIIIIIIZIIIII', 'IIIIIIIZIIIIII', 'IIIIIIZIIIIIII', 'IIIIIZIIIIIIII', 'IIIIZIIIIIIIII', 'IIIZIIIIIIIIII', 'IIZIIIIIIIIIII', 'IZIIIIIIIIIIII', 'ZIIIIIIIIIIIII', 'IIIIIIIIIIIIZZ', 'IIIIIIIIIIIZIZ', 'IIIIIIIIIZIIIZ', 'IIIIIIIZIIIIIZ', 'IIIIIIZIIIIIIZ', 'IIIIIIIIIIZIZI', 'IIIIIIIIZIIIZI', 'IIIIIIIZIIIIZI', 'IIIIIIZIIIIIZI', 'IIIIIIIIIIZZII', 'IIIIIIIIIZIZII', 'IIIIIZIIIIIZII', 'IIIIZIIIIIIZII', 'IIIZIIIIIIIZII', 'IIIIIIIIZIZIII', 'IIIIIZIIIIZIII', 'IIIIZIIIIIZIII', 'IIIZIIIIIIZIII', 'IIIIIIIIZZIIII', 'IIZIIIIIIZIIII', 'IZIIIIIIIZIIII', 'ZIIIIIIIIZIIII', 'IIZIIIIIZIIIII', 'IZIIIIIIZIIIII', 'ZIIIIIIIZIIIII', 'IIIIIIZZIIIIII', 'IIIIZZIIIIIIII', 'IIIZIZIIIIIIII', 'IIIZZIIIIIIIII', 'IZZIIIIIIIIIII', 'ZIZIIIIIIIIIII', 'ZZIIIIIIIIIIII'],\n",
              "              coeffs=[ -8. +0.j,  -5. +0.j,  -5. +0.j, -10.5+0.j,  -6.5+0.j,  -6.5+0.j,\n",
              "  -2.5+0.j,  -2.5+0.j,  -1.5+0.j,  -3. +0.j,  -1.5+0.j,  -1.5+0.j,\n",
              "  -3. +0.j,  -1.5+0.j,   6. +0.j,   0.5+0.j,   0.5+0.j,   1.5+0.j,\n",
              "   1.5+0.j,   0.5+0.j,   0.5+0.j,   2. +0.j,   2. +0.j,   6. +0.j,\n",
              "   0.5+0.j,   1.5+0.j,   3. +0.j,   1.5+0.j,   0.5+0.j,   2. +0.j,\n",
              "   4. +0.j,   2. +0.j,   6. +0.j,   1.5+0.j,   3. +0.j,   1.5+0.j,\n",
              "   2. +0.j,   4. +0.j,   2. +0.j,   0.5+0.j,   1. +0.j,   0.5+0.j,\n",
              "   1. +0.j,   1. +0.j,   0.5+0.j,   1. +0.j])"
            ]
          },
          "metadata": {},
          "execution_count": 248
        }
      ]
    },
    {
      "cell_type": "code",
      "source": [
        "run_qaoa()"
      ],
      "metadata": {
        "id": "DoCPG63p2SXf",
        "colab": {
          "base_uri": "https://localhost:8080/"
        },
        "outputId": "e861834b-3e82-4270-c4ce-d70ec805529e"
      },
      "execution_count": 249,
      "outputs": [
        {
          "output_type": "stream",
          "name": "stderr",
          "text": [
            "<ipython-input-249-b16349285dc5>:60: DeprecationWarning: The class ``qiskit.primitives.estimator.Estimator`` is deprecated as of qiskit 1.2. It will be removed no earlier than 3 months after the release date. All implementations of the `BaseEstimatorV1` interface have been deprecated in favor of their V2 counterparts. The V2 alternative for the `Estimator` class is `StatevectorEstimator`.\n",
            "  gpu_estimator = AerEstimator()\n"
          ]
        },
        {
          "output_type": "stream",
          "name": "stdout",
          "text": [
            "Optimal parameters found by QAOA: [0.42683306 1.12471978]\n",
            "Optimal value (minimized expectation): -4.187617293434286\n"
          ]
        }
      ]
    },
    {
      "cell_type": "code",
      "source": [
        "gamma = result.x[0]\n",
        "beta = result.x[1]"
      ],
      "metadata": {
        "id": "Olp4C68j1rYE"
      },
      "execution_count": 250,
      "outputs": []
    },
    {
      "cell_type": "code",
      "source": [
        "from qiskit.primitives import Sampler\n",
        "\n",
        "# Step 1: Run the QAOA circuit and sample bitstrings using Sampler\n",
        "def sample_bitstrings(gamma, beta, hamiltonian, shots=1024):\n",
        "    qc = qaoa_ansatz(gamma, beta, hamiltonian)\n",
        "\n",
        "    # Use the Sampler primitive to sample bitstrings\n",
        "    sampler = Sampler()\n",
        "    qc.measure_all()\n",
        "    # Run the circuit with the sampler to get samples\n",
        "    job = sampler.run(circuits=[qc], shots=shots)\n",
        "    result = job.result()\n",
        "\n",
        "    # Get the bitstring samples (counts as a quasi-distribution)\n",
        "    counts = result.quasi_dists[0]\n",
        "    return counts\n",
        "\n",
        "# Step 2: Evaluate the cost function for each bitstring\n",
        "def evaluate_bitstring(bitstring, hamiltonian):\n",
        "    \"\"\"Evaluate the cost (Hamiltonian value) for a given bitstring.\"\"\"\n",
        "    bit_array = np.array([1 if b == '1' else -1 for b in bitstring])  # Convert '1' -> 1, '0' -> -1\n",
        "    cost = 0.0\n",
        "    for pauli, coeff in zip(hamiltonian.primitive.paulis, hamiltonian.coeffs):\n",
        "        value = np.prod([bit_array[i] if p != 'I' else 1 for i, p in enumerate(pauli.to_label())])\n",
        "        cost += coeff * value\n",
        "    return cost.real\n",
        "\n",
        "# Step 3: Post-processing to find the best bitstring\n",
        "def find_best_bitstring(counts, hamiltonian):\n",
        "    \"\"\"Given sampled bitstrings and their counts, find the best bitstring.\"\"\"\n",
        "    best_bitstring = None\n",
        "    best_cost = float('inf')\n",
        "\n",
        "    # Convert quasi-probability distribution to actual bitstrings and evaluate them\n",
        "    for bitstring, count in counts.items():\n",
        "        bitstring = format(int(bitstring, 16), f'0{hamiltonian.num_qubits}b')  # Convert hex to binary string\n",
        "        cost = evaluate_bitstring(bitstring, hamiltonian)\n",
        "        if cost < best_cost:\n",
        "            best_cost = cost\n",
        "            best_bitstring = bitstring\n",
        "\n",
        "    return best_bitstring, best_cost"
      ],
      "metadata": {
        "id": "sddhsFSiyhJL"
      },
      "execution_count": 261,
      "outputs": []
    },
    {
      "cell_type": "code",
      "source": [
        "bitsrings = sample_bitstrings(gamma, beta, ham_op)\n",
        "l = int(np.ceil(np.sum(w)/B))\n",
        "for bitstring in bitstrings[:3]:\n",
        "  # print(bitstring[0])\n",
        "  res = np.array([int(bit) for bit in bitstring[0]])\n",
        "  # flag = validate_solution(res, w, B, num_items, n)\n",
        "  plot_bins(res, w, n, len(I), B, l, simplify=True, vqe=True)"
      ],
      "metadata": {
        "colab": {
          "base_uri": "https://localhost:8080/",
          "height": 1000
        },
        "id": "PL2WY2lkmkfQ",
        "outputId": "9ed359c5-5d5c-4f6b-b70d-4518ae6d6172"
      },
      "execution_count": 262,
      "outputs": [
        {
          "output_type": "stream",
          "name": "stderr",
          "text": [
            "<ipython-input-261-6148a78df942>:8: DeprecationWarning: The class ``qiskit.primitives.sampler.Sampler`` is deprecated as of qiskit 1.2. It will be removed no earlier than 3 months after the release date. All implementations of the `BaseSamplerV1` interface have been deprecated in favor of their V2 counterparts. The V2 alternative for the `Sampler` class is `StatevectorSampler`.\n",
            "  sampler = Sampler()\n"
          ]
        },
        {
          "output_type": "display_data",
          "data": {
            "text/plain": [
              "<Figure size 640x480 with 1 Axes>"
            ],
            "image/png": "[encoded data removed]"
          },
          "metadata": {}
        },
        {
          "output_type": "display_data",
          "data": {
            "text/plain": [
              "<Figure size 640x480 with 1 Axes>"
            ],
            "image/png": "[encoded data removed]"
          },
          "metadata": {}
        },
        {
          "output_type": "display_data",
          "data": {
            "text/plain": [
              "<Figure size 640x480 with 1 Axes>"
            ],
            "image/png": "[encoded data removed]"
          },
          "metadata": {}
        }
      ]
    },
    {
      "cell_type": "markdown",
      "source": [
        "# Compare and analyze the results"
      ],
      "metadata": {
        "id": "K1PdL7d90Er2"
      }
    },
    {
      "cell_type": "markdown",
      "source": [
        "What is the difference between QAOA, Quantum Annealing, and Quantum Variational approaches with different Ansatz?\n",
        "\n",
        "| **Feature**                     | **QAOA**                                                      | **Quantum Annealing**                                         | **Variational Quantum Approaches (VQE)**                    |\n",
        "|----------------------------------|---------------------------------------------------------------|---------------------------------------------------------------|-------------------------------------------------------------|\n",
        "| **Quantum-Classical Hybrid**     | Yes, classical optimization for parameter tuning              | No, fully quantum but evolves the system adiabatically         | Yes, classical optimizer for ansatz parameter tuning         |\n",
        "| **Ansatz**                       | Yes, fixed (problem-inspired) ansatz                          | No ansatz, natural evolution under problem Hamiltonian         | Yes, customizable ansatz (e.g., UCCSD, hardware-efficient)   |\n",
        "| **Optimization Focus**           | Combinatorial optimization (e.g., MAXCUT, QUBO)               | Optimization problems formulated as Ising/QUBO problems        | Broad (e.g., quantum chemistry, combinatorial optimization)  |\n",
        "| **Quantum Circuit Depth**        | Depends on \\( p \\) layers (increases with accuracy)           | Not gate-based (analog computation)                           | Varies by ansatz, depth increases with accuracy and complexity |\n",
        "| **Energy Landscape Exploration** | Explores discrete solutions by varying quantum circuit layers | Gradual energy minimization by adiabatic evolution             | Energy minimization using quantum circuit and classical optimizer |\n",
        "| **Hardware Requirements**        | Gate-based quantum computers (IBM Q, Rigetti, etc.)           | Specialized hardware (D-Wave, quantum annealers)               | Gate-based quantum computers                                 |\n"
      ],
      "metadata": {
        "id": "ilp6plqh0Jf5"
      }
    },
    {
      "cell_type": "markdown",
      "source": [
        "How do the results compare with the brute force approach?\n",
        "\n",
        "For smaller problem instances, the brute force approach outperforms both the variational algorithm and QAOA in terms of accuracy. However, quantum annealing consistently provides accurate results across all problem sizes, maintaining its performance even as the problem scales."
      ],
      "metadata": {
        "id": "f8G_0XYr0fP3"
      }
    },
    {
      "cell_type": "code",
      "source": [],
      "metadata": {
        "id": "RrUx6a7E1GU3"
      },
      "execution_count": null,
      "outputs": []
    }
  ]
}