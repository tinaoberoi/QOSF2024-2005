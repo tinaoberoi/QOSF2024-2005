{
  "nbformat": 4,
  "nbformat_minor": 0,
  "metadata": {
    "colab": {
      "provenance": [],
      "machine_shape": "hm",
      "gpuType": "A100",
      "collapsed_sections": [
        "yhWWH0pswmGz",
        "4Y56wRMYwrim",
        "xWCX18IGzYKo"
      ]
    },
    "kernelspec": {
      "name": "python3",
      "display_name": "Python 3"
    },
    "language_info": {
      "name": "python"
    },
    "accelerator": "GPU"
  },
  "cells": [
    {
      "cell_type": "markdown",
      "source": [
        "# Installations"
      ],
      "metadata": {
        "id": "yhWWH0pswmGz"
      }
    },
    {
      "cell_type": "code",
      "source": [
        "!pip install docplex\n",
        "!pip install qiskit_optimization\n",
        "!pip install cplex\n",
        "!pip install dwave-ocean-sdk\n",
        "!pip install pylatexenc\n",
        "!pip install qiskit_aer"
      ],
      "metadata": {
        "colab": {
          "base_uri": "https://localhost:8080/"
        },
        "id": "N-7SHy1jwlpc",
        "outputId": "350efb43-9f7e-4ce4-b5c0-177b2eb5a86d"
      },
      "execution_count": 1,
      "outputs": [
        {
          "output_type": "stream",
          "name": "stdout",
          "text": [
            "Collecting docplex\n",
            "  Downloading docplex-2.28.240.tar.gz (643 kB)\n",
            "\u001b[?25l     \u001b[90m━━━━━━━━━━━━━━━━━━━━━━━━━━━━━━━━━━━━━━━━\u001b[0m \u001b[32m0.0/643.4 kB\u001b[0m \u001b[31m?\u001b[0m eta \u001b[36m-:--:--\u001b[0m\r\u001b[2K     \u001b[90m━━━━━━━━━━━━━━━━━━━━━━━━━━━━━━━━━━━━━━━━\u001b[0m \u001b[32m643.4/643.4 kB\u001b[0m \u001b[31m31.8 MB/s\u001b[0m eta \u001b[36m0:00:00\u001b[0m\n",
            "\u001b[?25h  Installing build dependencies ... \u001b[?25l\u001b[?25hdone\n",
            "  Getting requirements to build wheel ... \u001b[?25l\u001b[?25hdone\n",
            "  Installing backend dependencies ... \u001b[?25l\u001b[?25hdone\n",
            "  Preparing metadata (pyproject.toml) ... \u001b[?25l\u001b[?25hdone\n",
            "Requirement already satisfied: six in /usr/local/lib/python3.10/dist-packages (from docplex) (1.16.0)\n",
            "Building wheels for collected packages: docplex\n",
            "  Building wheel for docplex (pyproject.toml) ... \u001b[?25l\u001b[?25hdone\n",
            "  Created wheel for docplex: filename=docplex-2.28.240-py3-none-any.whl size=682834 sha256=8c72855576c21b670a7de8c03afc9a23776df1f8afefcbca154eeee34bae830a\n",
            "  Stored in directory: /root/.cache/pip/wheels/1b/ec/59/cc07dedc67b032a492201f6f26c1f3c9e667ef208c9213ba6d\n",
            "Successfully built docplex\n",
            "Installing collected packages: docplex\n",
            "Successfully installed docplex-2.28.240\n",
            "Collecting qiskit_optimization\n",
            "  Downloading qiskit_optimization-0.6.1-py3-none-any.whl.metadata (8.6 kB)\n",
            "Collecting qiskit>=0.44 (from qiskit_optimization)\n",
            "  Downloading qiskit-1.2.4-cp38-abi3-manylinux_2_17_x86_64.manylinux2014_x86_64.whl.metadata (12 kB)\n",
            "Collecting qiskit-algorithms>=0.2.0 (from qiskit_optimization)\n",
            "  Downloading qiskit_algorithms-0.3.0-py3-none-any.whl.metadata (4.2 kB)\n",
            "Requirement already satisfied: scipy>=1.9.0 in /usr/local/lib/python3.10/dist-packages (from qiskit_optimization) (1.13.1)\n",
            "Requirement already satisfied: numpy>=1.17 in /usr/local/lib/python3.10/dist-packages (from qiskit_optimization) (1.26.4)\n",
            "Requirement already satisfied: docplex!=2.24.231,>=2.21.207 in /usr/local/lib/python3.10/dist-packages (from qiskit_optimization) (2.28.240)\n",
            "Requirement already satisfied: setuptools>=40.1.0 in /usr/local/lib/python3.10/dist-packages (from qiskit_optimization) (71.0.4)\n",
            "Requirement already satisfied: networkx>=2.6.3 in /usr/local/lib/python3.10/dist-packages (from qiskit_optimization) (3.4)\n",
            "Requirement already satisfied: six in /usr/local/lib/python3.10/dist-packages (from docplex!=2.24.231,>=2.21.207->qiskit_optimization) (1.16.0)\n",
            "Collecting rustworkx>=0.15.0 (from qiskit>=0.44->qiskit_optimization)\n",
            "  Downloading rustworkx-0.15.1-cp38-abi3-manylinux_2_17_x86_64.manylinux2014_x86_64.whl.metadata (9.9 kB)\n",
            "Requirement already satisfied: sympy>=1.3 in /usr/local/lib/python3.10/dist-packages (from qiskit>=0.44->qiskit_optimization) (1.13.3)\n",
            "Collecting dill>=0.3 (from qiskit>=0.44->qiskit_optimization)\n",
            "  Downloading dill-0.3.9-py3-none-any.whl.metadata (10 kB)\n",
            "Requirement already satisfied: python-dateutil>=2.8.0 in /usr/local/lib/python3.10/dist-packages (from qiskit>=0.44->qiskit_optimization) (2.8.2)\n",
            "Collecting stevedore>=3.0.0 (from qiskit>=0.44->qiskit_optimization)\n",
            "  Downloading stevedore-5.3.0-py3-none-any.whl.metadata (2.3 kB)\n",
            "Requirement already satisfied: typing-extensions in /usr/local/lib/python3.10/dist-packages (from qiskit>=0.44->qiskit_optimization) (4.12.2)\n",
            "Collecting symengine<0.14,>=0.11 (from qiskit>=0.44->qiskit_optimization)\n",
            "  Downloading symengine-0.13.0-cp310-cp310-manylinux_2_17_x86_64.manylinux2014_x86_64.whl.metadata (1.2 kB)\n",
            "Collecting pbr>=2.0.0 (from stevedore>=3.0.0->qiskit>=0.44->qiskit_optimization)\n",
            "  Downloading pbr-6.1.0-py2.py3-none-any.whl.metadata (3.4 kB)\n",
            "Requirement already satisfied: mpmath<1.4,>=1.1.0 in /usr/local/lib/python3.10/dist-packages (from sympy>=1.3->qiskit>=0.44->qiskit_optimization) (1.3.0)\n",
            "Downloading qiskit_optimization-0.6.1-py3-none-any.whl (167 kB)\n",
            "\u001b[2K   \u001b[90m━━━━━━━━━━━━━━━━━━━━━━━━━━━━━━━━━━━━━━━━\u001b[0m \u001b[32m167.6/167.6 kB\u001b[0m \u001b[31m16.1 MB/s\u001b[0m eta \u001b[36m0:00:00\u001b[0m\n",
            "\u001b[?25hDownloading qiskit-1.2.4-cp38-abi3-manylinux_2_17_x86_64.manylinux2014_x86_64.whl (4.8 MB)\n",
            "\u001b[2K   \u001b[90m━━━━━━━━━━━━━━━━━━━━━━━━━━━━━━━━━━━━━━━━\u001b[0m \u001b[32m4.8/4.8 MB\u001b[0m \u001b[31m77.9 MB/s\u001b[0m eta \u001b[36m0:00:00\u001b[0m\n",
            "\u001b[?25hDownloading qiskit_algorithms-0.3.0-py3-none-any.whl (308 kB)\n",
            "\u001b[2K   \u001b[90m━━━━━━━━━━━━━━━━━━━━━━━━━━━━━━━━━━━━━━━━\u001b[0m \u001b[32m308.6/308.6 kB\u001b[0m \u001b[31m30.2 MB/s\u001b[0m eta \u001b[36m0:00:00\u001b[0m\n",
            "\u001b[?25hDownloading dill-0.3.9-py3-none-any.whl (119 kB)\n",
            "\u001b[2K   \u001b[90m━━━━━━━━━━━━━━━━━━━━━━━━━━━━━━━━━━━━━━━━\u001b[0m \u001b[32m119.4/119.4 kB\u001b[0m \u001b[31m12.7 MB/s\u001b[0m eta \u001b[36m0:00:00\u001b[0m\n",
            "\u001b[?25hDownloading rustworkx-0.15.1-cp38-abi3-manylinux_2_17_x86_64.manylinux2014_x86_64.whl (2.0 MB)\n",
            "\u001b[2K   \u001b[90m━━━━━━━━━━━━━━━━━━━━━━━━━━━━━━━━━━━━━━━━\u001b[0m \u001b[32m2.0/2.0 MB\u001b[0m \u001b[31m85.5 MB/s\u001b[0m eta \u001b[36m0:00:00\u001b[0m\n",
            "\u001b[?25hDownloading stevedore-5.3.0-py3-none-any.whl (49 kB)\n",
            "\u001b[2K   \u001b[90m━━━━━━━━━━━━━━━━━━━━━━━━━━━━━━━━━━━━━━━━\u001b[0m \u001b[32m49.7/49.7 kB\u001b[0m \u001b[31m5.6 MB/s\u001b[0m eta \u001b[36m0:00:00\u001b[0m\n",
            "\u001b[?25hDownloading symengine-0.13.0-cp310-cp310-manylinux_2_17_x86_64.manylinux2014_x86_64.whl (49.7 MB)\n",
            "\u001b[2K   \u001b[90m━━━━━━━━━━━━━━━━━━━━━━━━━━━━━━━━━━━━━━━━\u001b[0m \u001b[32m49.7/49.7 MB\u001b[0m \u001b[31m45.7 MB/s\u001b[0m eta \u001b[36m0:00:00\u001b[0m\n",
            "\u001b[?25hDownloading pbr-6.1.0-py2.py3-none-any.whl (108 kB)\n",
            "\u001b[2K   \u001b[90m━━━━━━━━━━━━━━━━━━━━━━━━━━━━━━━━━━━━━━━━\u001b[0m \u001b[32m108.5/108.5 kB\u001b[0m \u001b[31m9.4 MB/s\u001b[0m eta \u001b[36m0:00:00\u001b[0m\n",
            "\u001b[?25hInstalling collected packages: symengine, rustworkx, pbr, dill, stevedore, qiskit, qiskit-algorithms, qiskit_optimization\n",
            "Successfully installed dill-0.3.9 pbr-6.1.0 qiskit-1.2.4 qiskit-algorithms-0.3.0 qiskit_optimization-0.6.1 rustworkx-0.15.1 stevedore-5.3.0 symengine-0.13.0\n",
            "Collecting cplex\n",
            "  Downloading cplex-22.1.1.2-cp310-cp310-manylinux1_x86_64.whl.metadata (56 kB)\n",
            "\u001b[2K     \u001b[90m━━━━━━━━━━━━━━━━━━━━━━━━━━━━━━━━━━━━━━━━\u001b[0m \u001b[32m57.0/57.0 kB\u001b[0m \u001b[31m5.5 MB/s\u001b[0m eta \u001b[36m0:00:00\u001b[0m\n",
            "\u001b[?25hDownloading cplex-22.1.1.2-cp310-cp310-manylinux1_x86_64.whl (44.2 MB)\n",
            "\u001b[2K   \u001b[90m━━━━━━━━━━━━━━━━━━━━━━━━━━━━━━━━━━━━━━━━\u001b[0m \u001b[32m44.2/44.2 MB\u001b[0m \u001b[31m6.1 MB/s\u001b[0m eta \u001b[36m0:00:00\u001b[0m\n",
            "\u001b[?25hInstalling collected packages: cplex\n",
            "Successfully installed cplex-22.1.1.2\n",
            "Collecting dwave-ocean-sdk\n",
            "  Downloading dwave_ocean_sdk-8.0.1-py3-none-any.whl.metadata (5.7 kB)\n",
            "Collecting dimod==0.12.17 (from dwave-ocean-sdk)\n",
            "  Downloading dimod-0.12.17-cp310-cp310-manylinux_2_17_x86_64.manylinux2014_x86_64.whl.metadata (4.1 kB)\n",
            "Collecting dwave-cloud-client==0.13.1 (from dwave-ocean-sdk)\n",
            "  Downloading dwave_cloud_client-0.13.1-py3-none-any.whl.metadata (5.5 kB)\n",
            "Collecting dwave-gate==0.3.2 (from dwave-ocean-sdk)\n",
            "  Downloading dwave_gate-0.3.2-cp310-cp310-manylinux_2_17_x86_64.manylinux2014_x86_64.whl.metadata (18 kB)\n",
            "Collecting dwave-greedy==0.3.0 (from dwave-ocean-sdk)\n",
            "  Downloading dwave_greedy-0.3.0-py3-none-any.whl.metadata (4.6 kB)\n",
            "Collecting dwave-hybrid==0.6.12 (from dwave-ocean-sdk)\n",
            "  Downloading dwave_hybrid-0.6.12-py3-none-any.whl.metadata (4.4 kB)\n",
            "Collecting dwave-inspector==0.5.1 (from dwave-ocean-sdk)\n",
            "  Downloading dwave_inspector-0.5.1-py3-none-any.whl.metadata (4.4 kB)\n",
            "Collecting dwave-neal==0.6.0 (from dwave-ocean-sdk)\n",
            "  Downloading dwave_neal-0.6.0-py3-none-any.whl.metadata (3.0 kB)\n",
            "Collecting dwave-networkx==0.8.15 (from dwave-ocean-sdk)\n",
            "  Downloading dwave_networkx-0.8.15-py3-none-any.whl.metadata (2.6 kB)\n",
            "Collecting dwave-optimization==0.3.0 (from dwave-ocean-sdk)\n",
            "  Downloading dwave_optimization-0.3.0-cp310-cp310-manylinux_2_24_x86_64.manylinux_2_28_x86_64.whl.metadata (17 kB)\n",
            "Collecting dwave-preprocessing==0.6.6 (from dwave-ocean-sdk)\n",
            "  Downloading dwave_preprocessing-0.6.6-cp310-cp310-manylinux_2_17_x86_64.manylinux2014_x86_64.whl.metadata (3.3 kB)\n",
            "Collecting dwave-samplers==1.3.0 (from dwave-ocean-sdk)\n",
            "  Downloading dwave_samplers-1.3.0-cp310-cp310-manylinux_2_17_x86_64.manylinux2014_x86_64.whl.metadata (9.8 kB)\n",
            "Collecting dwave-system==1.26.0 (from dwave-ocean-sdk)\n",
            "  Downloading dwave_system-1.26.0-py3-none-any.whl.metadata (3.8 kB)\n",
            "Collecting dwave-tabu==0.5.0 (from dwave-ocean-sdk)\n",
            "  Downloading dwave_tabu-0.5.0-py3-none-any.whl.metadata (3.3 kB)\n",
            "Collecting dwavebinarycsp==0.3.0 (from dwave-ocean-sdk)\n",
            "  Downloading dwavebinarycsp-0.3.0-py3-none-any.whl.metadata (3.0 kB)\n",
            "Collecting minorminer==0.2.15 (from dwave-ocean-sdk)\n",
            "  Downloading minorminer-0.2.15-cp310-cp310-manylinux_2_17_x86_64.manylinux2014_x86_64.whl.metadata (20 kB)\n",
            "Collecting penaltymodel==1.1.0 (from dwave-ocean-sdk)\n",
            "  Downloading penaltymodel-1.1.0-py3-none-any.whl.metadata (6.5 kB)\n",
            "Requirement already satisfied: numpy>=1.17.3 in /usr/local/lib/python3.10/dist-packages (from dimod==0.12.17->dwave-ocean-sdk) (1.26.4)\n",
            "Requirement already satisfied: requests<3,>=2.25 in /usr/local/lib/python3.10/dist-packages (from requests[socks]<3,>=2.25->dwave-cloud-client==0.13.1->dwave-ocean-sdk) (2.32.3)\n",
            "Requirement already satisfied: urllib3<3,>=1.26 in /usr/local/lib/python3.10/dist-packages (from dwave-cloud-client==0.13.1->dwave-ocean-sdk) (2.2.3)\n",
            "Requirement already satisfied: pydantic<3,>=2 in /usr/local/lib/python3.10/dist-packages (from dwave-cloud-client==0.13.1->dwave-ocean-sdk) (2.9.2)\n",
            "Collecting homebase<2,>=1.0 (from dwave-cloud-client==0.13.1->dwave-ocean-sdk)\n",
            "  Downloading homebase-1.0.1-py2.py3-none-any.whl.metadata (3.3 kB)\n",
            "Requirement already satisfied: click<9,>=7.0 in /usr/local/lib/python3.10/dist-packages (from dwave-cloud-client==0.13.1->dwave-ocean-sdk) (8.1.7)\n",
            "Requirement already satisfied: python-dateutil<3,>=2.7 in /usr/local/lib/python3.10/dist-packages (from dwave-cloud-client==0.13.1->dwave-ocean-sdk) (2.8.2)\n",
            "Collecting plucky<0.5,>=0.4.3 (from dwave-cloud-client==0.13.1->dwave-ocean-sdk)\n",
            "  Downloading plucky-0.4.3-py2.py3-none-any.whl.metadata (4.4 kB)\n",
            "Collecting diskcache<6,>=5.2.1 (from dwave-cloud-client==0.13.1->dwave-ocean-sdk)\n",
            "  Downloading diskcache-5.6.3-py3-none-any.whl.metadata (20 kB)\n",
            "Requirement already satisfied: packaging>=19 in /usr/local/lib/python3.10/dist-packages (from dwave-cloud-client==0.13.1->dwave-ocean-sdk) (24.1)\n",
            "Requirement already satisfied: werkzeug<4,>=2.2 in /usr/local/lib/python3.10/dist-packages (from dwave-cloud-client==0.13.1->dwave-ocean-sdk) (3.0.4)\n",
            "Requirement already satisfied: typing-extensions<5,>=4.5.0 in /usr/local/lib/python3.10/dist-packages (from dwave-cloud-client==0.13.1->dwave-ocean-sdk) (4.12.2)\n",
            "Collecting authlib<2,>=1.2 (from dwave-cloud-client==0.13.1->dwave-ocean-sdk)\n",
            "  Downloading Authlib-1.3.2-py2.py3-none-any.whl.metadata (3.9 kB)\n",
            "Requirement already satisfied: importlib-metadata>=5.0.0 in /usr/local/lib/python3.10/dist-packages (from dwave-cloud-client==0.13.1->dwave-ocean-sdk) (8.5.0)\n",
            "Collecting orjson>=3.10 (from dwave-cloud-client==0.13.1->dwave-ocean-sdk)\n",
            "  Downloading orjson-3.10.7-cp310-cp310-manylinux_2_17_x86_64.manylinux2014_x86_64.whl.metadata (50 kB)\n",
            "\u001b[2K     \u001b[90m━━━━━━━━━━━━━━━━━━━━━━━━━━━━━━━━━━━━━━━━\u001b[0m \u001b[32m50.4/50.4 kB\u001b[0m \u001b[31m5.3 MB/s\u001b[0m eta \u001b[36m0:00:00\u001b[0m\n",
            "\u001b[?25hRequirement already satisfied: networkx in /usr/local/lib/python3.10/dist-packages (from dwave-hybrid==0.6.12->dwave-ocean-sdk) (3.4)\n",
            "Requirement already satisfied: Flask<4,>=2.2 in /usr/local/lib/python3.10/dist-packages (from dwave-inspector==0.5.1->dwave-ocean-sdk) (2.2.5)\n",
            "Requirement already satisfied: scipy>=1.7.3 in /usr/local/lib/python3.10/dist-packages (from dwave-system==1.26.0->dwave-ocean-sdk) (1.13.1)\n",
            "Collecting fasteners>=0.15 (from minorminer==0.2.15->dwave-ocean-sdk)\n",
            "  Downloading fasteners-0.19-py3-none-any.whl.metadata (4.9 kB)\n",
            "Requirement already satisfied: cryptography in /usr/local/lib/python3.10/dist-packages (from authlib<2,>=1.2->dwave-cloud-client==0.13.1->dwave-ocean-sdk) (43.0.1)\n",
            "Requirement already satisfied: Jinja2>=3.0 in /usr/local/lib/python3.10/dist-packages (from Flask<4,>=2.2->dwave-inspector==0.5.1->dwave-ocean-sdk) (3.1.4)\n",
            "Requirement already satisfied: itsdangerous>=2.0 in /usr/local/lib/python3.10/dist-packages (from Flask<4,>=2.2->dwave-inspector==0.5.1->dwave-ocean-sdk) (2.2.0)\n",
            "Requirement already satisfied: zipp>=3.20 in /usr/local/lib/python3.10/dist-packages (from importlib-metadata>=5.0.0->dwave-cloud-client==0.13.1->dwave-ocean-sdk) (3.20.2)\n",
            "Requirement already satisfied: annotated-types>=0.6.0 in /usr/local/lib/python3.10/dist-packages (from pydantic<3,>=2->dwave-cloud-client==0.13.1->dwave-ocean-sdk) (0.7.0)\n",
            "Requirement already satisfied: pydantic-core==2.23.4 in /usr/local/lib/python3.10/dist-packages (from pydantic<3,>=2->dwave-cloud-client==0.13.1->dwave-ocean-sdk) (2.23.4)\n",
            "Requirement already satisfied: six>=1.5 in /usr/local/lib/python3.10/dist-packages (from python-dateutil<3,>=2.7->dwave-cloud-client==0.13.1->dwave-ocean-sdk) (1.16.0)\n",
            "Requirement already satisfied: charset-normalizer<4,>=2 in /usr/local/lib/python3.10/dist-packages (from requests<3,>=2.25->requests[socks]<3,>=2.25->dwave-cloud-client==0.13.1->dwave-ocean-sdk) (3.4.0)\n",
            "Requirement already satisfied: idna<4,>=2.5 in /usr/local/lib/python3.10/dist-packages (from requests<3,>=2.25->requests[socks]<3,>=2.25->dwave-cloud-client==0.13.1->dwave-ocean-sdk) (3.10)\n",
            "Requirement already satisfied: certifi>=2017.4.17 in /usr/local/lib/python3.10/dist-packages (from requests<3,>=2.25->requests[socks]<3,>=2.25->dwave-cloud-client==0.13.1->dwave-ocean-sdk) (2024.8.30)\n",
            "Requirement already satisfied: PySocks!=1.5.7,>=1.5.6 in /usr/local/lib/python3.10/dist-packages (from requests[socks]<3,>=2.25->dwave-cloud-client==0.13.1->dwave-ocean-sdk) (1.7.1)\n",
            "Requirement already satisfied: MarkupSafe>=2.1.1 in /usr/local/lib/python3.10/dist-packages (from werkzeug<4,>=2.2->dwave-cloud-client==0.13.1->dwave-ocean-sdk) (3.0.1)\n",
            "Requirement already satisfied: cffi>=1.12 in /usr/local/lib/python3.10/dist-packages (from cryptography->authlib<2,>=1.2->dwave-cloud-client==0.13.1->dwave-ocean-sdk) (1.17.1)\n",
            "Requirement already satisfied: pycparser in /usr/local/lib/python3.10/dist-packages (from cffi>=1.12->cryptography->authlib<2,>=1.2->dwave-cloud-client==0.13.1->dwave-ocean-sdk) (2.22)\n",
            "Downloading dwave_ocean_sdk-8.0.1-py3-none-any.whl (8.4 kB)\n",
            "Downloading dimod-0.12.17-cp310-cp310-manylinux_2_17_x86_64.manylinux2014_x86_64.whl (9.0 MB)\n",
            "\u001b[2K   \u001b[90m━━━━━━━━━━━━━━━━━━━━━━━━━━━━━━━━━━━━━━━━\u001b[0m \u001b[32m9.0/9.0 MB\u001b[0m \u001b[31m7.1 MB/s\u001b[0m eta \u001b[36m0:00:00\u001b[0m\n",
            "\u001b[?25hDownloading dwave_cloud_client-0.13.1-py3-none-any.whl (158 kB)\n",
            "\u001b[2K   \u001b[90m━━━━━━━━━━━━━━━━━━━━━━━━━━━━━━━━━━━━━━━━\u001b[0m \u001b[32m158.9/158.9 kB\u001b[0m \u001b[31m14.2 MB/s\u001b[0m eta \u001b[36m0:00:00\u001b[0m\n",
            "\u001b[?25hDownloading dwave_gate-0.3.2-cp310-cp310-manylinux_2_17_x86_64.manylinux2014_x86_64.whl (1.5 MB)\n",
            "\u001b[2K   \u001b[90m━━━━━━━━━━━━━━━━━━━━━━━━━━━━━━━━━━━━━━━━\u001b[0m \u001b[32m1.5/1.5 MB\u001b[0m \u001b[31m5.5 MB/s\u001b[0m eta \u001b[36m0:00:00\u001b[0m\n",
            "\u001b[?25hDownloading dwave_greedy-0.3.0-py3-none-any.whl (10 kB)\n",
            "Downloading dwave_hybrid-0.6.12-py3-none-any.whl (77 kB)\n",
            "\u001b[2K   \u001b[90m━━━━━━━━━━━━━━━━━━━━━━━━━━━━━━━━━━━━━━━━\u001b[0m \u001b[32m77.5/77.5 kB\u001b[0m \u001b[31m8.0 MB/s\u001b[0m eta \u001b[36m0:00:00\u001b[0m\n",
            "\u001b[?25hDownloading dwave_inspector-0.5.1-py3-none-any.whl (31 kB)\n",
            "Downloading dwave_neal-0.6.0-py3-none-any.whl (8.7 kB)\n",
            "Downloading dwave_networkx-0.8.15-py3-none-any.whl (102 kB)\n",
            "\u001b[2K   \u001b[90m━━━━━━━━━━━━━━━━━━━━━━━━━━━━━━━━━━━━━━━━\u001b[0m \u001b[32m102.3/102.3 kB\u001b[0m \u001b[31m10.0 MB/s\u001b[0m eta \u001b[36m0:00:00\u001b[0m\n",
            "\u001b[?25hDownloading dwave_optimization-0.3.0-cp310-cp310-manylinux_2_24_x86_64.manylinux_2_28_x86_64.whl (2.4 MB)\n",
            "\u001b[2K   \u001b[90m━━━━━━━━━━━━━━━━━━━━━━━━━━━━━━━━━━━━━━━━\u001b[0m \u001b[32m2.4/2.4 MB\u001b[0m \u001b[31m8.2 MB/s\u001b[0m eta \u001b[36m0:00:00\u001b[0m\n",
            "\u001b[?25hDownloading dwave_preprocessing-0.6.6-cp310-cp310-manylinux_2_17_x86_64.manylinux2014_x86_64.whl (3.3 MB)\n",
            "\u001b[2K   \u001b[90m━━━━━━━━━━━━━━━━━━━━━━━━━━━━━━━━━━━━━━━━\u001b[0m \u001b[32m3.3/3.3 MB\u001b[0m \u001b[31m8.2 MB/s\u001b[0m eta \u001b[36m0:00:00\u001b[0m\n",
            "\u001b[?25hDownloading dwave_samplers-1.3.0-cp310-cp310-manylinux_2_17_x86_64.manylinux2014_x86_64.whl (6.7 MB)\n",
            "\u001b[2K   \u001b[90m━━━━━━━━━━━━━━━━━━━━━━━━━━━━━━━━━━━━━━━━\u001b[0m \u001b[32m6.7/6.7 MB\u001b[0m \u001b[31m5.3 MB/s\u001b[0m eta \u001b[36m0:00:00\u001b[0m\n",
            "\u001b[?25hDownloading dwave_system-1.26.0-py3-none-any.whl (107 kB)\n",
            "\u001b[2K   \u001b[90m━━━━━━━━━━━━━━━━━━━━━━━━━━━━━━━━━━━━━━━━\u001b[0m \u001b[32m107.0/107.0 kB\u001b[0m \u001b[31m11.3 MB/s\u001b[0m eta \u001b[36m0:00:00\u001b[0m\n",
            "\u001b[?25hDownloading dwave_tabu-0.5.0-py3-none-any.whl (9.2 kB)\n",
            "Downloading dwavebinarycsp-0.3.0-py3-none-any.whl (35 kB)\n",
            "Downloading minorminer-0.2.15-cp310-cp310-manylinux_2_17_x86_64.manylinux2014_x86_64.whl (3.3 MB)\n",
            "\u001b[2K   \u001b[90m━━━━━━━━━━━━━━━━━━━━━━━━━━━━━━━━━━━━━━━━\u001b[0m \u001b[32m3.3/3.3 MB\u001b[0m \u001b[31m6.3 MB/s\u001b[0m eta \u001b[36m0:00:00\u001b[0m\n",
            "\u001b[?25hDownloading penaltymodel-1.1.0-py3-none-any.whl (36 kB)\n",
            "Downloading Authlib-1.3.2-py2.py3-none-any.whl (225 kB)\n",
            "\u001b[2K   \u001b[90m━━━━━━━━━━━━━━━━━━━━━━━━━━━━━━━━━━━━━━━━\u001b[0m \u001b[32m225.1/225.1 kB\u001b[0m \u001b[31m21.1 MB/s\u001b[0m eta \u001b[36m0:00:00\u001b[0m\n",
            "\u001b[?25hDownloading diskcache-5.6.3-py3-none-any.whl (45 kB)\n",
            "\u001b[2K   \u001b[90m━━━━━━━━━━━━━━━━━━━━━━━━━━━━━━━━━━━━━━━━\u001b[0m \u001b[32m45.5/45.5 kB\u001b[0m \u001b[31m4.4 MB/s\u001b[0m eta \u001b[36m0:00:00\u001b[0m\n",
            "\u001b[?25hDownloading fasteners-0.19-py3-none-any.whl (18 kB)\n",
            "Downloading homebase-1.0.1-py2.py3-none-any.whl (11 kB)\n",
            "Downloading orjson-3.10.7-cp310-cp310-manylinux_2_17_x86_64.manylinux2014_x86_64.whl (141 kB)\n",
            "\u001b[2K   \u001b[90m━━━━━━━━━━━━━━━━━━━━━━━━━━━━━━━━━━━━━━━━\u001b[0m \u001b[32m141.9/141.9 kB\u001b[0m \u001b[31m15.1 MB/s\u001b[0m eta \u001b[36m0:00:00\u001b[0m\n",
            "\u001b[?25hDownloading plucky-0.4.3-py2.py3-none-any.whl (10 kB)\n",
            "Installing collected packages: plucky, homebase, orjson, fasteners, dwave-optimization, dwave-gate, diskcache, dimod, penaltymodel, dwave-samplers, dwave-preprocessing, dwave-networkx, minorminer, dwavebinarycsp, dwave-tabu, dwave-neal, dwave-greedy, authlib, dwave-cloud-client, dwave-system, dwave-inspector, dwave-hybrid, dwave-ocean-sdk\n",
            "Successfully installed authlib-1.3.2 dimod-0.12.17 diskcache-5.6.3 dwave-cloud-client-0.13.1 dwave-gate-0.3.2 dwave-greedy-0.3.0 dwave-hybrid-0.6.12 dwave-inspector-0.5.1 dwave-neal-0.6.0 dwave-networkx-0.8.15 dwave-ocean-sdk-8.0.1 dwave-optimization-0.3.0 dwave-preprocessing-0.6.6 dwave-samplers-1.3.0 dwave-system-1.26.0 dwave-tabu-0.5.0 dwavebinarycsp-0.3.0 fasteners-0.19 homebase-1.0.1 minorminer-0.2.15 orjson-3.10.7 penaltymodel-1.1.0 plucky-0.4.3\n",
            "Collecting pylatexenc\n",
            "  Downloading pylatexenc-2.10.tar.gz (162 kB)\n",
            "\u001b[2K     \u001b[90m━━━━━━━━━━━━━━━━━━━━━━━━━━━━━━━━━━━━━━━━\u001b[0m \u001b[32m162.6/162.6 kB\u001b[0m \u001b[31m12.8 MB/s\u001b[0m eta \u001b[36m0:00:00\u001b[0m\n",
            "\u001b[?25h  Preparing metadata (setup.py) ... \u001b[?25l\u001b[?25hdone\n",
            "Building wheels for collected packages: pylatexenc\n",
            "  Building wheel for pylatexenc (setup.py) ... \u001b[?25l\u001b[?25hdone\n",
            "  Created wheel for pylatexenc: filename=pylatexenc-2.10-py3-none-any.whl size=136817 sha256=921641671f7170433c3455e22e6f265bc3a7b2480792c8b4671d9f299bd7fb9a\n",
            "  Stored in directory: /root/.cache/pip/wheels/d3/31/8b/e09b0386afd80cfc556c00408c9aeea5c35c4d484a9c762fd5\n",
            "Successfully built pylatexenc\n",
            "Installing collected packages: pylatexenc\n",
            "Successfully installed pylatexenc-2.10\n",
            "Collecting qiskit_aer\n",
            "  Downloading qiskit_aer-0.15.1-cp310-cp310-manylinux_2_17_x86_64.manylinux2014_x86_64.whl.metadata (8.0 kB)\n",
            "Requirement already satisfied: qiskit>=1.1.0 in /usr/local/lib/python3.10/dist-packages (from qiskit_aer) (1.2.4)\n",
            "Requirement already satisfied: numpy>=1.16.3 in /usr/local/lib/python3.10/dist-packages (from qiskit_aer) (1.26.4)\n",
            "Requirement already satisfied: scipy>=1.0 in /usr/local/lib/python3.10/dist-packages (from qiskit_aer) (1.13.1)\n",
            "Requirement already satisfied: psutil>=5 in /usr/local/lib/python3.10/dist-packages (from qiskit_aer) (5.9.5)\n",
            "Requirement already satisfied: rustworkx>=0.15.0 in /usr/local/lib/python3.10/dist-packages (from qiskit>=1.1.0->qiskit_aer) (0.15.1)\n",
            "Requirement already satisfied: sympy>=1.3 in /usr/local/lib/python3.10/dist-packages (from qiskit>=1.1.0->qiskit_aer) (1.13.3)\n",
            "Requirement already satisfied: dill>=0.3 in /usr/local/lib/python3.10/dist-packages (from qiskit>=1.1.0->qiskit_aer) (0.3.9)\n",
            "Requirement already satisfied: python-dateutil>=2.8.0 in /usr/local/lib/python3.10/dist-packages (from qiskit>=1.1.0->qiskit_aer) (2.8.2)\n",
            "Requirement already satisfied: stevedore>=3.0.0 in /usr/local/lib/python3.10/dist-packages (from qiskit>=1.1.0->qiskit_aer) (5.3.0)\n",
            "Requirement already satisfied: typing-extensions in /usr/local/lib/python3.10/dist-packages (from qiskit>=1.1.0->qiskit_aer) (4.12.2)\n",
            "Requirement already satisfied: symengine<0.14,>=0.11 in /usr/local/lib/python3.10/dist-packages (from qiskit>=1.1.0->qiskit_aer) (0.13.0)\n",
            "Requirement already satisfied: six>=1.5 in /usr/local/lib/python3.10/dist-packages (from python-dateutil>=2.8.0->qiskit>=1.1.0->qiskit_aer) (1.16.0)\n",
            "Requirement already satisfied: pbr>=2.0.0 in /usr/local/lib/python3.10/dist-packages (from stevedore>=3.0.0->qiskit>=1.1.0->qiskit_aer) (6.1.0)\n",
            "Requirement already satisfied: mpmath<1.4,>=1.1.0 in /usr/local/lib/python3.10/dist-packages (from sympy>=1.3->qiskit>=1.1.0->qiskit_aer) (1.3.0)\n",
            "Downloading qiskit_aer-0.15.1-cp310-cp310-manylinux_2_17_x86_64.manylinux2014_x86_64.whl (12.3 MB)\n",
            "\u001b[2K   \u001b[90m━━━━━━━━━━━━━━━━━━━━━━━━━━━━━━━━━━━━━━━━\u001b[0m \u001b[32m12.3/12.3 MB\u001b[0m \u001b[31m70.0 MB/s\u001b[0m eta \u001b[36m0:00:00\u001b[0m\n",
            "\u001b[?25hInstalling collected packages: qiskit_aer\n",
            "Successfully installed qiskit_aer-0.15.1\n"
          ]
        }
      ]
    },
    {
      "cell_type": "code",
      "source": [
        "!pip install qiskit-aer-gpu"
      ],
      "metadata": {
        "colab": {
          "base_uri": "https://localhost:8080/"
        },
        "id": "DiOk3dtc0OG-",
        "outputId": "c1fb9027-ab10-43fb-ef08-fe20239b10c1"
      },
      "execution_count": 2,
      "outputs": [
        {
          "output_type": "stream",
          "name": "stdout",
          "text": [
            "Collecting qiskit-aer-gpu\n",
            "  Downloading qiskit_aer_gpu-0.15.1-cp310-cp310-manylinux_2_17_x86_64.manylinux2014_x86_64.whl.metadata (8.3 kB)\n",
            "Requirement already satisfied: qiskit>=1.1.0 in /usr/local/lib/python3.10/dist-packages (from qiskit-aer-gpu) (1.2.4)\n",
            "Requirement already satisfied: numpy>=1.16.3 in /usr/local/lib/python3.10/dist-packages (from qiskit-aer-gpu) (1.26.4)\n",
            "Requirement already satisfied: scipy>=1.0 in /usr/local/lib/python3.10/dist-packages (from qiskit-aer-gpu) (1.13.1)\n",
            "Requirement already satisfied: psutil>=5 in /usr/local/lib/python3.10/dist-packages (from qiskit-aer-gpu) (5.9.5)\n",
            "Requirement already satisfied: nvidia-cuda-runtime-cu12>=12.1.105 in /usr/local/lib/python3.10/dist-packages (from qiskit-aer-gpu) (12.6.77)\n",
            "Requirement already satisfied: nvidia-nvjitlink-cu12 in /usr/local/lib/python3.10/dist-packages (from qiskit-aer-gpu) (12.6.77)\n",
            "Requirement already satisfied: nvidia-cublas-cu12>=12.1.3.1 in /usr/local/lib/python3.10/dist-packages (from qiskit-aer-gpu) (12.6.3.3)\n",
            "Requirement already satisfied: nvidia-cusolver-cu12>=11.4.5.107 in /usr/local/lib/python3.10/dist-packages (from qiskit-aer-gpu) (11.7.1.2)\n",
            "Requirement already satisfied: nvidia-cusparse-cu12>=12.1.0.106 in /usr/local/lib/python3.10/dist-packages (from qiskit-aer-gpu) (12.5.4.2)\n",
            "Collecting cuquantum-cu12>=23.3.0 (from qiskit-aer-gpu)\n",
            "  Downloading cuquantum_cu12-24.8.0-py3-none-manylinux2014_x86_64.whl.metadata (2.7 kB)\n",
            "Collecting custatevec-cu12==1.6.0.post1 (from cuquantum-cu12>=23.3.0->qiskit-aer-gpu)\n",
            "  Downloading custatevec_cu12-1.6.0.post1-py3-none-manylinux2014_x86_64.whl.metadata (2.1 kB)\n",
            "Collecting cutensornet-cu12==2.5.0 (from cuquantum-cu12>=23.3.0->qiskit-aer-gpu)\n",
            "  Downloading cutensornet_cu12-2.5.0-py3-none-manylinux2014_x86_64.whl.metadata (2.0 kB)\n",
            "Collecting cutensor-cu12<3,>=2.0.1 (from cutensornet-cu12==2.5.0->cuquantum-cu12>=23.3.0->qiskit-aer-gpu)\n",
            "  Downloading cutensor_cu12-2.0.2-py3-none-manylinux2014_x86_64.whl.metadata (2.1 kB)\n",
            "Requirement already satisfied: rustworkx>=0.15.0 in /usr/local/lib/python3.10/dist-packages (from qiskit>=1.1.0->qiskit-aer-gpu) (0.15.1)\n",
            "Requirement already satisfied: sympy>=1.3 in /usr/local/lib/python3.10/dist-packages (from qiskit>=1.1.0->qiskit-aer-gpu) (1.13.3)\n",
            "Requirement already satisfied: dill>=0.3 in /usr/local/lib/python3.10/dist-packages (from qiskit>=1.1.0->qiskit-aer-gpu) (0.3.9)\n",
            "Requirement already satisfied: python-dateutil>=2.8.0 in /usr/local/lib/python3.10/dist-packages (from qiskit>=1.1.0->qiskit-aer-gpu) (2.8.2)\n",
            "Requirement already satisfied: stevedore>=3.0.0 in /usr/local/lib/python3.10/dist-packages (from qiskit>=1.1.0->qiskit-aer-gpu) (5.3.0)\n",
            "Requirement already satisfied: typing-extensions in /usr/local/lib/python3.10/dist-packages (from qiskit>=1.1.0->qiskit-aer-gpu) (4.12.2)\n",
            "Requirement already satisfied: symengine<0.14,>=0.11 in /usr/local/lib/python3.10/dist-packages (from qiskit>=1.1.0->qiskit-aer-gpu) (0.13.0)\n",
            "Requirement already satisfied: six>=1.5 in /usr/local/lib/python3.10/dist-packages (from python-dateutil>=2.8.0->qiskit>=1.1.0->qiskit-aer-gpu) (1.16.0)\n",
            "Requirement already satisfied: pbr>=2.0.0 in /usr/local/lib/python3.10/dist-packages (from stevedore>=3.0.0->qiskit>=1.1.0->qiskit-aer-gpu) (6.1.0)\n",
            "Requirement already satisfied: mpmath<1.4,>=1.1.0 in /usr/local/lib/python3.10/dist-packages (from sympy>=1.3->qiskit>=1.1.0->qiskit-aer-gpu) (1.3.0)\n",
            "Downloading qiskit_aer_gpu-0.15.1-cp310-cp310-manylinux_2_17_x86_64.manylinux2014_x86_64.whl (18.8 MB)\n",
            "\u001b[2K   \u001b[90m━━━━━━━━━━━━━━━━━━━━━━━━━━━━━━━━━━━━━━━━\u001b[0m \u001b[32m18.8/18.8 MB\u001b[0m \u001b[31m90.8 MB/s\u001b[0m eta \u001b[36m0:00:00\u001b[0m\n",
            "\u001b[?25hDownloading cuquantum_cu12-24.8.0-py3-none-manylinux2014_x86_64.whl (7.0 kB)\n",
            "Downloading custatevec_cu12-1.6.0.post1-py3-none-manylinux2014_x86_64.whl (38.7 MB)\n",
            "\u001b[2K   \u001b[90m━━━━━━━━━━━━━━━━━━━━━━━━━━━━━━━━━━━━━━━━\u001b[0m \u001b[32m38.7/38.7 MB\u001b[0m \u001b[31m43.1 MB/s\u001b[0m eta \u001b[36m0:00:00\u001b[0m\n",
            "\u001b[?25hDownloading cutensornet_cu12-2.5.0-py3-none-manylinux2014_x86_64.whl (2.2 MB)\n",
            "\u001b[2K   \u001b[90m━━━━━━━━━━━━━━━━━━━━━━━━━━━━━━━━━━━━━━━━\u001b[0m \u001b[32m2.2/2.2 MB\u001b[0m \u001b[31m53.1 MB/s\u001b[0m eta \u001b[36m0:00:00\u001b[0m\n",
            "\u001b[?25hDownloading cutensor_cu12-2.0.2-py3-none-manylinux2014_x86_64.whl (156.9 MB)\n",
            "\u001b[2K   \u001b[90m━━━━━━━━━━━━━━━━━━━━━━━━━━━━━━━━━━━━━━━━\u001b[0m \u001b[32m156.9/156.9 MB\u001b[0m \u001b[31m14.1 MB/s\u001b[0m eta \u001b[36m0:00:00\u001b[0m\n",
            "\u001b[?25hInstalling collected packages: cutensor-cu12, custatevec-cu12, cutensornet-cu12, cuquantum-cu12, qiskit-aer-gpu\n",
            "Successfully installed cuquantum-cu12-24.8.0 custatevec-cu12-1.6.0.post1 cutensor-cu12-2.0.2 cutensornet-cu12-2.5.0 qiskit-aer-gpu-0.15.1\n"
          ]
        }
      ]
    },
    {
      "cell_type": "markdown",
      "source": [
        "# Imports"
      ],
      "metadata": {
        "id": "4Y56wRMYwrim"
      }
    },
    {
      "cell_type": "code",
      "source": [
        "from docplex.mp.model import Model\n",
        "from qiskit import QuantumCircuit\n",
        "from qiskit.circuit import Parameter\n",
        "from qiskit.circuit.library import PauliEvolutionGate\n",
        "from qiskit.quantum_info import Operator\n",
        "from qiskit.quantum_info import SparsePauliOp\n",
        "from qiskit_optimization import QuadraticProgram\n",
        "from qiskit_optimization.translators import from_docplex_mp\n",
        "from qiskit_optimization.converters import InequalityToEquality, IntegerToBinary, LinearEqualityToPenalty\n",
        "from qiskit_optimization.algorithms import CplexOptimizer, MinimumEigenOptimizer\n",
        "from qiskit_optimization import QuadraticProgram\n",
        "from qiskit_optimization.translators import from_docplex_mp\n",
        "from qiskit.primitives import Estimator as AerEstimator\n",
        "from qiskit_algorithms.optimizers import COBYLA\n",
        "\n",
        "import matplotlib.pyplot as plt\n",
        "import numpy as np\n",
        "from scipy.optimize import minimize\n",
        "\n",
        "from dimod import ConstrainedQuadraticModel, Binary\n",
        "from dwave.samplers import SimulatedAnnealingSampler\n",
        "from dimod.reference.samplers import ExactCQMSolver\n"
      ],
      "metadata": {
        "id": "IL7_fp3bwvNO"
      },
      "execution_count": 3,
      "outputs": []
    },
    {
      "cell_type": "markdown",
      "source": [
        "# Utils"
      ],
      "metadata": {
        "id": "xWCX18IGzYKo"
      }
    },
    {
      "cell_type": "code",
      "source": [
        "def data_bins(results, wj, n, m, l=0, simplify=False):\n",
        "    \"\"\"save the results on a dictionary with the three items, bins, items, and index.\n",
        "    results (cplex.solve): results of the optimization\n",
        "    wj: (array (1,m): weights of the items\n",
        "    n: (int) number of items\n",
        "    m: (int) number of bins\n",
        "    \"\"\"\n",
        "    if simplify:\n",
        "        bins = np.ones((m,))\n",
        "        if m-l > 0:\n",
        "            bins[m-l-1:m] = results[:m-l]\n",
        "        items = np.zeros((m,n))\n",
        "        items[:,1:] =  results[m-l:(m-1)*n+m-l].reshape(m,n-1)\n",
        "        items[0,0] = 1\n",
        "        items = items.reshape(m,n) * wj\n",
        "        return {\"bins\":bins, \"items\":items,\"index\":np.arange(m)}\n",
        "    else:\n",
        "        return {\"bins\":results[:m], \"items\":results[m:m+m*n].reshape(m,n) * wj, \"index\":np.arange(m)}\n",
        "def plot_bins(results, wj, n, m, Q, l=0,simplify=False, vqe=False):\n",
        "    \"\"\"plot in a bar diagram the results of an optimization bin packing problem\"\"\"\n",
        "    if vqe:\n",
        "      res = data_bins(results, wj, n, m, l, simplify)\n",
        "    else:\n",
        "      res = data_bins(results.x, wj, n, m, l, simplify)\n",
        "    plt.figure()\n",
        "    ind = res[\"index\"]\n",
        "    plt.bar(ind, res[\"items\"][:,0], label=f\"item {0}\")\n",
        "    suma = bottom=res[\"items\"][:,0]\n",
        "    for j in range(1,n):\n",
        "        plt.bar(ind, res[\"items\"][:,j], bottom=suma, label=f\"item {j}\")\n",
        "        suma += res[\"items\"][:,j]\n",
        "    plt.hlines(Q,0-0.5,m-0.5,linestyle=\"--\", color=\"r\",label=\"Max W\")\n",
        "    plt.xticks(ind)\n",
        "    plt.xlabel(\"Bin\")\n",
        "    plt.ylabel(\"Weight\")\n",
        "    plt.legend()"
      ],
      "metadata": {
        "id": "Z7fNlcSV3F1q"
      },
      "execution_count": 4,
      "outputs": []
    },
    {
      "cell_type": "code",
      "source": [
        "def quantum_annealing_solver(I, w, B, n, num_items):\n",
        "  cqm = ConstrainedQuadraticModel()\n",
        "\n",
        "  # creating the binary variable for bins\n",
        "  bin_used = [Binary(f'bin_used_{j}') for j in range(num_items)]\n",
        "  item_in_bin = [[Binary(f'item_{i}_in_bin_{j}') for i in range(num_items)]\n",
        "      for j in range(n)]\n",
        "\n",
        "  # objective function\n",
        "  cqm.set_objective(sum(bin_used))\n",
        "\n",
        "  #constraints\n",
        "  for i in range(num_items):\n",
        "      one_bin_per_item = cqm.add_constraint(sum(item_in_bin[i]) == 1, label=f'item_placing_{i}')\n",
        "\n",
        "  for j in range(num_items):\n",
        "      bin_up_to_capacity = cqm.add_constraint(\n",
        "          sum(w[i] * item_in_bin[i][j] for i in range(num_items)) - bin_used[j] * B <= 0,\n",
        "          label=f'capacity_bin_{j}')\n"
      ],
      "metadata": {
        "id": "e1j08g0xqqag"
      },
      "execution_count": 5,
      "outputs": []
    },
    {
      "cell_type": "code",
      "source": [
        "# let n = number of items\n",
        "# let m = number of bins, UB = n\n",
        "# Define the ILP formulation of the BPP\n",
        "def create_bin_packing_ILP(I, wj, Q, n):\n",
        "  m = len(I)\n",
        "  mdl = Model(name=\"BinPacking\")\n",
        "  # y_j: binary variable that is 1 if bin j is used, 0 otherwise\n",
        "  x = mdl.binary_var_list([f\"x{i}\" for i in range(n)]) # list of variables that represent the bins\n",
        "  e =  mdl.binary_var_list([f\"e{i//m},{i%m}\" for i in range(n*m)]) # variables that represent the items on the specific bin\n",
        "\n",
        "  objective = mdl.sum([x[i] for i in range(n)])\n",
        "\n",
        "  mdl.minimize(objective)\n",
        "\n",
        "  for j in range(m):\n",
        "      # First set of constraints: the items must be in any bin\n",
        "      constraint0 = mdl.sum([e[i*m+j] for i in range(n)])\n",
        "      mdl.add_constraint(constraint0 == 1, f\"cons0,{j}\")\n",
        "\n",
        "  for i in range(n):\n",
        "      # Second set of constraints: weight constraints\n",
        "      constraint1 = mdl.sum([wj[j] * e[i*m+j] for j in range(m)])\n",
        "      mdl.add_constraint(constraint1 <= Q * x[i], f\"cons1,{i}\")\n",
        "\n",
        "  return mdl, x, e\n",
        "\n",
        "def simplify_model(I, wj, Q, n):\n",
        "  mdl = Model(\"BinPacking_simplify\")\n",
        "  m = len(I)\n",
        "  l = int(np.ceil(np.sum(wj)/Q))\n",
        "  x = mdl.binary_var_list([f\"x{i}\" for i in range(m)]) # list of variables that represent the bins\n",
        "  e =  mdl.binary_var_list([f\"e{i//m},{i%m}\" for i in range(n*m)]) # variables that represent the items on the specific bin\n",
        "\n",
        "  objective = mdl.sum([x[i] for i in range(n)])\n",
        "\n",
        "  mdl.minimize(objective)\n",
        "\n",
        "  for j in range(m):\n",
        "      # First set of constraints: the items must be in any bin\n",
        "      constraint0 = mdl.sum([e[i*m+j] for i in range(n)])\n",
        "      mdl.add_constraint(constraint0 == 1, f\"cons0,{j}\")\n",
        "\n",
        "  for i in range(n):\n",
        "      # Second set of constraints: weight constraints\n",
        "      constraint1 = mdl.sum([wj[j] * e[i*m+j] for j in range(m)])\n",
        "      mdl.add_constraint(constraint1 <= Q * x[i], f\"cons1,{i}\")\n",
        "\n",
        "\n",
        "  # Load quadratic program from docplex model\n",
        "  qp = QuadraticProgram()\n",
        "  qp = from_docplex_mp(mdl)\n",
        "  # Simplifying the problem\n",
        "  for i in range(l):\n",
        "      qp = qp.substitute_variables({f\"x{i}\":1})\n",
        "  qp = qp.substitute_variables({\"e0,0\":1})\n",
        "  for i in range(1,m):\n",
        "      qp = qp.substitute_variables({f\"e{i},0\":0})\n",
        "  print(qp.export_as_lp_string())\n",
        "  return mdl, qp\n",
        "\n",
        "# Create a function to transform the ILP model into a QUBO\n",
        "def convert_to_QUBO(qp):\n",
        "\n",
        "  ineq2eq = InequalityToEquality()\n",
        "  qp_eq = ineq2eq.convert(qp)\n",
        "\n",
        "  int2bin = IntegerToBinary()\n",
        "  qp_eq_bin = int2bin.convert(qp_eq)\n",
        "\n",
        "  lineq2penalty = LinearEqualityToPenalty()\n",
        "  qubo = lineq2penalty.convert(qp_eq_bin)\n",
        "\n",
        "  return qubo"
      ],
      "metadata": {
        "id": "nYEAZfzFhdfP"
      },
      "execution_count": 6,
      "outputs": []
    },
    {
      "cell_type": "code",
      "source": [
        "# brute force solution for BPP\n",
        "\n",
        "def brute_force(I, w, B, n):\n",
        "  max_num_bins = len(I)\n",
        "  bins = [[] for bin in range(max_num_bins)]\n",
        "  curr_bin = 0\n",
        "\n",
        "  for item in I:\n",
        "      # Check if adding the current item exceeds the bin capacity\n",
        "      if np.sum([w[i] for i in bins[curr_bin]]) + w[item] <= B:\n",
        "          bins[curr_bin].append(item)\n",
        "      else:\n",
        "          curr_bin += 1\n",
        "          # Ensure that the current bin doesn't exceed the available number of bins\n",
        "          if curr_bin >= max_num_bins:\n",
        "              print(\"Error: Not enough bins to fit all items\")\n",
        "              break\n",
        "          bins[curr_bin].append(item)\n",
        "\n",
        "  # Output the number of bins used (curr_bin + 1, since curr_bin is zero-indexed)\n",
        "  print(f\"Number of bins used: {curr_bin + 1}\")\n",
        "  print(f\"Item distribution across bins: {bins}\")"
      ],
      "metadata": {
        "id": "ZYsCfzhriFri"
      },
      "execution_count": 7,
      "outputs": []
    },
    {
      "cell_type": "markdown",
      "source": [
        "## Utils: quantum annealing simulations"
      ],
      "metadata": {
        "id": "ynaF1pVJqjjC"
      }
    },
    {
      "cell_type": "code",
      "source": [
        "from dimod import ConstrainedQuadraticModel, Binary\n",
        "from dwave.samplers import SimulatedAnnealingSampler\n",
        "from dimod.reference.samplers import ExactCQMSolver\n",
        "\n",
        "def quantum_annealing_solver(I, w, B, n, num_items):\n",
        "    cqm = ConstrainedQuadraticModel()\n",
        "\n",
        "    # creating the binary variable for bins\n",
        "    bin_used = [Binary(f'bin_used_{j}') for j in range(num_items)]\n",
        "    item_in_bin = [[Binary(f'item_{i}_in_bin_{j}') for i in range(num_items)]\n",
        "        for j in range(n)]\n",
        "\n",
        "    # objective function\n",
        "    cqm.set_objective(sum(bin_used))\n",
        "\n",
        "    #constraints\n",
        "    for i in range(num_items):\n",
        "        one_bin_per_item = cqm.add_constraint(sum(item_in_bin[i]) == 1, label=f'item_placing_{i}')\n",
        "\n",
        "    for j in range(num_items):\n",
        "        bin_up_to_capacity = cqm.add_constraint(\n",
        "            sum(w[i] * item_in_bin[i][j] for i in range(num_items)) - bin_used[j] * B <= 0,\n",
        "            label=f'capacity_bin_{j}')\n",
        "\n",
        "    sampler = ExactCQMSolver()\n",
        "    sampleset = sampler.sample_cqm(cqm,\n",
        "                                  time_limit=180,\n",
        "                                  label=\"Bin Packing Annealing\")\n",
        "    feasible_sampleset = sampleset.filter(lambda row: row.is_feasible)\n",
        "    if len(feasible_sampleset):\n",
        "      best = feasible_sampleset.first\n",
        "\n",
        "    selected_bins = [key for key, val in best.sample.items() if 'bin_used' in key and val]\n",
        "    print(\"{} bins are used.\".format(len(selected_bins)))"
      ],
      "metadata": {
        "id": "2Lf6pTLSrAYr"
      },
      "execution_count": 8,
      "outputs": []
    },
    {
      "cell_type": "markdown",
      "source": [
        "## Utils: VQE"
      ],
      "metadata": {
        "id": "RzgPmYRBrc_G"
      }
    },
    {
      "cell_type": "code",
      "source": [
        "from qiskit_aer.primitives import Estimator as AerEstimator\n",
        "from qiskit.primitives import Estimator\n",
        "from qiskit.circuit.library import TwoLocal, EfficientSU2\n",
        "from qiskit_algorithms import VQE, QAOA\n",
        "from qiskit_algorithms.optimizers import COBYLA\n",
        "from qiskit.primitives import Estimator as QuantumInstance\n",
        "\n",
        "def validate_solution(binary_solution, item_sizes, bin_capacity, num_items, num_bins):\n",
        "    bins = [[] for _ in range(num_bins)]\n",
        "    for i in range(num_items):\n",
        "        for j in range(num_bins):\n",
        "            if binary_solution[i * num_bins + j] == 1:\n",
        "                bins[j].append(item_sizes[i])\n",
        "\n",
        "    flag = True\n",
        "    # Check if bin capacities are exceeded\n",
        "    for bin_idx, bin_items in enumerate(bins):\n",
        "        total_size = sum(bin_items)\n",
        "        if total_size > bin_capacity:\n",
        "            flag *= False\n",
        "            # print(f\"Bin {bin_idx} exceeds capacity with total size {total_size}.\")\n",
        "        else:\n",
        "            flag *= True\n",
        "            # print(f\"Bin {bin_idx} is valid with total size {total_size}.\")\n",
        "\n",
        "    # Check if every item is placed in exactly one bin\n",
        "    for i in range(num_items):\n",
        "        item_placed = sum(binary_solution[i * num_bins + j] for j in range(num_bins))\n",
        "        if item_placed != 1:\n",
        "            flag *= False\n",
        "            # print(f\"Item {i} is placed in {item_placed} bins (should be exactly 1).\")\n",
        "        else:\n",
        "            flag *= True\n",
        "            # print(f\"Item {i} is correctly placed.\")\n",
        "    return flag\n",
        "\n",
        "\n",
        "def solve_with_vqe(qubo, num_qubits, ansatz_type):\n",
        "    def threshold_solution(optimal_parameters, threshold=np.pi/2):\n",
        "      # Convert parameters to binary (0 or 1)\n",
        "      binary_solution = [1 if param > threshold else 0 for param in optimal_parameters]\n",
        "      return binary_solution\n",
        "\n",
        "    op, offset = qubo.to_ising()\n",
        "    ham_op = op\n",
        "\n",
        "    gpu_estimator = AerEstimator(\n",
        "        run_options={\"seed\": 0},\n",
        "        transpile_options={\"seed_transpiler\": 0},)\n",
        "    gpu_estimator.set_options(device='GPU')\n",
        "    gpu_estimator.set_options(cuStateVec_enable=True)\n",
        "\n",
        "    if ansatz_type == \"su2\":\n",
        "      ansatz = EfficientSU2(num_qubits, su2_gates=['rx', 'y'], entanglement='circular', reps=3)\n",
        "    elif ansatz_type == \"two local\":\n",
        "      ansatz = TwoLocal(rotation_blocks='ry', entanglement_blocks='cz', reps=3)\n",
        "\n",
        "    optimizer = COBYLA(maxiter=1000)\n",
        "\n",
        "    # Create VQE instance\n",
        "    vqe = VQE(gpu_estimator, ansatz=ansatz, optimizer=optimizer, )\n",
        "\n",
        "    # Solve using VQE\n",
        "    result = vqe.compute_minimum_eigenvalue(ham_op)\n",
        "\n",
        "    return result\n",
        "\n",
        "def sample_vqe_results(qubo, num_qubits, ansatz_type=\"su2\"):\n",
        "\n",
        "  result = solve_with_vqe(qubo, num_qubits, ansatz_type)\n",
        "  from qiskit_aer import AerSimulator\n",
        "  ansatz = result.optimal_circuit.decompose()\n",
        "  optimal_parameters = result.optimal_parameters\n",
        "\n",
        "  bound_ansatz = ansatz.assign_parameters(optimal_parameters)\n",
        "  bound_ansatz.measure_all()\n",
        "\n",
        "  simulator = AerSimulator()\n",
        "  job = simulator.run(bound_ansatz, shots=2048)\n",
        "  sim_result = job.result()\n",
        "  counts = sim_result.get_counts()\n",
        "\n",
        "  sorted_bitstrings = sorted(counts.items(), key=lambda item: item[1], reverse=True)\n",
        "\n",
        "  # Print the most frequent bitstrings\n",
        "  print(\"Most frequent bitstrings (likely optimal/near-optimal solutions):\")\n",
        "  for bitstring, frequency in sorted_bitstrings[:3]:\n",
        "      print(f\"Bitstring: {bitstring}, Frequency: {frequency}\")\n",
        "\n",
        "  return sorted_bitstrings"
      ],
      "metadata": {
        "id": "OwXyK-PXrfBh"
      },
      "execution_count": 12,
      "outputs": []
    },
    {
      "cell_type": "markdown",
      "source": [
        "## Utils: QAOA"
      ],
      "metadata": {
        "id": "v2FGia4Xzb7y"
      }
    },
    {
      "cell_type": "code",
      "source": [
        "def qaoa_ansatz(gamma, beta, hamiltonian):\n",
        "    n_qubits = hamiltonian.num_qubits\n",
        "    qc = QuantumCircuit(n_qubits)\n",
        "\n",
        "    # Initialize in a uniform superposition state\n",
        "    qc.h(range(n_qubits))\n",
        "\n",
        "    # Apply cost Hamiltonian (e^(-i * gamma * H_cost))\n",
        "    for pauli_term, coeff in zip(hamiltonian.paulis, hamiltonian.coeffs):\n",
        "      evo = PauliEvolutionGate(SparsePauliOp(pauli_term), time=np.real(coeff))\n",
        "      qc.append(evo, range(n_qubits))\n",
        "\n",
        "    # Apply mixing Hamiltonian (e^(-i * beta * X))\n",
        "    for qubit in range(n_qubits):\n",
        "        qc.rx(2 * beta, qubit)\n",
        "\n",
        "    return qc\n",
        "\n",
        "def expectation_value(params, ham_op, estimator):\n",
        "    gamma, beta = params\n",
        "    qc = qaoa_ansatz(gamma, beta, ham_op)\n",
        "\n",
        "    observable = ham_op\n",
        "\n",
        "    job = estimator.run([qc], [observable])\n",
        "    result = job.result()\n",
        "\n",
        "    return np.real(result.values[0])\n",
        "\n",
        "def optimize_qaoa(hamiltonian, estimator, p=1):\n",
        "    def cost_function(params):\n",
        "        return expectation_value(params, hamiltonian, estimator)\n",
        "\n",
        "    initial_params = np.random.uniform(0, np.pi, 2)\n",
        "\n",
        "    optimizer = COBYLA(maxiter=100)\n",
        "    result = minimize(cost_function, initial_params, method=\"cobyla\")\n",
        "\n",
        "    return result\n",
        "\n",
        "def run_qaoa():\n",
        "    # Define the GPU-based AerEstimator\n",
        "    gpu_estimator = AerEstimator()\n",
        "    gpu_estimator.set_options(device='GPU')\n",
        "    gpu_estimator.set_options(cuStateVec_enable=True)\n",
        "\n",
        "\n",
        "    # Create the problem Hamiltonian\n",
        "    hamiltonian = ham_op\n",
        "\n",
        "    # Optimize the QAOA parameters\n",
        "    result = optimize_qaoa(hamiltonian, gpu_estimator)\n",
        "\n",
        "    print(\"Optimal parameters found by QAOA:\", result.x)\n",
        "    print(\"Optimal value (minimized expectation):\", result.fun)\n"
      ],
      "metadata": {
        "id": "7O_DKDDTzjTN"
      },
      "execution_count": 13,
      "outputs": []
    },
    {
      "cell_type": "markdown",
      "source": [
        "# Code"
      ],
      "metadata": {
        "id": "k-lyKpIjwwKN"
      }
    },
    {
      "cell_type": "markdown",
      "source": [
        "Define the ILP formulation of the BPP"
      ],
      "metadata": {
        "id": "c86a50Jtw4hS"
      }
    },
    {
      "cell_type": "code",
      "source": [
        "# Example input data\n",
        "I = [0, 1, 2]  # Set of items, represented by indices\n",
        "w = [2, 3, 4]  # Sizes of the items\n",
        "B = 4      # Bin capacity\n",
        "n = 3             # Maximum number of bins\n",
        "num_items = len(I)\n",
        "\n",
        "# Create the ILP model for bin packing\n",
        "bin_packing_model, _,_ = create_bin_packing_ILP(I, w, B, n)"
      ],
      "metadata": {
        "id": "wmrQt5Jxhq7f"
      },
      "execution_count": 14,
      "outputs": []
    },
    {
      "cell_type": "code",
      "source": [
        "qp = QuadraticProgram()\n",
        "mod = from_docplex_mp(bin_packing_model)\n",
        "print(mod.export_as_lp_string())"
      ],
      "metadata": {
        "colab": {
          "base_uri": "https://localhost:8080/"
        },
        "id": "4o1kALtWiNKC",
        "outputId": "58d251f7-2016-490f-84d8-daeb7f20d36c"
      },
      "execution_count": 15,
      "outputs": [
        {
          "output_type": "stream",
          "name": "stdout",
          "text": [
            "\\ This file has been generated by DOcplex\n",
            "\\ ENCODING=ISO-8859-1\n",
            "\\Problem name: BinPacking\n",
            "\n",
            "Minimize\n",
            " obj: x0 + x1 + x2\n",
            "Subject To\n",
            " cons0,0: _e0,0 + _e1,0 + _e2,0 = 1\n",
            " cons0,1: _e0,1 + _e1,1 + _e2,1 = 1\n",
            " cons0,2: _e0,2 + _e1,2 + _e2,2 = 1\n",
            " cons1,0: - 4 x0 + 2 _e0,0 + 3 _e0,1 + 4 _e0,2 <= 0\n",
            " cons1,1: - 4 x1 + 2 _e1,0 + 3 _e1,1 + 4 _e1,2 <= 0\n",
            " cons1,2: - 4 x2 + 2 _e2,0 + 3 _e2,1 + 4 _e2,2 <= 0\n",
            "\n",
            "Bounds\n",
            " 0 <= x0 <= 1\n",
            " 0 <= x1 <= 1\n",
            " 0 <= x2 <= 1\n",
            " 0 <= _e0,0 <= 1\n",
            " 0 <= _e0,1 <= 1\n",
            " 0 <= _e0,2 <= 1\n",
            " 0 <= _e1,0 <= 1\n",
            " 0 <= _e1,1 <= 1\n",
            " 0 <= _e1,2 <= 1\n",
            " 0 <= _e2,0 <= 1\n",
            " 0 <= _e2,1 <= 1\n",
            " 0 <= _e2,2 <= 1\n",
            "\n",
            "Binaries\n",
            " x0 x1 x2 _e0,0 _e0,1 _e0,2 _e1,0 _e1,1 _e1,2 _e2,0 _e2,1 _e2,2\n",
            "End\n",
            "\n"
          ]
        }
      ]
    },
    {
      "cell_type": "code",
      "source": [
        "qp = mod\n",
        "\n",
        "# Solving Quadratic Program using CPLEX\n",
        "cplex = CplexOptimizer()\n",
        "result = cplex.solve(qp)\n",
        "print(result)\n",
        "plot_bins(result, w, n, len(I), B)"
      ],
      "metadata": {
        "colab": {
          "base_uri": "https://localhost:8080/",
          "height": 487
        },
        "id": "zNG2QI6Fi5WB",
        "outputId": "388f8bb9-6b0c-4731-befe-90ddd6f399d0"
      },
      "execution_count": 16,
      "outputs": [
        {
          "output_type": "stream",
          "name": "stdout",
          "text": [
            "fval=3.0, x0=1.0, x1=1.0, x2=1.0, e0,0=0.0, e0,1=1.0, e0,2=0.0, e1,0=0.0, e1,1=0.0, e1,2=1.0, e2,0=1.0, e2,1=0.0, e2,2=0.0, status=SUCCESS\n"
          ]
        },
        {
          "output_type": "display_data",
          "data": {
            "text/plain": [
              "<Figure size 640x480 with 1 Axes>"
            ],
            "image/png": "[encoded data removed]"
          },
          "metadata": {}
        }
      ]
    },
    {
      "cell_type": "code",
      "source": [
        "simplify_mdl, simplify_qp = simplify_model(I, w, B, n)"
      ],
      "metadata": {
        "colab": {
          "base_uri": "https://localhost:8080/"
        },
        "id": "lohYk7TJjQec",
        "outputId": "b2497be0-302d-4e6d-e832-84429869d583"
      },
      "execution_count": 17,
      "outputs": [
        {
          "output_type": "stream",
          "name": "stdout",
          "text": [
            "\\ This file has been generated by DOcplex\n",
            "\\ ENCODING=ISO-8859-1\n",
            "\\Problem name: BinPacking_simplify\n",
            "\n",
            "Minimize\n",
            " obj: 3\n",
            "Subject To\n",
            " cons0,1: _e0,1 + _e1,1 + _e2,1 = 1\n",
            " cons0,2: _e0,2 + _e1,2 + _e2,2 = 1\n",
            " cons1,0: 3 _e0,1 + 4 _e0,2 <= 2\n",
            " cons1,1: 3 _e1,1 + 4 _e1,2 <= 4\n",
            " cons1,2: 3 _e2,1 + 4 _e2,2 <= 4\n",
            "\n",
            "Bounds\n",
            " 0 <= _e0,1 <= 1\n",
            " 0 <= _e0,2 <= 1\n",
            " 0 <= _e1,1 <= 1\n",
            " 0 <= _e1,2 <= 1\n",
            " 0 <= _e2,1 <= 1\n",
            " 0 <= _e2,2 <= 1\n",
            "\n",
            "Binaries\n",
            " _e0,1 _e0,2 _e1,1 _e1,2 _e2,1 _e2,2\n",
            "End\n",
            "\n"
          ]
        }
      ]
    },
    {
      "cell_type": "code",
      "source": [
        "l = int(np.ceil(np.sum(w)/B))\n",
        "simplify_result = cplex.solve(simplify_qp)\n",
        "print(type(simplify_result.x))\n",
        "plot_bins(simplify_result, w, n, len(I), B, l, simplify=True)"
      ],
      "metadata": {
        "colab": {
          "base_uri": "https://localhost:8080/",
          "height": 467
        },
        "id": "L5-apIObkeUg",
        "outputId": "923b5178-ba34-4932-ae6d-c09cf6399faa"
      },
      "execution_count": 18,
      "outputs": [
        {
          "output_type": "stream",
          "name": "stdout",
          "text": [
            "<class 'numpy.ndarray'>\n"
          ]
        },
        {
          "output_type": "display_data",
          "data": {
            "text/plain": [
              "<Figure size 640x480 with 1 Axes>"
            ],
            "image/png": "[encoded data removed]"
          },
          "metadata": {}
        }
      ]
    },
    {
      "cell_type": "markdown",
      "source": [
        "Create a function to transform the ILP model into a QUBO"
      ],
      "metadata": {
        "id": "WnHEVz1qw6ST"
      }
    },
    {
      "cell_type": "code",
      "source": [
        "qubo = convert_to_QUBO(simplify_qp)\n",
        "print(qubo.export_as_lp_string())"
      ],
      "metadata": {
        "colab": {
          "base_uri": "https://localhost:8080/"
        },
        "id": "30EQR69gg5rU",
        "outputId": "db145ff5-e6f9-430a-e747-11b001d3d786"
      },
      "execution_count": 19,
      "outputs": [
        {
          "output_type": "stream",
          "name": "stdout",
          "text": [
            "\\ This file has been generated by DOcplex\n",
            "\\ ENCODING=ISO-8859-1\n",
            "\\Problem name: BinPacking_simplify\n",
            "\n",
            "Minimize\n",
            " obj: - 14 _e0,1 - 18 _e0,2 - 26 _e1,1 - 34 _e1,2 - 26 _e2,1 - 34 _e2,2\n",
            "      - 4 cons1,0@int_slack@0 - 4 cons1,0@int_slack@1 - 8 cons1,1@int_slack@0\n",
            "      - 16 cons1,1@int_slack@1 - 8 cons1,1@int_slack@2 - 8 cons1,2@int_slack@0\n",
            "      - 16 cons1,2@int_slack@1 - 8 cons1,2@int_slack@2 + [ 20 _e0,1^2\n",
            "      + 48 _e0,1*_e0,2 + 4 _e0,1*_e1,1 + 4 _e0,1*_e2,1\n",
            "      + 12 _e0,1*cons1,0@int_slack@0 + 12 _e0,1*cons1,0@int_slack@1 + 34 _e0,2^2\n",
            "      + 4 _e0,2*_e1,2 + 4 _e0,2*_e2,2 + 16 _e0,2*cons1,0@int_slack@0\n",
            "      + 16 _e0,2*cons1,0@int_slack@1 + 20 _e1,1^2 + 48 _e1,1*_e1,2\n",
            "      + 4 _e1,1*_e2,1 + 12 _e1,1*cons1,1@int_slack@0\n",
            "      + 24 _e1,1*cons1,1@int_slack@1 + 12 _e1,1*cons1,1@int_slack@2 + 34 _e1,2^2\n",
            "      + 4 _e1,2*_e2,2 + 16 _e1,2*cons1,1@int_slack@0\n",
            "      + 32 _e1,2*cons1,1@int_slack@1 + 16 _e1,2*cons1,1@int_slack@2 + 20 _e2,1^2\n",
            "      + 48 _e2,1*_e2,2 + 12 _e2,1*cons1,2@int_slack@0\n",
            "      + 24 _e2,1*cons1,2@int_slack@1 + 12 _e2,1*cons1,2@int_slack@2 + 34 _e2,2^2\n",
            "      + 16 _e2,2*cons1,2@int_slack@0 + 32 _e2,2*cons1,2@int_slack@1\n",
            "      + 16 _e2,2*cons1,2@int_slack@2 + 2 cons1,0@int_slack@0^2\n",
            "      + 4 cons1,0@int_slack@0*cons1,0@int_slack@1 + 2 cons1,0@int_slack@1^2\n",
            "      + 2 cons1,1@int_slack@0^2 + 8 cons1,1@int_slack@0*cons1,1@int_slack@1\n",
            "      + 4 cons1,1@int_slack@0*cons1,1@int_slack@2 + 8 cons1,1@int_slack@1^2\n",
            "      + 8 cons1,1@int_slack@1*cons1,1@int_slack@2 + 2 cons1,1@int_slack@2^2\n",
            "      + 2 cons1,2@int_slack@0^2 + 8 cons1,2@int_slack@0*cons1,2@int_slack@1\n",
            "      + 4 cons1,2@int_slack@0*cons1,2@int_slack@2 + 8 cons1,2@int_slack@1^2\n",
            "      + 8 cons1,2@int_slack@1*cons1,2@int_slack@2 + 2 cons1,2@int_slack@2^2 ]/2\n",
            "      + 41\n",
            "Subject To\n",
            "\n",
            "Bounds\n",
            " 0 <= _e0,1 <= 1\n",
            " 0 <= _e0,2 <= 1\n",
            " 0 <= _e1,1 <= 1\n",
            " 0 <= _e1,2 <= 1\n",
            " 0 <= _e2,1 <= 1\n",
            " 0 <= _e2,2 <= 1\n",
            " 0 <= cons1,0@int_slack@0 <= 1\n",
            " 0 <= cons1,0@int_slack@1 <= 1\n",
            " 0 <= cons1,1@int_slack@0 <= 1\n",
            " 0 <= cons1,1@int_slack@1 <= 1\n",
            " 0 <= cons1,1@int_slack@2 <= 1\n",
            " 0 <= cons1,2@int_slack@0 <= 1\n",
            " 0 <= cons1,2@int_slack@1 <= 1\n",
            " 0 <= cons1,2@int_slack@2 <= 1\n",
            "\n",
            "Binaries\n",
            " _e0,1 _e0,2 _e1,1 _e1,2 _e2,1 _e2,2 cons1,0@int_slack@0 cons1,0@int_slack@1\n",
            " cons1,1@int_slack@0 cons1,1@int_slack@1 cons1,1@int_slack@2 cons1,2@int_slack@0\n",
            " cons1,2@int_slack@1 cons1,2@int_slack@2\n",
            "End\n",
            "\n"
          ]
        }
      ]
    },
    {
      "cell_type": "markdown",
      "source": [
        "Test your function with specific instances (size small, medium, and big)\n"
      ],
      "metadata": {
        "id": "SZza7tpUZUNV"
      }
    },
    {
      "cell_type": "code",
      "source": [
        "result = cplex.solve(qubo)\n",
        "print(result)"
      ],
      "metadata": {
        "colab": {
          "base_uri": "https://localhost:8080/"
        },
        "id": "8QV5x5TkrEOa",
        "outputId": "968f52fa-b0f8-44e3-eb6e-fbd28f45c750"
      },
      "execution_count": 20,
      "outputs": [
        {
          "output_type": "stream",
          "name": "stdout",
          "text": [
            "fval=3.0, e0,1=0.0, e0,2=0.0, e1,1=1.0, e1,2=0.0, e2,1=0.0, e2,2=1.0, cons1,0@int_slack@0=1.0, cons1,0@int_slack@1=1.0, cons1,1@int_slack@0=1.0, cons1,1@int_slack@1=0.0, cons1,1@int_slack@2=0.0, cons1,2@int_slack@0=0.0, cons1,2@int_slack@1=0.0, cons1,2@int_slack@2=0.0, status=SUCCESS\n"
          ]
        }
      ]
    },
    {
      "cell_type": "code",
      "source": [
        "data_bins(result.x, w, n, num_items, l=l, simplify=True)\n",
        "plot_bins(result, w, n, num_items,B, l=l, simplify=True)"
      ],
      "metadata": {
        "colab": {
          "base_uri": "https://localhost:8080/",
          "height": 449
        },
        "id": "QlLQATMKrGZ5",
        "outputId": "4ec1a1e5-3bd8-4002-8f97-957f0a22482b"
      },
      "execution_count": 21,
      "outputs": [
        {
          "output_type": "display_data",
          "data": {
            "text/plain": [
              "<Figure size 640x480 with 1 Axes>"
            ],
            "image/png": "[encoded data removed]"
          },
          "metadata": {}
        }
      ]
    },
    {
      "cell_type": "markdown",
      "source": [
        "Create a Brute Force solver for the QUBO problem and solve the specific instances.\n"
      ],
      "metadata": {
        "id": "9w6tEl2T4MpM"
      }
    },
    {
      "cell_type": "code",
      "source": [
        "brute_force(I, w, B, n)"
      ],
      "metadata": {
        "colab": {
          "base_uri": "https://localhost:8080/"
        },
        "id": "QZZet4LWqcOr",
        "outputId": "6b5ca553-b7f1-4c43-82ba-158ccf35cd22"
      },
      "execution_count": 22,
      "outputs": [
        {
          "output_type": "stream",
          "name": "stdout",
          "text": [
            "Number of bins used: 3\n",
            "Item distribution across bins: [[0], [1], [2]]\n"
          ]
        }
      ]
    },
    {
      "cell_type": "markdown",
      "source": [
        "To solve the QUBO, use quantum annealing simulators. You can use the Dwave Ocean Framework. Here is an example."
      ],
      "metadata": {
        "id": "qRmlDB6RrQ73"
      }
    },
    {
      "cell_type": "code",
      "source": [
        "qa_solution = quantum_annealing_solver(I, w, B, n, num_items)"
      ],
      "metadata": {
        "colab": {
          "base_uri": "https://localhost:8080/"
        },
        "id": "KkQ3HOOuwE-U",
        "outputId": "f297b6d2-cd39-4943-d6b1-0cd3312a455e"
      },
      "execution_count": 23,
      "outputs": [
        {
          "output_type": "stream",
          "name": "stdout",
          "text": [
            "3 bins are used.\n"
          ]
        },
        {
          "output_type": "stream",
          "name": "stderr",
          "text": [
            "<ipython-input-8-0e9fe796511d>:26: SamplerUnknownArgWarning: Ignoring unknown kwarg: 'time_limit'\n",
            "  sampleset = sampler.sample_cqm(cqm,\n",
            "<ipython-input-8-0e9fe796511d>:26: SamplerUnknownArgWarning: Ignoring unknown kwarg: 'label'\n",
            "  sampleset = sampler.sample_cqm(cqm,\n"
          ]
        }
      ]
    },
    {
      "cell_type": "markdown",
      "source": [
        "Use a Quantum Variational approach to solve the QUBO."
      ],
      "metadata": {
        "id": "z6ZGPzOBEhXF"
      }
    },
    {
      "cell_type": "code",
      "source": [
        "op, offset = qubo.to_ising()\n",
        "bitstrings = sample_vqe_results(qubo, op.num_qubits)"
      ],
      "metadata": {
        "colab": {
          "base_uri": "https://localhost:8080/"
        },
        "id": "LdRFSTTQRxVe",
        "outputId": "745d2de3-e818-4e2f-ba8e-c589b28fc6e8"
      },
      "execution_count": 24,
      "outputs": [
        {
          "output_type": "stream",
          "name": "stderr",
          "text": [
            "<ipython-input-12-b40951631026>:70: DeprecationWarning: Estimator has been deprecated as of Aer 0.15, please use EstimatorV2 instead.\n",
            "  result = solve_with_vqe(qubo, num_qubits, ansatz_type)\n",
            "<ipython-input-12-b40951631026>:70: DeprecationWarning: Option approximation=False is deprecated as of qiskit-aer 0.13. It will be removed no earlier than 3 months after the release date. Instead, use BackendEstimator from qiskit.primitives.\n",
            "  result = solve_with_vqe(qubo, num_qubits, ansatz_type)\n"
          ]
        },
        {
          "output_type": "stream",
          "name": "stdout",
          "text": [
            "Most frequent bitstrings (likely optimal/near-optimal solutions):\n",
            "Bitstring: 01000000101110, Frequency: 4\n",
            "Bitstring: 00000010100010, Frequency: 4\n",
            "Bitstring: 00011100011001, Frequency: 4\n"
          ]
        }
      ]
    },
    {
      "cell_type": "code",
      "source": [
        "l = int(np.ceil(np.sum(w)/B))\n",
        "for bitstring in bitstrings[:3]:\n",
        "  # print(bitstring[0])\n",
        "  res = np.array([int(bit) for bit in bitstring[0]])\n",
        "  # flag = validate_solution(res, w, B, num_items, n)\n",
        "  plot_bins(res, w, n, len(I), B, l, simplify=True, vqe=True)"
      ],
      "metadata": {
        "colab": {
          "base_uri": "https://localhost:8080/",
          "height": 1000
        },
        "id": "cK0-qncyaKnP",
        "outputId": "7148f4f7-620a-4259-decb-ef24ea39743d"
      },
      "execution_count": 25,
      "outputs": [
        {
          "output_type": "display_data",
          "data": {
            "text/plain": [
              "<Figure size 640x480 with 1 Axes>"
            ],
            "image/png": "[encoded data removed]"
          },
          "metadata": {}
        },
        {
          "output_type": "display_data",
          "data": {
            "text/plain": [
              "<Figure size 640x480 with 1 Axes>"
            ],
            "image/png": "[encoded data removed]"
          },
          "metadata": {}
        },
        {
          "output_type": "display_data",
          "data": {
            "text/plain": [
              "<Figure size 640x480 with 1 Axes>"
            ],
            "image/png": "[encoded data removed]"
          },
          "metadata": {}
        }
      ]
    },
    {
      "cell_type": "markdown",
      "source": [
        "Use QAOA to solve the QUBO."
      ],
      "metadata": {
        "id": "0mCGdoVgNP1-"
      }
    },
    {
      "cell_type": "code",
      "source": [
        "op, offset = qubo.to_ising()\n",
        "ham_op = op\n",
        "ham_op"
      ],
      "metadata": {
        "colab": {
          "base_uri": "https://localhost:8080/"
        },
        "id": "QJuH3ep2u2Ri",
        "outputId": "8d564dc6-7629-4798-ed6b-f60e24c899dc"
      },
      "execution_count": 26,
      "outputs": [
        {
          "output_type": "execute_result",
          "data": {
            "text/plain": [
              "SparsePauliOp(['IIIIIIIIIIIIIZ', 'IIIIIIIIIIIZII', 'IIIIIIIIIZIIII', 'IIIIIIIIIIIIZI', 'IIIIIIIIIIZIII', 'IIIIIIIIZIIIII', 'IIIIIIIZIIIIII', 'IIIIIIZIIIIIII', 'IIIIIZIIIIIIII', 'IIIIZIIIIIIIII', 'IIIZIIIIIIIIII', 'IIZIIIIIIIIIII', 'IZIIIIIIIIIIII', 'ZIIIIIIIIIIIII', 'IIIIIIIIIIIIZZ', 'IIIIIIIIIIIZIZ', 'IIIIIIIIIZIIIZ', 'IIIIIIIZIIIIIZ', 'IIIIIIZIIIIIIZ', 'IIIIIIIIIIZIZI', 'IIIIIIIIZIIIZI', 'IIIIIIIZIIIIZI', 'IIIIIIZIIIIIZI', 'IIIIIIIIIIZZII', 'IIIIIIIIIZIZII', 'IIIIIZIIIIIZII', 'IIIIZIIIIIIZII', 'IIIZIIIIIIIZII', 'IIIIIIIIZIZIII', 'IIIIIZIIIIZIII', 'IIIIZIIIIIZIII', 'IIIZIIIIIIZIII', 'IIIIIIIIZZIIII', 'IIZIIIIIIZIIII', 'IZIIIIIIIZIIII', 'ZIIIIIIIIZIIII', 'IIZIIIIIZIIIII', 'IZIIIIIIZIIIII', 'ZIIIIIIIZIIIII', 'IIIIIIZZIIIIII', 'IIIIZZIIIIIIII', 'IIIZIZIIIIIIII', 'IIIZZIIIIIIIII', 'IZZIIIIIIIIIII', 'ZIZIIIIIIIIIII', 'ZZIIIIIIIIIIII'],\n",
              "              coeffs=[ -8. +0.j,  -5. +0.j,  -5. +0.j, -10.5+0.j,  -6.5+0.j,  -6.5+0.j,\n",
              "  -2.5+0.j,  -2.5+0.j,  -1.5+0.j,  -3. +0.j,  -1.5+0.j,  -1.5+0.j,\n",
              "  -3. +0.j,  -1.5+0.j,   6. +0.j,   0.5+0.j,   0.5+0.j,   1.5+0.j,\n",
              "   1.5+0.j,   0.5+0.j,   0.5+0.j,   2. +0.j,   2. +0.j,   6. +0.j,\n",
              "   0.5+0.j,   1.5+0.j,   3. +0.j,   1.5+0.j,   0.5+0.j,   2. +0.j,\n",
              "   4. +0.j,   2. +0.j,   6. +0.j,   1.5+0.j,   3. +0.j,   1.5+0.j,\n",
              "   2. +0.j,   4. +0.j,   2. +0.j,   0.5+0.j,   1. +0.j,   0.5+0.j,\n",
              "   1. +0.j,   1. +0.j,   0.5+0.j,   1. +0.j])"
            ]
          },
          "metadata": {},
          "execution_count": 26
        }
      ]
    },
    {
      "cell_type": "code",
      "source": [
        "run_qaoa()"
      ],
      "metadata": {
        "id": "DoCPG63p2SXf",
        "colab": {
          "base_uri": "https://localhost:8080/"
        },
        "outputId": "2a03e710-cdb3-4086-94d1-4233aee26604"
      },
      "execution_count": 27,
      "outputs": [
        {
          "output_type": "stream",
          "name": "stderr",
          "text": [
            "<ipython-input-27-00691c529f9b>:1: DeprecationWarning: Estimator has been deprecated as of Aer 0.15, please use EstimatorV2 instead.\n",
            "  run_qaoa()\n",
            "<ipython-input-27-00691c529f9b>:1: DeprecationWarning: Option approximation=False is deprecated as of qiskit-aer 0.13. It will be removed no earlier than 3 months after the release date. Instead, use BackendEstimator from qiskit.primitives.\n",
            "  run_qaoa()\n"
          ]
        },
        {
          "output_type": "stream",
          "name": "stdout",
          "text": [
            "Optimal parameters found by QAOA: [2.03269319 0.01991058]\n",
            "Optimal value (minimized expectation): 0.6806640625\n"
          ]
        }
      ]
    },
    {
      "cell_type": "code",
      "source": [
        "gamma = result.x[0]\n",
        "beta = result.x[1]"
      ],
      "metadata": {
        "id": "Olp4C68j1rYE"
      },
      "execution_count": 28,
      "outputs": []
    },
    {
      "cell_type": "code",
      "source": [
        "from qiskit.primitives import Sampler\n",
        "\n",
        "# Step 1: Run the QAOA circuit and sample bitstrings using Sampler\n",
        "def sample_bitstrings(gamma, beta, hamiltonian, shots=1024):\n",
        "    qc = qaoa_ansatz(gamma, beta, hamiltonian)\n",
        "\n",
        "    # Use the Sampler primitive to sample bitstrings\n",
        "    sampler = Sampler()\n",
        "    qc.measure_all()\n",
        "    # Run the circuit with the sampler to get samples\n",
        "    job = sampler.run(circuits=[qc], shots=shots)\n",
        "    result = job.result()\n",
        "\n",
        "    # Get the bitstring samples (counts as a quasi-distribution)\n",
        "    counts = result.quasi_dists[0]\n",
        "    return counts\n",
        "\n",
        "# Step 2: Evaluate the cost function for each bitstring\n",
        "def evaluate_bitstring(bitstring, hamiltonian):\n",
        "    \"\"\"Evaluate the cost (Hamiltonian value) for a given bitstring.\"\"\"\n",
        "    bit_array = np.array([1 if b == '1' else -1 for b in bitstring])  # Convert '1' -> 1, '0' -> -1\n",
        "    cost = 0.0\n",
        "    for pauli, coeff in zip(hamiltonian.primitive.paulis, hamiltonian.coeffs):\n",
        "        value = np.prod([bit_array[i] if p != 'I' else 1 for i, p in enumerate(pauli.to_label())])\n",
        "        cost += coeff * value\n",
        "    return cost.real\n",
        "\n",
        "# Step 3: Post-processing to find the best bitstring\n",
        "def find_best_bitstring(counts, hamiltonian):\n",
        "    \"\"\"Given sampled bitstrings and their counts, find the best bitstring.\"\"\"\n",
        "    best_bitstring = None\n",
        "    best_cost = float('inf')\n",
        "\n",
        "    # Convert quasi-probability distribution to actual bitstrings and evaluate them\n",
        "    for bitstring, count in counts.items():\n",
        "        bitstring = format(int(bitstring, 16), f'0{hamiltonian.num_qubits}b')  # Convert hex to binary string\n",
        "        cost = evaluate_bitstring(bitstring, hamiltonian)\n",
        "        if cost < best_cost:\n",
        "            best_cost = cost\n",
        "            best_bitstring = bitstring\n",
        "\n",
        "    return best_bitstring, best_cost"
      ],
      "metadata": {
        "id": "sddhsFSiyhJL"
      },
      "execution_count": 29,
      "outputs": []
    },
    {
      "cell_type": "code",
      "source": [
        "bitsrings = sample_bitstrings(gamma, beta, ham_op)\n",
        "l = int(np.ceil(np.sum(w)/B))\n",
        "for bitstring in bitstrings[:3]:\n",
        "  # print(bitstring[0])\n",
        "  res = np.array([int(bit) for bit in bitstring[0]])\n",
        "  # flag = validate_solution(res, w, B, num_items, n)\n",
        "  plot_bins(res, w, n, len(I), B, l, simplify=True, vqe=True)"
      ],
      "metadata": {
        "colab": {
          "base_uri": "https://localhost:8080/",
          "height": 1000
        },
        "id": "PL2WY2lkmkfQ",
        "outputId": "45370412-c271-406e-a180-1232e7ae5de0"
      },
      "execution_count": 30,
      "outputs": [
        {
          "output_type": "stream",
          "name": "stderr",
          "text": [
            "<ipython-input-29-6148a78df942>:8: DeprecationWarning: The class ``qiskit.primitives.sampler.Sampler`` is deprecated as of qiskit 1.2. It will be removed no earlier than 3 months after the release date. All implementations of the `BaseSamplerV1` interface have been deprecated in favor of their V2 counterparts. The V2 alternative for the `Sampler` class is `StatevectorSampler`.\n",
            "  sampler = Sampler()\n"
          ]
        },
        {
          "output_type": "display_data",
          "data": {
            "text/plain": [
              "<Figure size 640x480 with 1 Axes>"
            ],
            "image/png": "[encoded data removed]"
          },
          "metadata": {}
        },
        {
          "output_type": "display_data",
          "data": {
            "text/plain": [
              "<Figure size 640x480 with 1 Axes>"
            ],
            "image/png": "[encoded data removed]"
          },
          "metadata": {}
        },
        {
          "output_type": "display_data",
          "data": {
            "text/plain": [
              "<Figure size 640x480 with 1 Axes>"
            ],
            "image/png": "[encoded data removed]"
          },
          "metadata": {}
        }
      ]
    },
    {
      "cell_type": "markdown",
      "source": [
        "# Compare and analyze the results"
      ],
      "metadata": {
        "id": "K1PdL7d90Er2"
      }
    },
    {
      "cell_type": "markdown",
      "source": [
        "What is the difference between QAOA, Quantum Annealing, and Quantum Variational approaches with different Ansatz?\n",
        "\n",
        "| **Feature**                     | **QAOA**                                                      | **Quantum Annealing**                                         | **Variational Quantum Approaches (VQE)**                    |\n",
        "|----------------------------------|---------------------------------------------------------------|---------------------------------------------------------------|-------------------------------------------------------------|\n",
        "| **Quantum-Classical Hybrid**     | Yes, classical optimization for parameter tuning              | No, fully quantum but evolves the system adiabatically         | Yes, classical optimizer for ansatz parameter tuning         |\n",
        "| **Ansatz**                       | Yes, fixed (problem-inspired) ansatz                          | No ansatz, natural evolution under problem Hamiltonian         | Yes, customizable ansatz (e.g., UCCSD, hardware-efficient)   |\n",
        "| **Optimization Focus**           | Combinatorial optimization (e.g., MAXCUT, QUBO)               | Optimization problems formulated as Ising/QUBO problems        | Broad (e.g., quantum chemistry, combinatorial optimization)  |\n",
        "| **Quantum Circuit Depth**        | Depends on \\( p \\) layers (increases with accuracy)           | Not gate-based (analog computation)                           | Varies by ansatz, depth increases with accuracy and complexity |\n",
        "| **Energy Landscape Exploration** | Explores discrete solutions by varying quantum circuit layers | Gradual energy minimization by adiabatic evolution             | Energy minimization using quantum circuit and classical optimizer |\n",
        "| **Hardware Requirements**        | Gate-based quantum computers (IBM Q, Rigetti, etc.)           | Specialized hardware (D-Wave, quantum annealers)               | Gate-based quantum computers                                 |\n"
      ],
      "metadata": {
        "id": "ilp6plqh0Jf5"
      }
    },
    {
      "cell_type": "markdown",
      "source": [
        "How do the results compare with the brute force approach?\n",
        "\n",
        "For smaller problem instances, the brute force approach outperforms both the variational algorithm and QAOA in terms of accuracy. However, quantum annealing consistently provides accurate results across all problem sizes, maintaining its performance even as the problem scales."
      ],
      "metadata": {
        "id": "f8G_0XYr0fP3"
      }
    }
  ]
}